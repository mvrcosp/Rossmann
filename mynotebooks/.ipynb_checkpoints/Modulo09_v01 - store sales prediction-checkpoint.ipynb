{
 "cells": [
  {
   "cell_type": "markdown",
   "metadata": {},
   "source": [
    "# 0.0 Imports"
   ]
  },
  {
   "cell_type": "code",
   "execution_count": 22,
   "metadata": {
    "execution": {
     "iopub.execute_input": "2022-01-20T19:32:23.736376Z",
     "iopub.status.busy": "2022-01-20T19:32:23.735879Z",
     "iopub.status.idle": "2022-01-20T19:32:32.758684Z",
     "shell.execute_reply": "2022-01-20T19:32:32.757987Z",
     "shell.execute_reply.started": "2022-01-20T19:32:23.736342Z"
    }
   },
   "outputs": [],
   "source": [
    "!pip install inflection"
   ]
  },
  {
   "cell_type": "code",
   "execution_count": 23,
   "metadata": {
    "execution": {
     "iopub.execute_input": "2022-01-20T19:32:32.760427Z",
     "iopub.status.busy": "2022-01-20T19:32:32.760169Z",
     "iopub.status.idle": "2022-01-20T19:32:49.178283Z",
     "shell.execute_reply": "2022-01-20T19:32:49.177276Z",
     "shell.execute_reply.started": "2022-01-20T19:32:32.760402Z"
    }
   },
   "outputs": [],
   "source": [
    "!pip install xgboost==0.90"
   ]
  },
  {
   "cell_type": "code",
   "execution_count": 24,
   "metadata": {
    "ExecuteTime": {
     "end_time": "2021-12-03T21:37:03.005843Z",
     "start_time": "2021-12-03T21:36:51.77493Z"
    },
    "execution": {
     "iopub.execute_input": "2022-01-20T19:32:49.180021Z",
     "iopub.status.busy": "2022-01-20T19:32:49.179711Z",
     "iopub.status.idle": "2022-01-20T19:32:50.640605Z",
     "shell.execute_reply": "2022-01-20T19:32:50.639755Z",
     "shell.execute_reply.started": "2022-01-20T19:32:49.179978Z"
    },
    "scrolled": true
   },
   "outputs": [],
   "source": [
    "import math\n",
    "import pickle\n",
    "\n",
    "import pandas as pd\n",
    "import numpy as np\n",
    "import inflection\n",
    "\n",
    "import matplotlib.pyplot as plt\n",
    "import seaborn as sns\n",
    "import xgboost as xgb\n",
    "\n",
    "from scipy import stats as ss\n",
    "#from boruta import BorutaPy\n",
    "\n",
    "from sklearn.preprocessing import RobustScaler, MinMaxScaler, LabelEncoder\n",
    "from sklearn.ensemble      import RandomForestRegressor\n",
    "from sklearn.linear_model  import LinearRegression, Lasso\n",
    "from sklearn.metrics       import mean_absolute_error, mean_squared_error #mean_absolute_percentage_error\n",
    "\n",
    "from IPython.core.display import HTML\n",
    "from IPython.display      import Image"
   ]
  },
  {
   "cell_type": "markdown",
   "metadata": {},
   "source": [
    "## 0.1 Helper Functions"
   ]
  },
  {
   "cell_type": "code",
   "execution_count": 25,
   "metadata": {
    "ExecuteTime": {
     "end_time": "2021-12-03T21:26:07.905025Z",
     "start_time": "2021-12-03T21:26:07.892306Z"
    },
    "execution": {
     "iopub.execute_input": "2022-01-20T19:32:50.643430Z",
     "iopub.status.busy": "2022-01-20T19:32:50.642933Z",
     "iopub.status.idle": "2022-01-20T19:32:50.679435Z",
     "shell.execute_reply": "2022-01-20T19:32:50.678330Z",
     "shell.execute_reply.started": "2022-01-20T19:32:50.643386Z"
    }
   },
   "outputs": [],
   "source": [
    "def jupyter_settings():\n",
    "    %matplotlib inline\n",
    "    %pylab inline\n",
    "    \n",
    "    plt.style.use( 'bmh' )\n",
    "    plt.rcParams['figure.figsize'] = [25, 12]\n",
    "    plt.rcParams['font.size'] = 24\n",
    "    \n",
    "    display( HTML( '<style>.container { width:100% !important; }</style>') )\n",
    "    pd.options.display.max_columns = None\n",
    "    pd.options.display.max_rows = None\n",
    "    pd.set_option( 'display.expand_frame_repr', False )\n",
    "    \n",
    "    sns.set()\n",
    "    \n",
    "def cramer_v( x, y ):\n",
    "    cm = pd.crosstab( x, y ).values\n",
    "    n = cm.sum()\n",
    "    r, k = cm.shape\n",
    "\n",
    "    chi2 = ss.chi2_contingency( cm )[0]\n",
    "    chi2corr = max( 0, chi2 - (k-1)*(r-1)/(n-1) )\n",
    "\n",
    "    kcorr = k - (k-1)**2/(n-1)\n",
    "    rcorr = r - (r-1)**2/(n-1)\n",
    "    return np.sqrt( (chi2corr/n) / ( min( kcorr-1, rcorr-1 ) ) )\n",
    "\n",
    "def mean_percentage_error( y, yhat ):\n",
    "    return np.mean( ( y - yhat ) / y )\n",
    "     \n",
    "    \n",
    "def mean_absolute_percentage_error( y, yhat ):\n",
    "    return np.mean( np.abs( ( y - yhat ) / y ) )\n",
    "\n",
    "    \n",
    "def ml_error( model_name, y, yhat ):\n",
    "    mae = mean_absolute_error( y, yhat )\n",
    "    mape = mean_absolute_percentage_error( y, yhat )\n",
    "    rmse = np.sqrt( mean_squared_error( y, yhat ) )\n",
    "    \n",
    "    return pd.DataFrame( { 'Model Name': model_name, \n",
    "                           'MAE': mae, \n",
    "                           'MAPE': mape,\n",
    "                           'RMSE': rmse }, index=[0] )\n",
    "\n",
    "def ts_cross_validation( x_training, kfold, model_name, model, verbose=False ):\n",
    "    mae_list = []\n",
    "    mape_list = []\n",
    "    rmse_list = []\n",
    "    for k in reversed( range( 1, kfold+1 ) ):\n",
    "        if verbose:\n",
    "            print( '\\nKFold Number: {}'.format( k ) )\n",
    "        # start and end date for validation \n",
    "        validation_start_date = x_training['date'].max() - datetime.timedelta( days=k*6*7)\n",
    "        validation_end_date = x_training['date'].max() - datetime.timedelta( days=(k-1)*6*7)\n",
    "\n",
    "        # filtering dataset\n",
    "        training = x_training[x_training['date'] < validation_start_date]\n",
    "        validation = x_training[(x_training['date'] >= validation_start_date) & (x_training['date'] <= validation_end_date)]\n",
    "\n",
    "        # training and validation dataset\n",
    "        # training\n",
    "        xtraining = training.drop( ['date', 'sales'], axis=1 ) \n",
    "        ytraining = training['sales']\n",
    "\n",
    "        # validation\n",
    "        xvalidation = validation.drop( ['date', 'sales'], axis=1 )\n",
    "        yvalidation = validation['sales']\n",
    "\n",
    "        # model\n",
    "        m = model.fit( xtraining, ytraining )\n",
    "\n",
    "        # prediction\n",
    "        yhat = m.predict( xvalidation )\n",
    "\n",
    "        # performance\n",
    "        m_result = ml_error( model_name, np.expm1( yvalidation ), np.expm1( yhat ) )\n",
    "\n",
    "        # store performance of each kfold iteration\n",
    "        mae_list.append(  m_result['MAE'] )\n",
    "        mape_list.append( m_result['MAPE'] )\n",
    "        rmse_list.append( m_result['RMSE'] )\n",
    "\n",
    "    return pd.DataFrame( {'Model Name': model_name,\n",
    "                          'MAE CV': np.round( np.mean( mae_list ), 2 ).astype( str ) + ' +/- ' + np.round( np.std( mae_list ), 2 ).astype( str ),\n",
    "                          'MAPE CV': np.round( np.mean( mape_list ), 2 ).astype( str ) + ' +/- ' + np.round( np.std( mape_list ), 2 ).astype( str ),\n",
    "                          'RMSE CV': np.round( np.mean( rmse_list ), 2 ).astype( str ) + ' +/- ' + np.round( np.std( rmse_list ), 2 ).astype( str ) }, index=[0] )\n"
   ]
  },
  {
   "cell_type": "code",
   "execution_count": 26,
   "metadata": {
    "ExecuteTime": {
     "end_time": "2021-12-03T21:26:08.126695Z",
     "start_time": "2021-12-03T21:26:07.907349Z"
    },
    "execution": {
     "iopub.execute_input": "2022-01-20T19:32:50.680767Z",
     "iopub.status.busy": "2022-01-20T19:32:50.680560Z",
     "iopub.status.idle": "2022-01-20T19:32:50.707681Z",
     "shell.execute_reply": "2022-01-20T19:32:50.706752Z",
     "shell.execute_reply.started": "2022-01-20T19:32:50.680742Z"
    }
   },
   "outputs": [],
   "source": [
    "jupyter_settings()"
   ]
  },
  {
   "cell_type": "markdown",
   "metadata": {},
   "source": [
    "## 0.2 Loading Data"
   ]
  },
  {
   "cell_type": "code",
   "execution_count": 27,
   "metadata": {
    "ExecuteTime": {
     "end_time": "2021-12-03T21:26:08.810487Z",
     "start_time": "2021-12-03T21:26:08.130325Z"
    },
    "execution": {
     "iopub.execute_input": "2022-01-20T19:32:50.709034Z",
     "iopub.status.busy": "2022-01-20T19:32:50.708806Z",
     "iopub.status.idle": "2022-01-20T19:32:51.777559Z",
     "shell.execute_reply": "2022-01-20T19:32:51.776423Z",
     "shell.execute_reply.started": "2022-01-20T19:32:50.709008Z"
    },
    "scrolled": true
   },
   "outputs": [],
   "source": [
    "df_sales_raw = pd.read_csv(\"/kaggle/input/rossmann-store-sales/train.csv\", low_memory=False)\n",
    "df_store_raw = pd.read_csv(\"/kaggle/input/rossmann-store-sales/store.csv\", low_memory=False)"
   ]
  },
  {
   "cell_type": "code",
   "execution_count": 28,
   "metadata": {
    "ExecuteTime": {
     "end_time": "2021-12-03T21:26:08.825904Z",
     "start_time": "2021-12-03T21:26:08.81189Z"
    },
    "execution": {
     "iopub.execute_input": "2022-01-20T19:32:51.779695Z",
     "iopub.status.busy": "2022-01-20T19:32:51.779182Z",
     "iopub.status.idle": "2022-01-20T19:32:51.798468Z",
     "shell.execute_reply": "2022-01-20T19:32:51.797581Z",
     "shell.execute_reply.started": "2022-01-20T19:32:51.779602Z"
    }
   },
   "outputs": [],
   "source": [
    "df_sales_raw.head()"
   ]
  },
  {
   "cell_type": "code",
   "execution_count": 29,
   "metadata": {
    "ExecuteTime": {
     "end_time": "2021-12-03T21:26:09.032757Z",
     "start_time": "2021-12-03T21:26:08.830393Z"
    },
    "execution": {
     "iopub.execute_input": "2022-01-20T19:32:51.800080Z",
     "iopub.status.busy": "2022-01-20T19:32:51.799831Z",
     "iopub.status.idle": "2022-01-20T19:32:51.818772Z",
     "shell.execute_reply": "2022-01-20T19:32:51.817827Z",
     "shell.execute_reply.started": "2022-01-20T19:32:51.800051Z"
    }
   },
   "outputs": [],
   "source": [
    "df_store_raw.head()"
   ]
  },
  {
   "cell_type": "code",
   "execution_count": 30,
   "metadata": {
    "ExecuteTime": {
     "end_time": "2021-12-03T21:26:09.510497Z",
     "start_time": "2021-12-03T21:26:09.037836Z"
    },
    "execution": {
     "iopub.execute_input": "2022-01-20T19:32:51.820753Z",
     "iopub.status.busy": "2022-01-20T19:32:51.820259Z",
     "iopub.status.idle": "2022-01-20T19:32:52.299204Z",
     "shell.execute_reply": "2022-01-20T19:32:52.298250Z",
     "shell.execute_reply.started": "2022-01-20T19:32:51.820707Z"
    }
   },
   "outputs": [],
   "source": [
    "df_raw = pd.merge(df_sales_raw, df_store_raw, how='left', on='Store')"
   ]
  },
  {
   "cell_type": "markdown",
   "metadata": {},
   "source": [
    "## 0.3 Data Dictionary"
   ]
  },
  {
   "cell_type": "markdown",
   "metadata": {},
   "source": [
    "* **Id** - an Id that represents a (Store, Date) duple within the test set\n",
    "\n",
    "* **Store** - a unique Id for each store\n",
    "\n",
    "* **Sales** - the turnover for any given day (this is what you are predicting)\n",
    "\n",
    "* **Customers** - the number of customers on a given day\n",
    "\n",
    "* **Open** - an indicator for whether the store was open: 0 = closed, 1 = open\n",
    "\n",
    "* **StateHoliday** - indicates a state holiday. Normally all stores, with few exceptions, are closed on state holidays. Note that all schools are closed on public holidays and weekends. a = public holiday, b  Easter holiday, c = Christmas, 0 = None\n",
    "\n",
    "* **SchoolHoliday** - indicates if the (Store, Date) was affected by the closure of public schools\n",
    "\n",
    "* **StoreType** - differentiates between 4 different store models: a, b, c, d\n",
    "\n",
    "* **Assortment** - describes an assortment level: a = basic, b = extra, c = extended\n",
    "\n",
    "* **CompetitionDistance** - distance in meters to the nearest competitor store\n",
    "\n",
    "* **CompetitionOpenSince[Month/Year]** - gives the approximate year and month of the time the nearest competitor was opened\n",
    "\n",
    "* **Promo** - indicates whether a store is running a promo on that day\n",
    "\n",
    "* **Promo2** - Promo2 is a continuing and consecutive promotion for some stores: 0 = store is not participating, 1 = store is participating\n",
    "\n",
    "* **Promo2Since[Year/Week]** - describes the year and calendar week when the store started participating in Promo2\n",
    "\n",
    "* **PromoInterval** - describes the consecutive intervals Promo2 is started, naming the months the promotion is started anew. E.g. \"Feb,May,Aug,Nov\" means each round starts in February, May, August, November of any given year for that store"
   ]
  },
  {
   "cell_type": "markdown",
   "metadata": {},
   "source": [
    "# 1.0 Data Description"
   ]
  },
  {
   "cell_type": "markdown",
   "metadata": {},
   "source": [
    "## 1.1 Rename columns"
   ]
  },
  {
   "cell_type": "code",
   "execution_count": 31,
   "metadata": {
    "ExecuteTime": {
     "end_time": "2021-12-03T21:26:09.57601Z",
     "start_time": "2021-12-03T21:26:09.513221Z"
    },
    "execution": {
     "iopub.execute_input": "2022-01-20T19:32:52.302164Z",
     "iopub.status.busy": "2022-01-20T19:32:52.301834Z",
     "iopub.status.idle": "2022-01-20T19:32:52.617450Z",
     "shell.execute_reply": "2022-01-20T19:32:52.616662Z",
     "shell.execute_reply.started": "2022-01-20T19:32:52.302131Z"
    }
   },
   "outputs": [],
   "source": [
    "df1 = df_raw.copy()"
   ]
  },
  {
   "cell_type": "code",
   "execution_count": 32,
   "metadata": {
    "ExecuteTime": {
     "end_time": "2021-12-03T21:26:09.712771Z",
     "start_time": "2021-12-03T21:26:09.581Z"
    },
    "execution": {
     "iopub.execute_input": "2022-01-20T19:32:52.618813Z",
     "iopub.status.busy": "2022-01-20T19:32:52.618582Z",
     "iopub.status.idle": "2022-01-20T19:32:52.639675Z",
     "shell.execute_reply": "2022-01-20T19:32:52.638489Z",
     "shell.execute_reply.started": "2022-01-20T19:32:52.618781Z"
    }
   },
   "outputs": [],
   "source": [
    "df1.head()"
   ]
  },
  {
   "cell_type": "code",
   "execution_count": 33,
   "metadata": {
    "ExecuteTime": {
     "end_time": "2021-12-03T21:26:09.816325Z",
     "start_time": "2021-12-03T21:26:09.715169Z"
    },
    "execution": {
     "iopub.execute_input": "2022-01-20T19:32:52.641308Z",
     "iopub.status.busy": "2022-01-20T19:32:52.641046Z",
     "iopub.status.idle": "2022-01-20T19:32:52.652132Z",
     "shell.execute_reply": "2022-01-20T19:32:52.651179Z",
     "shell.execute_reply.started": "2022-01-20T19:32:52.641266Z"
    }
   },
   "outputs": [],
   "source": [
    "df1.columns"
   ]
  },
  {
   "cell_type": "code",
   "execution_count": 34,
   "metadata": {
    "ExecuteTime": {
     "end_time": "2021-12-03T21:26:09.926931Z",
     "start_time": "2021-12-03T21:26:09.818944Z"
    },
    "execution": {
     "iopub.execute_input": "2022-01-20T19:32:52.653704Z",
     "iopub.status.busy": "2022-01-20T19:32:52.653270Z",
     "iopub.status.idle": "2022-01-20T19:32:52.665576Z",
     "shell.execute_reply": "2022-01-20T19:32:52.664584Z",
     "shell.execute_reply.started": "2022-01-20T19:32:52.653610Z"
    }
   },
   "outputs": [],
   "source": [
    "oldcols = ['Store', 'DayOfWeek', 'Date', 'Sales', 'Customers', 'Open', 'Promo',\n",
    "       'StateHoliday', 'SchoolHoliday', 'StoreType', 'Assortment',\n",
    "       'CompetitionDistance', 'CompetitionOpenSinceMonth',\n",
    "       'CompetitionOpenSinceYear', 'Promo2', 'Promo2SinceWeek',\n",
    "       'Promo2SinceYear', 'PromoInterval']\n",
    "\n",
    "snakecase = lambda x: inflection.underscore(x)\n",
    "\n",
    "cols_news = list(map(snakecase, oldcols))\n",
    "\n",
    "df1.columns = cols_news"
   ]
  },
  {
   "cell_type": "markdown",
   "metadata": {},
   "source": [
    "## 1.2 Data Exploration"
   ]
  },
  {
   "cell_type": "code",
   "execution_count": 35,
   "metadata": {
    "ExecuteTime": {
     "end_time": "2021-12-03T21:26:10.035092Z",
     "start_time": "2021-12-03T21:26:09.93099Z"
    },
    "execution": {
     "iopub.execute_input": "2022-01-20T19:32:52.667454Z",
     "iopub.status.busy": "2022-01-20T19:32:52.667155Z",
     "iopub.status.idle": "2022-01-20T19:32:52.683815Z",
     "shell.execute_reply": "2022-01-20T19:32:52.682879Z",
     "shell.execute_reply.started": "2022-01-20T19:32:52.667413Z"
    }
   },
   "outputs": [],
   "source": [
    "#Data dimensions\n",
    "\n",
    "print(\"number of rows: {}\".format(len(df1)))\n",
    "print(\"number of columns: {}\".format(df1.shape[1]))"
   ]
  },
  {
   "cell_type": "code",
   "execution_count": 36,
   "metadata": {
    "ExecuteTime": {
     "end_time": "2021-12-03T21:26:10.378417Z",
     "start_time": "2021-12-03T21:26:10.039539Z"
    },
    "execution": {
     "iopub.execute_input": "2022-01-20T19:32:52.685418Z",
     "iopub.status.busy": "2022-01-20T19:32:52.685137Z",
     "iopub.status.idle": "2022-01-20T19:32:52.975818Z",
     "shell.execute_reply": "2022-01-20T19:32:52.975235Z",
     "shell.execute_reply.started": "2022-01-20T19:32:52.685339Z"
    }
   },
   "outputs": [],
   "source": [
    "#Data types\n",
    "\n",
    "df1.info()"
   ]
  },
  {
   "cell_type": "markdown",
   "metadata": {},
   "source": [
    "## 1.3 Dates to datetime"
   ]
  },
  {
   "cell_type": "code",
   "execution_count": 37,
   "metadata": {
    "ExecuteTime": {
     "end_time": "2021-12-03T21:26:10.49354Z",
     "start_time": "2021-12-03T21:26:10.380607Z"
    },
    "execution": {
     "iopub.execute_input": "2022-01-20T19:32:52.977053Z",
     "iopub.status.busy": "2022-01-20T19:32:52.976730Z",
     "iopub.status.idle": "2022-01-20T19:32:53.109914Z",
     "shell.execute_reply": "2022-01-20T19:32:53.108650Z",
     "shell.execute_reply.started": "2022-01-20T19:32:52.977026Z"
    }
   },
   "outputs": [],
   "source": [
    "df1['date'] = pd.to_datetime(df1['date'])"
   ]
  },
  {
   "cell_type": "code",
   "execution_count": 38,
   "metadata": {
    "ExecuteTime": {
     "end_time": "2021-12-03T21:26:10.708542Z",
     "start_time": "2021-12-03T21:26:10.495581Z"
    },
    "execution": {
     "iopub.execute_input": "2022-01-20T19:32:53.112035Z",
     "iopub.status.busy": "2022-01-20T19:32:53.111711Z",
     "iopub.status.idle": "2022-01-20T19:32:53.358069Z",
     "shell.execute_reply": "2022-01-20T19:32:53.357158Z",
     "shell.execute_reply.started": "2022-01-20T19:32:53.111992Z"
    }
   },
   "outputs": [],
   "source": [
    "df1.info()"
   ]
  },
  {
   "cell_type": "markdown",
   "metadata": {},
   "source": [
    "## 1.4 Check and fill NA"
   ]
  },
  {
   "cell_type": "code",
   "execution_count": 39,
   "metadata": {
    "ExecuteTime": {
     "end_time": "2021-12-03T21:26:10.889648Z",
     "start_time": "2021-12-03T21:26:10.712156Z"
    },
    "execution": {
     "iopub.execute_input": "2022-01-20T19:32:53.359730Z",
     "iopub.status.busy": "2022-01-20T19:32:53.359416Z",
     "iopub.status.idle": "2022-01-20T19:32:53.574266Z",
     "shell.execute_reply": "2022-01-20T19:32:53.573587Z",
     "shell.execute_reply.started": "2022-01-20T19:32:53.359700Z"
    },
    "scrolled": true
   },
   "outputs": [],
   "source": [
    "df1.isnull().sum()"
   ]
  },
  {
   "cell_type": "code",
   "execution_count": 40,
   "metadata": {
    "ExecuteTime": {
     "end_time": "2021-12-03T21:26:10.906311Z",
     "start_time": "2021-12-03T21:26:10.891059Z"
    },
    "execution": {
     "iopub.execute_input": "2022-01-20T19:32:53.575777Z",
     "iopub.status.busy": "2022-01-20T19:32:53.575516Z",
     "iopub.status.idle": "2022-01-20T19:32:53.584566Z",
     "shell.execute_reply": "2022-01-20T19:32:53.583470Z",
     "shell.execute_reply.started": "2022-01-20T19:32:53.575748Z"
    }
   },
   "outputs": [],
   "source": [
    "print(df1['competition_distance'].max())\n",
    "print(df1['competition_open_since_year'].max())"
   ]
  },
  {
   "cell_type": "code",
   "execution_count": 41,
   "metadata": {
    "ExecuteTime": {
     "end_time": "2021-12-03T21:27:38.136376Z",
     "start_time": "2021-12-03T21:26:10.910588Z"
    },
    "execution": {
     "iopub.execute_input": "2022-01-20T19:32:53.586288Z",
     "iopub.status.busy": "2022-01-20T19:32:53.585985Z",
     "iopub.status.idle": "2022-01-20T19:34:14.510902Z",
     "shell.execute_reply": "2022-01-20T19:34:14.509920Z",
     "shell.execute_reply.started": "2022-01-20T19:32:53.586248Z"
    },
    "scrolled": true
   },
   "outputs": [],
   "source": [
    "#competition_distance\n",
    "df1['competition_distance'] = df1['competition_distance'].apply(lambda x: 200000 if math.isnan(x) else x)\n",
    "\n",
    "#competition_open_since_month    \n",
    "df1['competition_open_since_month'] = df1.apply(lambda x: x['date'].month if math.isnan(x['competition_open_since_month']) else x['competition_open_since_month'], axis=1)\n",
    "\n",
    "#competition_open_since_year     \n",
    "df1['competition_open_since_year'] = df1.apply(lambda x: x['date'].year if math.isnan(x['competition_open_since_year']) else x['competition_open_since_year'], axis=1)\n",
    "\n",
    "#promo2_since_week         \n",
    "df1['promo2_since_week'] = df1.apply(lambda x: x['date'].week if math.isnan(x['promo2_since_week']) else x['promo2_since_week'], axis=1)\n",
    "\n",
    "#promo2_since_year\n",
    "df1['promo2_since_year'] = df1.apply(lambda x: x['date'].year if math.isnan(x['promo2_since_year']) else x['promo2_since_year'], axis=1)\n",
    "\n",
    "#promo_interval                  \n",
    "\n",
    "month_map = {1: 'Jan', 2: 'Fev', 3:'Mar', 4:'Apr', 5:'May', 6:'Jun', 7: 'Jul', 8:'Aug', 9:'Sep', 10:'Oct', 11:'Nov', 12:'Dec'}\n",
    "\n",
    "df1['promo_interval'].fillna(0, inplace=True)\n",
    "df1['month_map'] = df1['date'].dt.month.map(month_map)\n",
    "df1['is_promo'] = df1[['promo_interval', 'month_map']].apply(lambda x: 0 if x['promo_interval'] == 0 else 1 if x['month_map'] in x['promo_interval'].split(',') else 0, axis=1)"
   ]
  },
  {
   "cell_type": "code",
   "execution_count": 42,
   "metadata": {
    "ExecuteTime": {
     "end_time": "2021-12-03T21:27:38.372283Z",
     "start_time": "2021-12-03T21:27:38.138648Z"
    },
    "execution": {
     "iopub.execute_input": "2022-01-20T19:34:14.512419Z",
     "iopub.status.busy": "2022-01-20T19:34:14.512186Z",
     "iopub.status.idle": "2022-01-20T19:34:14.785700Z",
     "shell.execute_reply": "2022-01-20T19:34:14.784886Z",
     "shell.execute_reply.started": "2022-01-20T19:34:14.512390Z"
    }
   },
   "outputs": [],
   "source": [
    "df1.isnull().sum()"
   ]
  },
  {
   "cell_type": "markdown",
   "metadata": {},
   "source": [
    "## 1.5 Change dtypes"
   ]
  },
  {
   "cell_type": "code",
   "execution_count": 43,
   "metadata": {
    "ExecuteTime": {
     "end_time": "2021-12-03T21:27:38.631329Z",
     "start_time": "2021-12-03T21:27:38.375747Z"
    },
    "execution": {
     "iopub.execute_input": "2022-01-20T19:34:14.787836Z",
     "iopub.status.busy": "2022-01-20T19:34:14.787209Z",
     "iopub.status.idle": "2022-01-20T19:34:15.063962Z",
     "shell.execute_reply": "2022-01-20T19:34:15.062947Z",
     "shell.execute_reply.started": "2022-01-20T19:34:14.787789Z"
    }
   },
   "outputs": [],
   "source": [
    "df1.info()"
   ]
  },
  {
   "cell_type": "code",
   "execution_count": 44,
   "metadata": {
    "ExecuteTime": {
     "end_time": "2021-12-03T21:27:38.678015Z",
     "start_time": "2021-12-03T21:27:38.633308Z"
    },
    "execution": {
     "iopub.execute_input": "2022-01-20T19:34:15.065562Z",
     "iopub.status.busy": "2022-01-20T19:34:15.065253Z",
     "iopub.status.idle": "2022-01-20T19:34:15.116947Z",
     "shell.execute_reply": "2022-01-20T19:34:15.115997Z",
     "shell.execute_reply.started": "2022-01-20T19:34:15.065500Z"
    }
   },
   "outputs": [],
   "source": [
    "df1['competition_open_since_month'] = df1['competition_open_since_month'].astype(int)\n",
    "df1['competition_open_since_year'] = df1['competition_open_since_year'].astype(int)\n",
    "df1['promo2_since_week'] = df1['promo2_since_week'].astype(int)\n",
    "df1['promo2_since_year'] = df1['promo2_since_year'].astype(int)"
   ]
  },
  {
   "cell_type": "code",
   "execution_count": 45,
   "metadata": {
    "ExecuteTime": {
     "end_time": "2021-12-03T21:27:38.988712Z",
     "start_time": "2021-12-03T21:27:38.680502Z"
    },
    "execution": {
     "iopub.execute_input": "2022-01-20T19:34:15.119150Z",
     "iopub.status.busy": "2022-01-20T19:34:15.118585Z",
     "iopub.status.idle": "2022-01-20T19:34:15.386677Z",
     "shell.execute_reply": "2022-01-20T19:34:15.386053Z",
     "shell.execute_reply.started": "2022-01-20T19:34:15.119107Z"
    }
   },
   "outputs": [],
   "source": [
    "df1.info()"
   ]
  },
  {
   "cell_type": "markdown",
   "metadata": {},
   "source": [
    "## 1.6 Descriptive Statistics"
   ]
  },
  {
   "cell_type": "code",
   "execution_count": 46,
   "metadata": {
    "ExecuteTime": {
     "end_time": "2021-12-03T21:27:39.134464Z",
     "start_time": "2021-12-03T21:27:38.990515Z"
    },
    "execution": {
     "iopub.execute_input": "2022-01-20T19:34:15.388318Z",
     "iopub.status.busy": "2022-01-20T19:34:15.387652Z",
     "iopub.status.idle": "2022-01-20T19:34:15.544992Z",
     "shell.execute_reply": "2022-01-20T19:34:15.543949Z",
     "shell.execute_reply.started": "2022-01-20T19:34:15.388283Z"
    }
   },
   "outputs": [],
   "source": [
    "num_attributes = df1.select_dtypes(include=['int64', 'float64'])\n",
    "cat_attributes = df1.select_dtypes(exclude=['int64', 'float64', 'datetime64[ns]'])"
   ]
  },
  {
   "cell_type": "markdown",
   "metadata": {},
   "source": [
    "### 1.6.1 Numerical Attributes"
   ]
  },
  {
   "cell_type": "code",
   "execution_count": 47,
   "metadata": {
    "ExecuteTime": {
     "end_time": "2021-12-03T21:27:39.79229Z",
     "start_time": "2021-12-03T21:27:39.135842Z"
    },
    "execution": {
     "iopub.execute_input": "2022-01-20T19:34:15.546516Z",
     "iopub.status.busy": "2022-01-20T19:34:15.546251Z",
     "iopub.status.idle": "2022-01-20T19:34:16.052258Z",
     "shell.execute_reply": "2022-01-20T19:34:16.051410Z",
     "shell.execute_reply.started": "2022-01-20T19:34:15.546484Z"
    }
   },
   "outputs": [],
   "source": [
    "#Central tendency - mean, median\n",
    "ct1 = pd.DataFrame(num_attributes.apply(np.mean)).transpose()\n",
    "ct2 = pd.DataFrame(num_attributes.apply(np.median)).transpose()\n",
    "\n",
    "#Dispersion - std, min, max, range, skew, kurtosis\n",
    "d1 = pd.DataFrame(num_attributes.apply(np.std)).transpose()\n",
    "d2 = pd.DataFrame(num_attributes.apply(np.min)).transpose()\n",
    "d3 = pd.DataFrame(num_attributes.apply(np.max)).transpose()\n",
    "d4 = pd.DataFrame(num_attributes.apply(lambda x: x.max() - x.min())).transpose()\n",
    "d5 = pd.DataFrame(num_attributes.apply(lambda x: x.skew())).transpose()\n",
    "d6 = pd.DataFrame(num_attributes.apply(lambda x: x.kurtosis())).transpose()\n",
    "\n",
    "#concatenate\n",
    "m = pd.concat([ct1, ct2, d1, d2, d3, d4, d5, d6]).transpose().reset_index()\n",
    "m.columns = ['index', 'mean', 'median', 'std', 'min', 'max', 'range', 'skew', 'kurtosis']"
   ]
  },
  {
   "cell_type": "code",
   "execution_count": 48,
   "metadata": {
    "ExecuteTime": {
     "end_time": "2021-12-03T21:27:39.815685Z",
     "start_time": "2021-12-03T21:27:39.793962Z"
    },
    "execution": {
     "iopub.execute_input": "2022-01-20T19:34:16.056036Z",
     "iopub.status.busy": "2022-01-20T19:34:16.055807Z",
     "iopub.status.idle": "2022-01-20T19:34:16.075872Z",
     "shell.execute_reply": "2022-01-20T19:34:16.075020Z",
     "shell.execute_reply.started": "2022-01-20T19:34:16.056010Z"
    }
   },
   "outputs": [],
   "source": [
    "m"
   ]
  },
  {
   "cell_type": "code",
   "execution_count": 49,
   "metadata": {
    "ExecuteTime": {
     "end_time": "2021-12-03T21:27:45.208582Z",
     "start_time": "2021-12-03T21:27:39.817867Z"
    },
    "execution": {
     "iopub.execute_input": "2022-01-20T19:34:16.079978Z",
     "iopub.status.busy": "2022-01-20T19:34:16.079647Z",
     "iopub.status.idle": "2022-01-20T19:34:20.195188Z",
     "shell.execute_reply": "2022-01-20T19:34:20.193650Z",
     "shell.execute_reply.started": "2022-01-20T19:34:16.079921Z"
    }
   },
   "outputs": [],
   "source": [
    "sns.distplot(x=df1['sales'])"
   ]
  },
  {
   "cell_type": "markdown",
   "metadata": {},
   "source": [
    "### 1.6.2 Categorical attributes"
   ]
  },
  {
   "cell_type": "code",
   "execution_count": 50,
   "metadata": {
    "ExecuteTime": {
     "end_time": "2021-12-03T21:27:45.425522Z",
     "start_time": "2021-12-03T21:27:45.20998Z"
    },
    "execution": {
     "iopub.execute_input": "2022-01-20T19:34:20.196344Z",
     "iopub.status.busy": "2022-01-20T19:34:20.196143Z",
     "iopub.status.idle": "2022-01-20T19:34:20.442570Z",
     "shell.execute_reply": "2022-01-20T19:34:20.441701Z",
     "shell.execute_reply.started": "2022-01-20T19:34:20.196320Z"
    }
   },
   "outputs": [],
   "source": [
    "cat_attributes.apply(lambda x: x.unique().shape[0])"
   ]
  },
  {
   "cell_type": "code",
   "execution_count": 51,
   "metadata": {
    "ExecuteTime": {
     "end_time": "2021-12-03T21:27:46.136018Z",
     "start_time": "2021-12-03T21:27:45.427245Z"
    },
    "execution": {
     "iopub.execute_input": "2022-01-20T19:34:20.443797Z",
     "iopub.status.busy": "2022-01-20T19:34:20.443602Z",
     "iopub.status.idle": "2022-01-20T19:34:21.113196Z",
     "shell.execute_reply": "2022-01-20T19:34:21.112213Z",
     "shell.execute_reply.started": "2022-01-20T19:34:20.443774Z"
    }
   },
   "outputs": [],
   "source": [
    "aux1 = df1[(df1['state_holiday'] != '0') & (df1['sales'] > 0)]\n",
    "\n",
    "plt.subplot(1, 3, 1)\n",
    "sns.boxplot(x='state_holiday', y='sales', data=aux1)\n",
    "\n",
    "plt.subplot(1, 3, 2)\n",
    "sns.boxplot(x='store_type', y='sales', data=aux1)\n",
    "\n",
    "plt.subplot(1, 3, 3)\n",
    "sns.boxplot(x='assortment', y='sales', data=aux1)"
   ]
  },
  {
   "cell_type": "markdown",
   "metadata": {},
   "source": [
    "# 2.0 Feature Engineering"
   ]
  },
  {
   "cell_type": "code",
   "execution_count": 52,
   "metadata": {
    "ExecuteTime": {
     "end_time": "2021-12-03T21:27:46.200906Z",
     "start_time": "2021-12-03T21:27:46.137962Z"
    },
    "execution": {
     "iopub.execute_input": "2022-01-20T19:34:21.114891Z",
     "iopub.status.busy": "2022-01-20T19:34:21.114499Z",
     "iopub.status.idle": "2022-01-20T19:34:21.228596Z",
     "shell.execute_reply": "2022-01-20T19:34:21.227705Z",
     "shell.execute_reply.started": "2022-01-20T19:34:21.114798Z"
    }
   },
   "outputs": [],
   "source": [
    "df2 = df1.copy()"
   ]
  },
  {
   "cell_type": "code",
   "execution_count": 53,
   "metadata": {
    "ExecuteTime": {
     "end_time": "2021-12-03T21:27:46.519787Z",
     "start_time": "2021-12-03T21:27:46.202807Z"
    },
    "execution": {
     "iopub.execute_input": "2022-01-20T19:34:21.230068Z",
     "iopub.status.busy": "2022-01-20T19:34:21.229850Z",
     "iopub.status.idle": "2022-01-20T19:34:21.235106Z",
     "shell.execute_reply": "2022-01-20T19:34:21.234314Z",
     "shell.execute_reply.started": "2022-01-20T19:34:21.230042Z"
    }
   },
   "outputs": [],
   "source": [
    "#Image(\"/home/mvrcosp/repos/DSP/Rossmann/img/EngMindMapHypothesis.png\")"
   ]
  },
  {
   "cell_type": "markdown",
   "metadata": {},
   "source": [
    "## 2.1 Brainstorming Business Hypothesis to validate with data!"
   ]
  },
  {
   "cell_type": "markdown",
   "metadata": {},
   "source": [
    "### 2.1.1 Store Hypothesis"
   ]
  },
  {
   "cell_type": "markdown",
   "metadata": {},
   "source": [
    "**1.** Stores with a bigger number of employees should sell more.\n",
    "\n",
    "**2.** Stores with a bigger stock size should sell more.\n",
    "\n",
    "**3.** Stores with a bigger size should sell more.\n",
    "\n",
    "**4.** Stores with local competitors should sell less.\n",
    "\n",
    "**5.** Stores with longer-term competitors should sell more.\n",
    "\n",
    "**6.** Stores with bigger assortment should sell more."
   ]
  },
  {
   "cell_type": "markdown",
   "metadata": {},
   "source": [
    "### 2.1.2 Product Hypothesis"
   ]
  },
  {
   "cell_type": "markdown",
   "metadata": {},
   "source": [
    "**1.** Stores that invest in marketing strategies should sell more.\n",
    "\n",
    "**2.** Stores that showcase their product better should sell more.\n",
    "\n",
    "**3.** Stores with cheaper products should sell more.\n",
    "\n",
    "**4.** Stores that perform more agressive promos should sell more.\n",
    "\n",
    "**5.** Stores that keep their promos active for longer periods should sell more.\n",
    "\n",
    "**6** Stores with consecutive promos should sell more."
   ]
  },
  {
   "cell_type": "markdown",
   "metadata": {},
   "source": [
    "### 2.1.3 Sazonality Hypothesis"
   ]
  },
  {
   "cell_type": "markdown",
   "metadata": {},
   "source": [
    "**1.** Stores that open during christmas season should sell more.\n",
    "\n",
    "**2.** Stores should sell more over the years.\n",
    "\n",
    "**3.** Stores should sell more at the 2nd semester of the year.\n",
    "\n",
    "**4.** Stores should sell more at the beginning of each month.\n",
    "\n",
    "**5.** Stores should sell more on weekends.\n",
    "\n",
    "**6.** Stores should sell less on school holidays."
   ]
  },
  {
   "cell_type": "markdown",
   "metadata": {},
   "source": [
    "## 2.2 Final Business Hypothesis List"
   ]
  },
  {
   "cell_type": "markdown",
   "metadata": {
    "ExecuteTime": {
     "end_time": "2021-11-12T00:13:28.237475Z",
     "start_time": "2021-11-12T00:13:28.116349Z"
    }
   },
   "source": [
    "**H1.** Stores with bigger assortment should sell more.\n",
    "\n",
    "**H2.** Stores with local competitors should sell less.\n",
    "\n",
    "**H3.** Stores with longer-term competitors should sell more.\n",
    "\n",
    "**H4.** Stores that keep their promos active for longer periods should sell more.\n",
    "\n",
    "**H5.** Stores with consecutive promos should sell more.\n",
    "\n",
    "**H6.** Stores that open during christmas season should sell more.\n",
    "\n",
    "**H7.** Stores should sell more over the years.\n",
    "\n",
    "**H8.** Stores should sell more at the 2nd semester of the year.\n",
    "\n",
    "**H9.** Stores should sell more at the beginning of each month.\n",
    "\n",
    "**H10.** Stores should sell less on weekends.\n",
    "\n",
    "**H11.** Stores should sell less on school holidays."
   ]
  },
  {
   "cell_type": "markdown",
   "metadata": {},
   "source": [
    "## 2.3 Feature Engineering"
   ]
  },
  {
   "cell_type": "code",
   "execution_count": 54,
   "metadata": {
    "ExecuteTime": {
     "end_time": "2021-12-03T21:28:46.8059Z",
     "start_time": "2021-12-03T21:27:46.523171Z"
    },
    "execution": {
     "iopub.execute_input": "2022-01-20T19:34:21.236865Z",
     "iopub.status.busy": "2022-01-20T19:34:21.236472Z",
     "iopub.status.idle": "2022-01-20T19:35:13.739396Z",
     "shell.execute_reply": "2022-01-20T19:35:13.738647Z",
     "shell.execute_reply.started": "2022-01-20T19:34:21.236832Z"
    }
   },
   "outputs": [],
   "source": [
    "df2['date'] = pd.to_datetime(df2['date'])\n",
    "\n",
    "# year\n",
    "df2['year'] = df2['date'].dt.year\n",
    "\n",
    "# month\n",
    "df2['month'] = df2['date'].dt.month\n",
    "\n",
    "# day\n",
    "df2['day'] = df2['date'].dt.day\n",
    "\n",
    "# Week of year\n",
    "df2['week_of_year'] = df2['date'].dt.weekofyear\n",
    "\n",
    "#year week\n",
    "df2['year_week'] = df2['date'].dt.strftime('%Y-%W')\n",
    "\n",
    "#competition since\n",
    "df2['competition_since'] = df2.apply( lambda x: datetime.datetime( year=x['competition_open_since_year'], month=x['competition_open_since_month'],day=1 ), axis=1 )\n",
    "df2['competition_time_month'] = ( ( df2['date'] - df2['competition_since'] )/30 ).apply( lambda x: x.days ).astype( int )\n",
    "\n",
    "# promo since\n",
    "df2['promo_since'] = df2['promo2_since_year'].astype( str ) + '-' + df2['promo2_since_week'].astype( str )\n",
    "df2['promo_since'] = df2['promo_since'].apply( lambda x: datetime.datetime.strptime( x + '-1', '%Y-%W-%w' ) - datetime.timedelta( days=7 ) )\n",
    "df2['promo_time_week'] = ( ( df2['date'] - df2['promo_since'] )/7 ).apply( lambda x: x.days ).astype( int )\n",
    "\n",
    "# assortment\n",
    "df2['assortment'] = df2['assortment'].apply( lambda x: 'basic' if x == 'a' else 'extra' if x == 'b' else 'extended' )\n",
    "\n",
    "# state holiday\n",
    "df2['state_holiday'] = df2['state_holiday'].apply( lambda x: 'public_holiday' if x == 'a' else 'easter_holiday' if x == 'b' else 'christmas' if x == 'c' else 'regular_day' )"
   ]
  },
  {
   "cell_type": "markdown",
   "metadata": {},
   "source": [
    "# 3.0 Data Filtering"
   ]
  },
  {
   "cell_type": "code",
   "execution_count": 55,
   "metadata": {
    "ExecuteTime": {
     "end_time": "2021-12-03T21:28:46.915227Z",
     "start_time": "2021-12-03T21:28:46.807259Z"
    },
    "execution": {
     "iopub.execute_input": "2022-01-20T19:35:13.741807Z",
     "iopub.status.busy": "2022-01-20T19:35:13.740869Z",
     "iopub.status.idle": "2022-01-20T19:35:14.038423Z",
     "shell.execute_reply": "2022-01-20T19:35:14.037571Z",
     "shell.execute_reply.started": "2022-01-20T19:35:13.741768Z"
    }
   },
   "outputs": [],
   "source": [
    "df3 = df2.copy()"
   ]
  },
  {
   "cell_type": "code",
   "execution_count": 56,
   "metadata": {
    "ExecuteTime": {
     "end_time": "2021-12-03T21:28:47.578627Z",
     "start_time": "2021-12-03T21:28:46.916832Z"
    },
    "execution": {
     "iopub.execute_input": "2022-01-20T19:35:14.040063Z",
     "iopub.status.busy": "2022-01-20T19:35:14.039616Z",
     "iopub.status.idle": "2022-01-20T19:35:14.186711Z",
     "shell.execute_reply": "2022-01-20T19:35:14.185712Z",
     "shell.execute_reply.started": "2022-01-20T19:35:14.040027Z"
    }
   },
   "outputs": [],
   "source": [
    "df3 = df3[(df3[\"open\"] != 0) & (df3['sales'] > 0)]"
   ]
  },
  {
   "cell_type": "code",
   "execution_count": 57,
   "metadata": {
    "ExecuteTime": {
     "end_time": "2021-12-03T21:28:47.681541Z",
     "start_time": "2021-12-03T21:28:47.580068Z"
    },
    "execution": {
     "iopub.execute_input": "2022-01-20T19:35:14.188608Z",
     "iopub.status.busy": "2022-01-20T19:35:14.188274Z",
     "iopub.status.idle": "2022-01-20T19:35:14.279680Z",
     "shell.execute_reply": "2022-01-20T19:35:14.278620Z",
     "shell.execute_reply.started": "2022-01-20T19:35:14.188564Z"
    }
   },
   "outputs": [],
   "source": [
    "cols_drop = ['customers', 'open', 'promo_interval', 'month_map']\n",
    "df3.drop(cols_drop, inplace=True, axis=1)"
   ]
  },
  {
   "cell_type": "code",
   "execution_count": 58,
   "metadata": {
    "ExecuteTime": {
     "end_time": "2021-12-03T21:28:47.895967Z",
     "start_time": "2021-12-03T21:28:47.683184Z"
    },
    "execution": {
     "iopub.execute_input": "2022-01-20T19:35:14.281333Z",
     "iopub.status.busy": "2022-01-20T19:35:14.281102Z",
     "iopub.status.idle": "2022-01-20T19:35:14.301493Z",
     "shell.execute_reply": "2022-01-20T19:35:14.300890Z",
     "shell.execute_reply.started": "2022-01-20T19:35:14.281306Z"
    }
   },
   "outputs": [],
   "source": [
    "df3.head()"
   ]
  },
  {
   "cell_type": "code",
   "execution_count": 59,
   "metadata": {
    "ExecuteTime": {
     "end_time": "2021-12-03T21:28:47.997042Z",
     "start_time": "2021-12-03T21:28:47.899306Z"
    },
    "execution": {
     "iopub.execute_input": "2022-01-20T19:35:14.303459Z",
     "iopub.status.busy": "2022-01-20T19:35:14.302601Z",
     "iopub.status.idle": "2022-01-20T19:35:14.315710Z",
     "shell.execute_reply": "2022-01-20T19:35:14.314804Z",
     "shell.execute_reply.started": "2022-01-20T19:35:14.303419Z"
    },
    "scrolled": true
   },
   "outputs": [],
   "source": [
    "df3.dtypes"
   ]
  },
  {
   "cell_type": "markdown",
   "metadata": {},
   "source": [
    "# 4.0 Exploratory Data Analysis"
   ]
  },
  {
   "cell_type": "code",
   "execution_count": 60,
   "metadata": {
    "ExecuteTime": {
     "end_time": "2021-12-03T21:28:48.199187Z",
     "start_time": "2021-12-03T21:28:48.000274Z"
    },
    "execution": {
     "iopub.execute_input": "2022-01-20T19:35:14.319757Z",
     "iopub.status.busy": "2022-01-20T19:35:14.319488Z",
     "iopub.status.idle": "2022-01-20T19:35:14.425867Z",
     "shell.execute_reply": "2022-01-20T19:35:14.424906Z",
     "shell.execute_reply.started": "2022-01-20T19:35:14.319729Z"
    }
   },
   "outputs": [],
   "source": [
    "df4 = df3.copy()"
   ]
  },
  {
   "cell_type": "markdown",
   "metadata": {},
   "source": [
    "## 4.1 Univariate analysis"
   ]
  },
  {
   "cell_type": "markdown",
   "metadata": {},
   "source": [
    "### 4.1.1 Target Variable"
   ]
  },
  {
   "cell_type": "code",
   "execution_count": null,
   "metadata": {
    "ExecuteTime": {
     "end_time": "2021-12-03T21:28:48.588494Z",
     "start_time": "2021-12-03T21:28:48.200624Z"
    }
   },
   "outputs": [],
   "source": [
    "sns.distplot(df4['sales'], kde=False)"
   ]
  },
  {
   "cell_type": "markdown",
   "metadata": {},
   "source": [
    "### 4.1.2 Numerical Variables"
   ]
  },
  {
   "cell_type": "code",
   "execution_count": null,
   "metadata": {
    "ExecuteTime": {
     "end_time": "2021-12-03T21:28:52.924707Z",
     "start_time": "2021-12-03T21:28:48.590328Z"
    }
   },
   "outputs": [],
   "source": [
    "num_attributes.hist(bins=25)\n",
    "plt.show()"
   ]
  },
  {
   "cell_type": "markdown",
   "metadata": {
    "heading_collapsed": true
   },
   "source": [
    "### 4.1.3 Categorical Variables"
   ]
  },
  {
   "cell_type": "code",
   "execution_count": null,
   "metadata": {
    "ExecuteTime": {
     "end_time": "2021-12-03T21:29:21.507524Z",
     "start_time": "2021-12-03T21:28:52.926938Z"
    },
    "hidden": true,
    "scrolled": true
   },
   "outputs": [],
   "source": [
    "# state_holiday\n",
    "plt.subplot( 3, 2, 1 )\n",
    "a = df4[df4['state_holiday'] != 'regular_day']\n",
    "sns.countplot( x = 'state_holiday', data = a )\n",
    "\n",
    "plt.subplot( 3, 2, 2 )\n",
    "sns.kdeplot( df4[df4['state_holiday'] == 'public_holiday']['sales'], label='public_holiday', shade=True )\n",
    "sns.kdeplot( df4[df4['state_holiday'] == 'easter_holiday']['sales'], label='easter_holiday', shade=True )\n",
    "sns.kdeplot( df4[df4['state_holiday'] == 'christmas']['sales'], label='christmas', shade=True )\n",
    "\n",
    "# store_type\n",
    "plt.subplot( 3, 2, 3 )\n",
    "sns.countplot(x = 'store_type', data = df4)\n",
    "\n",
    "plt.subplot( 3, 2, 4 )\n",
    "sns.kdeplot( df4[df4['store_type'] == 'a']['sales'], label='a', shade=True )\n",
    "sns.kdeplot( df4[df4['store_type'] == 'b']['sales'], label='b', shade=True )\n",
    "sns.kdeplot( df4[df4['store_type'] == 'c']['sales'], label='c', shade=True )\n",
    "sns.kdeplot( df4[df4['store_type'] == 'd']['sales'], label='d', shade=True )\n",
    "\n",
    "# assortment\n",
    "plt.subplot( 3, 2, 5 )\n",
    "sns.countplot( x = 'assortment', data = df4)\n",
    "\n",
    "plt.subplot( 3, 2, 6 )\n",
    "sns.kdeplot( df4[df4['assortment'] == 'extended']['sales'], label='extended', shade=True )\n",
    "sns.kdeplot( df4[df4['assortment'] == 'basic']['sales'], label='basic', shade=True )\n",
    "sns.kdeplot( df4[df4['assortment'] == 'extra']['sales'], label='extra', shade=True )\n",
    "\n",
    "plt.show()"
   ]
  },
  {
   "cell_type": "markdown",
   "metadata": {},
   "source": [
    "## 4.2 Bivariate Analysis - Validating Business Hypothesis"
   ]
  },
  {
   "cell_type": "markdown",
   "metadata": {
    "heading_collapsed": true
   },
   "source": [
    "### 4.2.1 - H1 - Stores with bigger assortment should sell more.\n",
    "\n",
    "**False:** Stores with extended assortment do sell more than stores with basic assortment, but, stores that sell the most are the ones with only \"extra\" assortment (mot extended)."
   ]
  },
  {
   "cell_type": "code",
   "execution_count": null,
   "metadata": {
    "ExecuteTime": {
     "end_time": "2021-12-03T21:29:21.84983Z",
     "start_time": "2021-12-03T21:29:21.510332Z"
    },
    "hidden": true
   },
   "outputs": [],
   "source": [
    "aux421_1 = df4[['assortment', 'sales']].groupby('assortment').mean().reset_index()\n",
    "sns.barplot(x = 'assortment', y ='sales', data = aux421_1)"
   ]
  },
  {
   "cell_type": "code",
   "execution_count": null,
   "metadata": {
    "ExecuteTime": {
     "end_time": "2021-12-03T21:29:22.384762Z",
     "start_time": "2021-12-03T21:29:21.851702Z"
    },
    "hidden": true
   },
   "outputs": [],
   "source": [
    "aux421_2 = df4[['year_week', 'assortment', 'sales']].groupby(['year_week', 'assortment']).mean().reset_index()\n",
    "aux421_2.pivot(index='year_week', columns='assortment', values='sales').plot()"
   ]
  },
  {
   "cell_type": "code",
   "execution_count": null,
   "metadata": {
    "ExecuteTime": {
     "end_time": "2021-12-03T21:29:22.703567Z",
     "start_time": "2021-12-03T21:29:22.387835Z"
    },
    "hidden": true
   },
   "outputs": [],
   "source": [
    "aux421_2[aux421_2['assortment'] =='extra'].plot()"
   ]
  },
  {
   "cell_type": "markdown",
   "metadata": {
    "heading_collapsed": true
   },
   "source": [
    "### 4.2.2 - H2 - Stores with local competitors should sell less.\n",
    "**False:** Stores with competitors close by, in reality, sell more."
   ]
  },
  {
   "cell_type": "code",
   "execution_count": null,
   "metadata": {
    "ExecuteTime": {
     "end_time": "2021-12-03T21:29:24.470543Z",
     "start_time": "2021-12-03T21:29:22.705115Z"
    },
    "hidden": true
   },
   "outputs": [],
   "source": [
    "aux422_1 = df4[['competition_distance', 'sales']].groupby('competition_distance').sum().reset_index()\n",
    "\n",
    "plt.subplot(1, 3, 1)\n",
    "sns.scatterplot(x='competition_distance', y='sales', data=aux422_1)\n",
    "\n",
    "\n",
    "plt.subplot(1, 3, 2)\n",
    "bins = list(np.arange(0, 20000, 1000))\n",
    "aux422_1['competition_distance_binned'] = pd.cut(aux422_1['competition_distance'], bins = bins)\n",
    "aux422_2 = aux422_1[['competition_distance_binned', 'sales']].groupby('competition_distance_binned').sum().reset_index()\n",
    "sns.barplot(x='competition_distance_binned', y='sales', data=aux422_2)\n",
    "plt.xticks(rotation=45)\n",
    "\n",
    "plt.subplot(1, 3, 3)\n",
    "heat = sns.heatmap(aux422_1.corr(method='pearson'), annot=True)\n",
    "\n",
    "plt.show()"
   ]
  },
  {
   "cell_type": "markdown",
   "metadata": {
    "heading_collapsed": true
   },
   "source": [
    "### 4.2.3 - H3 - Stores with longer-term competitors should sell more.\n",
    "**False:** In reality, stores with longer-term competitiors sell less."
   ]
  },
  {
   "cell_type": "code",
   "execution_count": null,
   "metadata": {
    "ExecuteTime": {
     "end_time": "2021-12-03T21:29:30.179806Z",
     "start_time": "2021-12-03T21:29:24.473305Z"
    },
    "hidden": true
   },
   "outputs": [],
   "source": [
    "aux423_1 = df4[['competition_time_month', 'sales']].groupby( 'competition_time_month' ).sum().reset_index()\n",
    "aux423_2 = aux423_1[( aux423_1['competition_time_month'] < 120 ) & ( aux423_1['competition_time_month'] != 0 )]\n",
    "sns.barplot( x='competition_time_month', y='sales', data=aux423_2 );\n",
    "plt.xticks( rotation=90 );"
   ]
  },
  {
   "cell_type": "code",
   "execution_count": null,
   "metadata": {
    "ExecuteTime": {
     "end_time": "2021-12-03T21:29:30.686971Z",
     "start_time": "2021-12-03T21:29:30.181826Z"
    },
    "hidden": true,
    "scrolled": true
   },
   "outputs": [],
   "source": [
    "plt.subplot( 1, 2, 1 )\n",
    "sns.scatterplot( x='competition_time_month', y='sales', data=aux423_2 );\n",
    "\n",
    "plt.subplot( 1, 2, 2 )\n",
    "x = sns.heatmap( aux423_1.corr( method='pearson'), annot=True );"
   ]
  },
  {
   "cell_type": "markdown",
   "metadata": {},
   "source": [
    "### 4.2.4 - H4 - Stores that keep their promos active for longer periods should sell more.\n",
    "\n",
    "**False:** Actually sales start to drop after a few weeks in promotion."
   ]
  },
  {
   "cell_type": "code",
   "execution_count": null,
   "metadata": {
    "ExecuteTime": {
     "end_time": "2021-12-03T21:29:51.757098Z",
     "start_time": "2021-12-03T21:29:30.688885Z"
    }
   },
   "outputs": [],
   "source": [
    "aux424_1 = df4[['promo_time_week', 'sales']].groupby( 'promo_time_week').sum().reset_index()\n",
    "\n",
    "grid = GridSpec( 2, 3 )\n",
    "\n",
    "plt.subplot( grid[0,0] )\n",
    "aux424_2 = aux424_1[aux424_1['promo_time_week'] > 0] # promo extendido\n",
    "sns.barplot( x='promo_time_week', y='sales', data=aux424_2 );\n",
    "plt.xticks( rotation=90 );\n",
    "\n",
    "plt.subplot( grid[0,1] )\n",
    "sns.regplot( x='promo_time_week', y='sales', data=aux424_2 );\n",
    "\n",
    "plt.subplot( grid[1,0] )\n",
    "aux424_3 = aux424_1[aux424_1['promo_time_week'] < 0] # promo regular\n",
    "sns.barplot( x='promo_time_week', y='sales', data=aux424_3 );\n",
    "plt.xticks( rotation=90 );\n",
    "\n",
    "plt.subplot( grid[1,1] )\n",
    "sns.regplot( x='promo_time_week', y='sales', data=aux424_3 );\n",
    "\n",
    "plt.subplot( grid[:,2] )\n",
    "sns.heatmap( aux424_1.corr( method='pearson' ), annot=True );"
   ]
  },
  {
   "cell_type": "markdown",
   "metadata": {
    "heading_collapsed": true
   },
   "source": [
    "### 4.2.5 - H5 - Stores with consecutive promos should sell more.\n",
    "\n",
    "**False:** Stores with consecutive promos actually sell less than stores with only promo 1."
   ]
  },
  {
   "cell_type": "code",
   "execution_count": null,
   "metadata": {
    "ExecuteTime": {
     "end_time": "2021-12-03T21:29:51.812063Z",
     "start_time": "2021-12-03T21:29:51.758665Z"
    },
    "hidden": true
   },
   "outputs": [],
   "source": [
    "df4[['promo', 'promo2', 'sales']].groupby( ['promo', 'promo2'] ).sum().sort_values(by='sales').reset_index()"
   ]
  },
  {
   "cell_type": "code",
   "execution_count": null,
   "metadata": {
    "ExecuteTime": {
     "end_time": "2021-12-03T21:29:52.542486Z",
     "start_time": "2021-12-03T21:29:51.813674Z"
    },
    "hidden": true
   },
   "outputs": [],
   "source": [
    " aux425_1 = df4[( df4['promo'] == 1 ) & ( df4['promo2'] == 1 )][['year_week', 'sales']].groupby( 'year_week' ).sum().reset_index()\n",
    "ax = aux425_1.plot()\n",
    "\n",
    "aux425_2 = df4[( df4['promo'] == 1 ) & ( df4['promo2'] == 0 )][['year_week', 'sales']].groupby( 'year_week' ).sum().reset_index()\n",
    "aux425_2.plot( ax=ax )\n",
    "\n",
    "ax.legend( labels=['Promo 1 & Promo 2', 'Promo 1']);"
   ]
  },
  {
   "cell_type": "markdown",
   "metadata": {
    "heading_collapsed": true
   },
   "source": [
    "### 4.2.6 - H6 - Stores that open during christmas season should sell more.\n",
    "\n",
    "**False:** Public holidays sell better than christmas. Sorry santa :("
   ]
  },
  {
   "cell_type": "code",
   "execution_count": null,
   "metadata": {
    "ExecuteTime": {
     "end_time": "2021-12-03T21:29:52.995281Z",
     "start_time": "2021-12-03T21:29:52.544511Z"
    },
    "hidden": true
   },
   "outputs": [],
   "source": [
    "aux426_1 = df4[df4['state_holiday'] != 'regular_day']\n",
    "\n",
    "plt.subplot( 1, 2, 1 )\n",
    "aux426_2 = aux426_1[['state_holiday', 'sales']].groupby( 'state_holiday' ).sum().reset_index()\n",
    "sns.barplot( x='state_holiday', y='sales', data=aux426_2 );\n",
    "\n",
    "plt.subplot( 1, 2, 2 )\n",
    "aux426_3 = aux426_1[['year', 'state_holiday', 'sales']].groupby( ['year', 'state_holiday'] ).sum().reset_index()\n",
    "sns.barplot( x='year', y='sales', hue='state_holiday', data=aux426_3 ); "
   ]
  },
  {
   "cell_type": "markdown",
   "metadata": {
    "ExecuteTime": {
     "end_time": "2021-11-21T21:55:22.159359Z",
     "start_time": "2021-11-21T21:55:22.150538Z"
    },
    "heading_collapsed": true
   },
   "source": [
    "### 4.2.7 - H7 - Stores should sell more over the years.\n",
    "\n",
    "**False:** Stores are selling less over the years."
   ]
  },
  {
   "cell_type": "code",
   "execution_count": null,
   "metadata": {
    "ExecuteTime": {
     "end_time": "2021-12-03T21:29:53.916715Z",
     "start_time": "2021-12-03T21:29:52.996803Z"
    },
    "hidden": true
   },
   "outputs": [],
   "source": [
    " aux427_1 = df4[['year', 'sales']].groupby( 'year' ).sum().reset_index()\n",
    "\n",
    "plt.subplot( 1, 3, 1 )\n",
    "sns.barplot( x='year', y='sales', data=aux427_1 );\n",
    "\n",
    "plt.subplot( 1, 3, 2 )\n",
    "sns.regplot( x='year', y='sales', data=aux427_1 );\n",
    "\n",
    "plt.subplot( 1, 3, 3 )\n",
    "sns.heatmap( aux427_1.corr( method='pearson' ), annot=True );"
   ]
  },
  {
   "cell_type": "markdown",
   "metadata": {
    "heading_collapsed": true
   },
   "source": [
    "### 4.2.8 - H8 - Stores should sell more at the 2nd semester of the year.\n",
    "\n",
    "**False:** Stores sell more at first semester of the year."
   ]
  },
  {
   "cell_type": "code",
   "execution_count": null,
   "metadata": {
    "ExecuteTime": {
     "end_time": "2021-12-03T21:29:54.922654Z",
     "start_time": "2021-12-03T21:29:53.919123Z"
    },
    "hidden": true
   },
   "outputs": [],
   "source": [
    "aux428_1 = df4[['month', 'sales']].groupby( 'month' ).sum().reset_index()\n",
    "\n",
    "plt.subplot( 1, 3, 1 )\n",
    "sns.barplot( x='month', y='sales', data=aux428_1 );\n",
    "\n",
    "plt.subplot( 1, 3, 2 )\n",
    "sns.regplot( x='month', y='sales', data=aux428_1 );\n",
    "\n",
    "plt.subplot( 1, 3, 3 )\n",
    "sns.heatmap( aux428_1.corr( method='pearson' ), annot=True );"
   ]
  },
  {
   "cell_type": "markdown",
   "metadata": {
    "heading_collapsed": true
   },
   "source": [
    "### 4.2.9 - H9 - Stores should sell more at the beginning of each month.\n",
    "\n",
    "**True:** Stores do sell a little bit more at the beginning of the month."
   ]
  },
  {
   "cell_type": "code",
   "execution_count": null,
   "metadata": {
    "ExecuteTime": {
     "end_time": "2021-12-03T21:29:56.640862Z",
     "start_time": "2021-12-03T21:29:54.926444Z"
    },
    "hidden": true
   },
   "outputs": [],
   "source": [
    "plt.subplot(1, 2, 1)\n",
    "aux429_1 = df4[['year', 'month', 'day', 'sales']].groupby(['year', 'month', 'day']).sum().reset_index()\n",
    "sns.barplot(x='day', y='sales', data=aux429_1)\n",
    "\n",
    "plt.subplot(1, 2, 2)\n",
    "bins = list(np.arange(0, 40, 10))\n",
    "aux429_1['days_binned'] = pd.cut(aux429_1['day'], bins = bins)\n",
    "sns.barplot(x='days_binned', y='sales', data=aux429_1)"
   ]
  },
  {
   "cell_type": "markdown",
   "metadata": {
    "heading_collapsed": true
   },
   "source": [
    "### 4.2.10 - H10 - Stores should sell less on weekends.\n",
    "\n",
    "**True:** Stores DO sell less on weekends compared to weekdays."
   ]
  },
  {
   "cell_type": "code",
   "execution_count": null,
   "metadata": {
    "ExecuteTime": {
     "end_time": "2021-12-03T21:29:57.458086Z",
     "start_time": "2021-12-03T21:29:56.648243Z"
    },
    "hidden": true,
    "scrolled": true
   },
   "outputs": [],
   "source": [
    "aux4210_1 = df4[['day_of_week', 'sales']].groupby( 'day_of_week' ).sum().reset_index()\n",
    "\n",
    "plt.subplot( 1, 3, 1 )\n",
    "sns.barplot( x='day_of_week', y='sales', data=aux4210_1 );\n",
    "\n",
    "plt.subplot( 1, 3, 2 )\n",
    "sns.regplot( x='day_of_week', y='sales', data=aux4210_1 );\n",
    "\n",
    "plt.subplot( 1, 3, 3 )\n",
    "sns.heatmap( aux4210_1.corr( method='pearson' ), annot=True );"
   ]
  },
  {
   "cell_type": "markdown",
   "metadata": {
    "heading_collapsed": true
   },
   "source": [
    "### 4.2.11 - H11 - Stores should sell less on school holidays.\n",
    "\n",
    "**True:** Stores do sell less on school holidays. August is the only month where school holidays actually sell more."
   ]
  },
  {
   "cell_type": "code",
   "execution_count": null,
   "metadata": {
    "ExecuteTime": {
     "end_time": "2021-12-03T21:29:58.167711Z",
     "start_time": "2021-12-03T21:29:57.46137Z"
    },
    "hidden": true
   },
   "outputs": [],
   "source": [
    "aux4211_1 = df4[['school_holiday', 'sales']].groupby( 'school_holiday' ).sum().reset_index()\n",
    "plt.subplot( 2, 1, 1 )\n",
    "sns.barplot( x='school_holiday', y='sales', data=aux4211_1 );\n",
    "\n",
    "aux4211_2 = df4[['month', 'school_holiday', 'sales']].groupby( ['month','school_holiday'] ).sum().reset_index()\n",
    "plt.subplot( 2, 1, 2 )\n",
    "sns.barplot( x='month', y='sales', hue='school_holiday', data=aux4211_2 );"
   ]
  },
  {
   "cell_type": "markdown",
   "metadata": {},
   "source": [
    "### 4.2.12 - Final Hypothesis table"
   ]
  },
  {
   "cell_type": "code",
   "execution_count": null,
   "metadata": {
    "ExecuteTime": {
     "end_time": "2021-12-03T21:29:58.256818Z",
     "start_time": "2021-12-03T21:29:58.1694Z"
    }
   },
   "outputs": [],
   "source": [
    "from tabulate import tabulate"
   ]
  },
  {
   "cell_type": "code",
   "execution_count": null,
   "metadata": {
    "ExecuteTime": {
     "end_time": "2021-12-03T21:29:58.364083Z",
     "start_time": "2021-12-03T21:29:58.258339Z"
    }
   },
   "outputs": [],
   "source": [
    "tab =[['Hypothesis', 'Conclusion', 'Relevance'],\n",
    "      ['H1', 'False', 'Low'],  \n",
    "      ['H2', 'False', 'Medium'],  \n",
    "      ['H3', 'False', 'Medium'],\n",
    "      ['H4', 'False', 'Low'],\n",
    "      ['H5', 'False', 'Low'],\n",
    "      ['H6', 'False', 'Medium'],\n",
    "      ['H7', 'False', 'High'],\n",
    "      ['H8', 'True', 'High'],\n",
    "      ['H9', 'True', 'High'],\n",
    "      ['H10', 'True', 'High'],\n",
    "      ['H11', 'True', 'Low']]  \n",
    "\n",
    "print(tabulate(tab, headers='firstrow'))"
   ]
  },
  {
   "cell_type": "markdown",
   "metadata": {},
   "source": [
    "## 4.3 Multivariate Analysis"
   ]
  },
  {
   "cell_type": "markdown",
   "metadata": {},
   "source": [
    "### 4.3.1 Numerical Attributes"
   ]
  },
  {
   "cell_type": "code",
   "execution_count": null,
   "metadata": {
    "ExecuteTime": {
     "end_time": "2021-12-03T21:30:00.697754Z",
     "start_time": "2021-12-03T21:29:58.368275Z"
    }
   },
   "outputs": [],
   "source": [
    "correlation = num_attributes.corr(method='pearson')\n",
    "sns.heatmap(correlation, annot=True)"
   ]
  },
  {
   "cell_type": "markdown",
   "metadata": {},
   "source": [
    "### 4.3.2 Categorial Attributes"
   ]
  },
  {
   "cell_type": "code",
   "execution_count": null,
   "metadata": {
    "ExecuteTime": {
     "end_time": "2021-12-03T21:30:00.976574Z",
     "start_time": "2021-12-03T21:30:00.699827Z"
    }
   },
   "outputs": [],
   "source": [
    "b = df4.select_dtypes('object')\n",
    "b.drop('year_week', axis=1, inplace=True)"
   ]
  },
  {
   "cell_type": "code",
   "execution_count": null,
   "metadata": {
    "ExecuteTime": {
     "end_time": "2021-12-03T21:30:02.951768Z",
     "start_time": "2021-12-03T21:30:00.980603Z"
    }
   },
   "outputs": [],
   "source": [
    "#Calculte Cramer V\n",
    "\n",
    "b1 = cramer_v( b['state_holiday'], b['state_holiday'] )\n",
    "b2 = cramer_v( b['state_holiday'], b['store_type'] )\n",
    "b3 = cramer_v( b['state_holiday'], b['assortment'] )\n",
    "\n",
    "b4 = cramer_v( b['store_type'], b['state_holiday'] )\n",
    "b5 = cramer_v( b['store_type'], b['store_type'] )\n",
    "b6 = cramer_v( b['store_type'], b['assortment'] )\n",
    "\n",
    "b7 = cramer_v( b['assortment'], b['state_holiday'] )\n",
    "b8 = cramer_v( b['assortment'], b['store_type'] )\n",
    "b9 = cramer_v( b['assortment'], b['assortment'] )\n",
    "\n",
    "# Final dataset\n",
    "d = pd.DataFrame( {'state_holiday': [b1, b2, b3], \n",
    "               'store_type': [b4, b5, b6],\n",
    "               'assortment': [b7, b8, b9]  })\n",
    "d = d.set_index( d.columns )\n",
    "\n",
    "sns.heatmap( d, annot=True )"
   ]
  },
  {
   "cell_type": "markdown",
   "metadata": {},
   "source": [
    "# 5.0 Data Preparation"
   ]
  },
  {
   "cell_type": "code",
   "execution_count": 61,
   "metadata": {
    "ExecuteTime": {
     "end_time": "2021-12-03T21:30:03.027933Z",
     "start_time": "2021-12-03T21:30:02.954111Z"
    },
    "execution": {
     "iopub.execute_input": "2022-01-20T19:35:14.427493Z",
     "iopub.status.busy": "2022-01-20T19:35:14.427253Z",
     "iopub.status.idle": "2022-01-20T19:35:14.530947Z",
     "shell.execute_reply": "2022-01-20T19:35:14.530030Z",
     "shell.execute_reply.started": "2022-01-20T19:35:14.427464Z"
    }
   },
   "outputs": [],
   "source": [
    "df5 = df4.copy()"
   ]
  },
  {
   "cell_type": "markdown",
   "metadata": {},
   "source": [
    "## 5.1 Rescaling (Numerical Attributes)"
   ]
  },
  {
   "cell_type": "code",
   "execution_count": 62,
   "metadata": {
    "ExecuteTime": {
     "end_time": "2021-12-03T21:30:03.213724Z",
     "start_time": "2021-12-03T21:30:03.032359Z"
    },
    "execution": {
     "iopub.execute_input": "2022-01-20T19:35:14.532297Z",
     "iopub.status.busy": "2022-01-20T19:35:14.532070Z",
     "iopub.status.idle": "2022-01-20T19:35:14.599332Z",
     "shell.execute_reply": "2022-01-20T19:35:14.598421Z",
     "shell.execute_reply.started": "2022-01-20T19:35:14.532268Z"
    }
   },
   "outputs": [],
   "source": [
    "a = df5.select_dtypes(include=['int64', 'float64'])\n",
    "a.head()"
   ]
  },
  {
   "cell_type": "code",
   "execution_count": 63,
   "metadata": {
    "ExecuteTime": {
     "end_time": "2021-12-03T21:30:03.749164Z",
     "start_time": "2021-12-03T21:30:03.216391Z"
    },
    "execution": {
     "iopub.execute_input": "2022-01-20T19:35:14.601164Z",
     "iopub.status.busy": "2022-01-20T19:35:14.600937Z",
     "iopub.status.idle": "2022-01-20T19:35:14.835040Z",
     "shell.execute_reply": "2022-01-20T19:35:14.834063Z",
     "shell.execute_reply.started": "2022-01-20T19:35:14.601137Z"
    }
   },
   "outputs": [],
   "source": [
    " rs = RobustScaler()\n",
    "mms = MinMaxScaler()\n",
    "\n",
    "# competition distance\n",
    "df5['competition_distance'] = rs.fit_transform( df5[['competition_distance']].values )\n",
    "#pickle.dump( rs, open( '/home/mvrcosp/repos/DSP/Rossmann/Pickles/competition_distance_scaler.pkl', 'wb') )\n",
    "\n",
    "# competition time month\n",
    "df5['competition_time_month'] = rs.fit_transform( df5[['competition_time_month']].values )\n",
    "#pickle.dump( rs, open( '/home/mvrcosp/repos/DSP/Rossmann/Pickles/competition_time_month_scaler.pkl', 'wb') )\n",
    "\n",
    "# promo time week\n",
    "df5['promo_time_week'] = mms.fit_transform( df5[['promo_time_week']].values )\n",
    "#pickle.dump( rs, open( '/home/mvrcosp/repos/DSP/Rossmann/Pickles/promo_time_week_scaler.pkl', 'wb') )\n",
    "\n",
    "# year\n",
    "df5['year'] = mms.fit_transform( df5[['year']].values )\n",
    "#pickle.dump( mms, open( '/home/mvrcosp/repos/DSP/Rossmann/Pickles/year_scaler.pkl', 'wb') )"
   ]
  },
  {
   "cell_type": "markdown",
   "metadata": {},
   "source": [
    "## 5.2 Encoding (Categorical Attributes)"
   ]
  },
  {
   "cell_type": "code",
   "execution_count": 64,
   "metadata": {
    "ExecuteTime": {
     "end_time": "2021-12-03T21:30:03.774846Z",
     "start_time": "2021-12-03T21:30:03.751137Z"
    },
    "execution": {
     "iopub.execute_input": "2022-01-20T19:35:14.836716Z",
     "iopub.status.busy": "2022-01-20T19:35:14.836363Z",
     "iopub.status.idle": "2022-01-20T19:35:14.861280Z",
     "shell.execute_reply": "2022-01-20T19:35:14.860581Z",
     "shell.execute_reply.started": "2022-01-20T19:35:14.836677Z"
    }
   },
   "outputs": [],
   "source": [
    "df5.head()"
   ]
  },
  {
   "cell_type": "code",
   "execution_count": 65,
   "metadata": {
    "ExecuteTime": {
     "end_time": "2021-12-03T21:30:04.63265Z",
     "start_time": "2021-12-03T21:30:03.776895Z"
    },
    "execution": {
     "iopub.execute_input": "2022-01-20T19:35:14.862808Z",
     "iopub.status.busy": "2022-01-20T19:35:14.862500Z",
     "iopub.status.idle": "2022-01-20T19:35:15.331691Z",
     "shell.execute_reply": "2022-01-20T19:35:15.330796Z",
     "shell.execute_reply.started": "2022-01-20T19:35:14.862768Z"
    }
   },
   "outputs": [],
   "source": [
    " # state_holiday - One Hot Encoding\n",
    "df5 = pd.get_dummies(df5, prefix=['state_holiday'], columns=['state_holiday'])\n",
    "\n",
    "# store_type - Label Encoding\n",
    "le = LabelEncoder()\n",
    "df5['store_type'] = le.fit_transform( df5['store_type'] )\n",
    "#pickle.dump( le, open( '/home/mvrcosp/repos/DSP/Rossmann/Pickles/store_type_scaler.pkl', 'wb') )\n",
    "\n",
    "# assortment - Ordinal Encoding\n",
    "assortment_dict = {'basic': 1,  'extra': 2, 'extended': 3}\n",
    "df5['assortment'] = df5['assortment'].map( assortment_dict )"
   ]
  },
  {
   "cell_type": "markdown",
   "metadata": {},
   "source": [
    "## 5.3 Target Variable Transformation (Logarithm Transformation)"
   ]
  },
  {
   "cell_type": "code",
   "execution_count": 66,
   "metadata": {
    "ExecuteTime": {
     "end_time": "2021-12-03T21:30:04.67394Z",
     "start_time": "2021-12-03T21:30:04.635507Z"
    },
    "execution": {
     "iopub.execute_input": "2022-01-20T19:35:15.333742Z",
     "iopub.status.busy": "2022-01-20T19:35:15.332964Z",
     "iopub.status.idle": "2022-01-20T19:35:15.361168Z",
     "shell.execute_reply": "2022-01-20T19:35:15.360462Z",
     "shell.execute_reply.started": "2022-01-20T19:35:15.333701Z"
    }
   },
   "outputs": [],
   "source": [
    "df5['sales'] = np.log1p( df5['sales'] )"
   ]
  },
  {
   "cell_type": "code",
   "execution_count": 67,
   "metadata": {
    "ExecuteTime": {
     "end_time": "2021-12-03T21:30:09.146258Z",
     "start_time": "2021-12-03T21:30:04.677348Z"
    },
    "execution": {
     "iopub.execute_input": "2022-01-20T19:35:15.363394Z",
     "iopub.status.busy": "2022-01-20T19:35:15.362408Z",
     "iopub.status.idle": "2022-01-20T19:35:18.855630Z",
     "shell.execute_reply": "2022-01-20T19:35:18.854732Z",
     "shell.execute_reply.started": "2022-01-20T19:35:15.363357Z"
    }
   },
   "outputs": [],
   "source": [
    "sns.distplot(df5.sales)"
   ]
  },
  {
   "cell_type": "markdown",
   "metadata": {},
   "source": [
    "## 5.4 Dealing With the Cyclic Nature of Time"
   ]
  },
  {
   "cell_type": "code",
   "execution_count": 68,
   "metadata": {
    "ExecuteTime": {
     "end_time": "2021-12-03T21:30:21.268844Z",
     "start_time": "2021-12-03T21:30:09.148539Z"
    },
    "execution": {
     "iopub.execute_input": "2022-01-20T19:35:18.857887Z",
     "iopub.status.busy": "2022-01-20T19:35:18.857047Z",
     "iopub.status.idle": "2022-01-20T19:35:28.585036Z",
     "shell.execute_reply": "2022-01-20T19:35:28.584058Z",
     "shell.execute_reply.started": "2022-01-20T19:35:18.857850Z"
    }
   },
   "outputs": [],
   "source": [
    "# day of week\n",
    "df5['day_of_week_sin'] = df5['day_of_week'].apply( lambda x: np.sin( x * ( 2. * np.pi/7 ) ) )\n",
    "df5['day_of_week_cos'] = df5['day_of_week'].apply( lambda x: np.cos( x * ( 2. * np.pi/7 ) ) )\n",
    "\n",
    "# month\n",
    "df5['month_sin'] = df5['month'].apply( lambda x: np.sin( x * ( 2. * np.pi/12 ) ) )\n",
    "df5['month_cos'] = df5['month'].apply( lambda x: np.cos( x * ( 2. * np.pi/12 ) ) )\n",
    "\n",
    "# day \n",
    "df5['day_sin'] = df5['day'].apply( lambda x: np.sin( x * ( 2. * np.pi/30 ) ) )\n",
    "df5['day_cos'] = df5['day'].apply( lambda x: np.cos( x * ( 2. * np.pi/30 ) ) )\n",
    "\n",
    "# week of year\n",
    "df5['week_of_year_sin'] = df5['week_of_year'].apply( lambda x: np.sin( x * ( 2. * np.pi/52 ) ) )\n",
    "df5['week_of_year_cos'] = df5['week_of_year'].apply( lambda x: np.cos( x * ( 2. * np.pi/52 ) ) )"
   ]
  },
  {
   "cell_type": "markdown",
   "metadata": {},
   "source": [
    "# 6.0 Feature Selection"
   ]
  },
  {
   "cell_type": "code",
   "execution_count": 69,
   "metadata": {
    "ExecuteTime": {
     "end_time": "2021-12-03T21:30:21.522225Z",
     "start_time": "2021-12-03T21:30:21.271885Z"
    },
    "execution": {
     "iopub.execute_input": "2022-01-20T19:35:28.587165Z",
     "iopub.status.busy": "2022-01-20T19:35:28.586755Z",
     "iopub.status.idle": "2022-01-20T19:35:28.863192Z",
     "shell.execute_reply": "2022-01-20T19:35:28.861940Z",
     "shell.execute_reply.started": "2022-01-20T19:35:28.587118Z"
    }
   },
   "outputs": [],
   "source": [
    "df6 = df5.copy()"
   ]
  },
  {
   "cell_type": "markdown",
   "metadata": {},
   "source": [
    "## 6.1 Split DataFrame into Traning and Test Dataset"
   ]
  },
  {
   "cell_type": "code",
   "execution_count": 70,
   "metadata": {
    "ExecuteTime": {
     "end_time": "2021-12-03T21:30:22.358472Z",
     "start_time": "2021-12-03T21:30:21.523835Z"
    },
    "execution": {
     "iopub.execute_input": "2022-01-20T19:35:28.865235Z",
     "iopub.status.busy": "2022-01-20T19:35:28.864965Z",
     "iopub.status.idle": "2022-01-20T19:35:28.930217Z",
     "shell.execute_reply": "2022-01-20T19:35:28.929139Z",
     "shell.execute_reply.started": "2022-01-20T19:35:28.865201Z"
    }
   },
   "outputs": [],
   "source": [
    "cols_to_drop = ['week_of_year', 'day', 'month', 'day_of_week', 'promo_since', 'competition_since', 'year_week']\n",
    "df6.drop(cols_to_drop, axis=1, inplace=True)"
   ]
  },
  {
   "cell_type": "code",
   "execution_count": 71,
   "metadata": {
    "ExecuteTime": {
     "end_time": "2021-12-03T21:30:22.609374Z",
     "start_time": "2021-12-03T21:30:22.361797Z"
    },
    "execution": {
     "iopub.execute_input": "2022-01-20T19:35:28.931988Z",
     "iopub.status.busy": "2022-01-20T19:35:28.931717Z",
     "iopub.status.idle": "2022-01-20T19:35:29.045419Z",
     "shell.execute_reply": "2022-01-20T19:35:29.044519Z",
     "shell.execute_reply.started": "2022-01-20T19:35:28.931955Z"
    }
   },
   "outputs": [],
   "source": [
    "# training dataset\n",
    "X_train = df6[df6['date'] < '2015-06-19']\n",
    "y_train = X_train['sales']\n",
    "\n",
    "# test dataset\n",
    "X_test = df6[df6['date'] >= '2015-06-19']\n",
    "y_test = X_test['sales']\n",
    "\n",
    "print( 'Training Min Date: {}'.format( X_train['date'].min() ) )\n",
    "print( 'Training Max Date: {}'.format( X_train['date'].max() ) )\n",
    "\n",
    "print( '\\nTest Min Date: {}'.format( X_test['date'].min() ) )\n",
    "print( 'Test Max Date: {}'.format( X_test['date'].max() ) )"
   ]
  },
  {
   "cell_type": "markdown",
   "metadata": {},
   "source": [
    "## 6.2 Boruta Algorithm to Select Features"
   ]
  },
  {
   "cell_type": "code",
   "execution_count": 72,
   "metadata": {
    "ExecuteTime": {
     "end_time": "2021-12-03T21:30:22.614473Z",
     "start_time": "2021-12-03T21:30:22.611586Z"
    },
    "execution": {
     "iopub.execute_input": "2022-01-20T19:35:29.046888Z",
     "iopub.status.busy": "2022-01-20T19:35:29.046650Z",
     "iopub.status.idle": "2022-01-20T19:35:29.051576Z",
     "shell.execute_reply": "2022-01-20T19:35:29.050403Z",
     "shell.execute_reply.started": "2022-01-20T19:35:29.046860Z"
    }
   },
   "outputs": [],
   "source": [
    "# training and test dataset for Boruta\n",
    "#X_train_n = X_train.drop( ['date', 'sales'], axis=1 ).values\n",
    "#y_train_n = y_train.values.ravel()\n",
    "\n",
    "# define RandomForestRegressor\n",
    "#rf = RandomForestRegressor( n_jobs=-1 )\n",
    "\n",
    "# define Boruta\n",
    "#boruta = BorutaPy( rf, n_estimators='auto', verbose=2, random_state=42 ).fit( X_train_n, y_train_n )"
   ]
  },
  {
   "cell_type": "markdown",
   "metadata": {},
   "source": [
    "### 6.2.1 Best Features from Boruta"
   ]
  },
  {
   "cell_type": "code",
   "execution_count": 73,
   "metadata": {
    "ExecuteTime": {
     "end_time": "2021-12-03T21:30:22.829082Z",
     "start_time": "2021-12-03T21:30:22.61658Z"
    },
    "execution": {
     "iopub.execute_input": "2022-01-20T19:35:29.053935Z",
     "iopub.status.busy": "2022-01-20T19:35:29.053694Z",
     "iopub.status.idle": "2022-01-20T19:35:29.069824Z",
     "shell.execute_reply": "2022-01-20T19:35:29.069022Z",
     "shell.execute_reply.started": "2022-01-20T19:35:29.053909Z"
    }
   },
   "outputs": [],
   "source": [
    "#cols_selected = boruta.support_.tolist()\n",
    "\n",
    "# best features\n",
    "#X_train_fs = X_train.drop( ['date', 'sales'], axis=1 )\n",
    "#cols_selected_boruta = X_train_fs.iloc[:, cols_selected].columns.to_list()\n",
    "\n",
    "# not selected boruta\n",
    "#cols_not_selected_boruta = list( np.setdiff1d( X_train_fs.columns, cols_selected_boruta ) )"
   ]
  },
  {
   "cell_type": "markdown",
   "metadata": {},
   "source": [
    "## 6.3 Manual Feature Selection"
   ]
  },
  {
   "cell_type": "code",
   "execution_count": 74,
   "metadata": {
    "ExecuteTime": {
     "end_time": "2021-12-03T21:30:23.029714Z",
     "start_time": "2021-12-03T21:30:22.831825Z"
    },
    "execution": {
     "iopub.execute_input": "2022-01-20T19:35:29.071679Z",
     "iopub.status.busy": "2022-01-20T19:35:29.070993Z",
     "iopub.status.idle": "2022-01-20T19:35:29.108484Z",
     "shell.execute_reply": "2022-01-20T19:35:29.107601Z",
     "shell.execute_reply.started": "2022-01-20T19:35:29.071629Z"
    }
   },
   "outputs": [],
   "source": [
    "df6.head()"
   ]
  },
  {
   "cell_type": "code",
   "execution_count": 75,
   "metadata": {
    "ExecuteTime": {
     "end_time": "2021-12-03T21:30:23.171947Z",
     "start_time": "2021-12-03T21:30:23.033068Z"
    },
    "execution": {
     "iopub.execute_input": "2022-01-20T19:35:29.110266Z",
     "iopub.status.busy": "2022-01-20T19:35:29.109855Z",
     "iopub.status.idle": "2022-01-20T19:35:29.123625Z",
     "shell.execute_reply": "2022-01-20T19:35:29.122600Z",
     "shell.execute_reply.started": "2022-01-20T19:35:29.110233Z"
    }
   },
   "outputs": [],
   "source": [
    "cols_selected_boruta = [\n",
    "    'store',\n",
    "    'promo',\n",
    "    'store_type',\n",
    "    'assortment',\n",
    "    'competition_distance',\n",
    "    'competition_open_since_month',\n",
    "    'competition_open_since_year',\n",
    "    'promo2',\n",
    "    'promo2_since_week',\n",
    "    'promo2_since_year',\n",
    "    'competition_time_month',\n",
    "    'promo_time_week',\n",
    "    'day_of_week_sin',\n",
    "    'day_of_week_cos',\n",
    "    'month_sin',\n",
    "    'month_cos',\n",
    "    'day_sin',\n",
    "    'day_cos',\n",
    "    'week_of_year_sin',\n",
    "    'week_of_year_cos']\n",
    "\n",
    "# columns to add\n",
    "feat_to_add = ['date', 'sales']\n",
    "\n",
    "cols_selected_boruta_full = cols_selected_boruta.copy()\n",
    "cols_selected_boruta_full.extend( feat_to_add )"
   ]
  },
  {
   "cell_type": "markdown",
   "metadata": {},
   "source": [
    "# 7.0 Model Data"
   ]
  },
  {
   "cell_type": "code",
   "execution_count": 76,
   "metadata": {
    "ExecuteTime": {
     "end_time": "2021-12-03T21:30:23.60297Z",
     "start_time": "2021-12-03T21:30:23.174612Z"
    },
    "execution": {
     "iopub.execute_input": "2022-01-20T19:35:29.125513Z",
     "iopub.status.busy": "2022-01-20T19:35:29.124807Z",
     "iopub.status.idle": "2022-01-20T19:35:29.258738Z",
     "shell.execute_reply": "2022-01-20T19:35:29.257583Z",
     "shell.execute_reply.started": "2022-01-20T19:35:29.125469Z"
    }
   },
   "outputs": [],
   "source": [
    "x_train = X_train[cols_selected_boruta]\n",
    "x_test = X_test[cols_selected_boruta]\n",
    "\n",
    "# Time Series Data Preparation\n",
    "x_training = X_train[cols_selected_boruta_full]"
   ]
  },
  {
   "cell_type": "markdown",
   "metadata": {},
   "source": [
    "## 7.1 Average Model - Baseline"
   ]
  },
  {
   "cell_type": "code",
   "execution_count": 77,
   "metadata": {
    "ExecuteTime": {
     "end_time": "2021-12-03T21:41:28.720497Z",
     "start_time": "2021-12-03T21:41:28.698564Z"
    },
    "execution": {
     "iopub.execute_input": "2022-01-20T19:35:43.349205Z",
     "iopub.status.busy": "2022-01-20T19:35:43.348680Z",
     "iopub.status.idle": "2022-01-20T19:35:43.401149Z",
     "shell.execute_reply": "2022-01-20T19:35:43.400588Z",
     "shell.execute_reply.started": "2022-01-20T19:35:43.349170Z"
    }
   },
   "outputs": [],
   "source": [
    "aux1 = x_test.copy()\n",
    "aux1['sales'] = y_test.copy()\n",
    "\n",
    "# prediction\n",
    "aux2 = aux1[['store', 'sales']].groupby('store').mean().reset_index().rename( columns={'sales': 'predictions'} )\n",
    "aux1 = pd.merge(aux1, aux2, how='left', on='store')\n",
    "yhat_baseline = aux1['predictions']\n",
    "\n",
    "# performance\n",
    "baseline_result = ml_error('Average Model', np.expm1( y_test ), np.expm1( yhat_baseline ))\n",
    "baseline_result"
   ]
  },
  {
   "cell_type": "markdown",
   "metadata": {},
   "source": [
    "## 7.2 Linear Regression Model"
   ]
  },
  {
   "cell_type": "code",
   "execution_count": 78,
   "metadata": {
    "execution": {
     "iopub.execute_input": "2022-01-20T19:35:44.637505Z",
     "iopub.status.busy": "2022-01-20T19:35:44.636758Z",
     "iopub.status.idle": "2022-01-20T19:35:45.253482Z",
     "shell.execute_reply": "2022-01-20T19:35:45.252295Z",
     "shell.execute_reply.started": "2022-01-20T19:35:44.637451Z"
    }
   },
   "outputs": [],
   "source": [
    " # model\n",
    "lr = LinearRegression().fit(x_train, y_train)\n",
    "\n",
    "# prediction\n",
    "yhat_lr = lr.predict(x_test)\n",
    "\n",
    "# performance\n",
    "lr_result = ml_error('Linear Regression', np.expm1( y_test ), np.expm1( yhat_lr ))\n",
    "lr_result"
   ]
  },
  {
   "cell_type": "markdown",
   "metadata": {},
   "source": [
    "### 7.2.1 Linear Regression Model - Cross Validation"
   ]
  },
  {
   "cell_type": "code",
   "execution_count": 79,
   "metadata": {
    "execution": {
     "iopub.execute_input": "2022-01-20T19:35:46.375288Z",
     "iopub.status.busy": "2022-01-20T19:35:46.374358Z",
     "iopub.status.idle": "2022-01-20T19:35:49.648055Z",
     "shell.execute_reply": "2022-01-20T19:35:49.647140Z",
     "shell.execute_reply.started": "2022-01-20T19:35:46.375249Z"
    }
   },
   "outputs": [],
   "source": [
    "lr_result_cv = ts_cross_validation (x_training, 5, \"Linear Regression\", lr, verbose= False)\n",
    "lr_result_cv"
   ]
  },
  {
   "cell_type": "markdown",
   "metadata": {},
   "source": [
    "## 7.3 Linear Regression Regularized Model - Lasso"
   ]
  },
  {
   "cell_type": "code",
   "execution_count": 80,
   "metadata": {
    "execution": {
     "iopub.execute_input": "2022-01-20T19:35:49.654729Z",
     "iopub.status.busy": "2022-01-20T19:35:49.653853Z",
     "iopub.status.idle": "2022-01-20T19:35:50.093983Z",
     "shell.execute_reply": "2022-01-20T19:35:50.093080Z",
     "shell.execute_reply.started": "2022-01-20T19:35:49.654669Z"
    }
   },
   "outputs": [],
   "source": [
    " # model\n",
    "lrr = Lasso(alpha=0.01).fit(x_train, y_train)\n",
    "\n",
    "# prediction\n",
    "yhat_lrr = lrr.predict( x_test )\n",
    "\n",
    "# performance\n",
    "lrr_result = ml_error( 'Linear Regression - Lasso', np.expm1( y_test ), np.expm1( yhat_lrr ) )\n",
    "lrr_result"
   ]
  },
  {
   "cell_type": "markdown",
   "metadata": {},
   "source": [
    "### 7.3.1 Lasso - Cross Validation"
   ]
  },
  {
   "cell_type": "code",
   "execution_count": 81,
   "metadata": {
    "execution": {
     "iopub.execute_input": "2022-01-20T19:35:53.347076Z",
     "iopub.status.busy": "2022-01-20T19:35:53.346799Z",
     "iopub.status.idle": "2022-01-20T19:35:55.564967Z",
     "shell.execute_reply": "2022-01-20T19:35:55.564076Z",
     "shell.execute_reply.started": "2022-01-20T19:35:53.347048Z"
    }
   },
   "outputs": [],
   "source": [
    "lrr_result_cv = ts_cross_validation(x_training, 5, \"Lasso\", lrr, verbose=False)\n",
    "lrr_result_cv"
   ]
  },
  {
   "cell_type": "markdown",
   "metadata": {},
   "source": [
    "## 7.4  Random Forest Regressor"
   ]
  },
  {
   "cell_type": "code",
   "execution_count": 82,
   "metadata": {
    "execution": {
     "iopub.execute_input": "2022-01-20T19:35:58.419912Z",
     "iopub.status.busy": "2022-01-20T19:35:58.419656Z",
     "iopub.status.idle": "2022-01-20T19:49:56.845610Z",
     "shell.execute_reply": "2022-01-20T19:49:56.844319Z",
     "shell.execute_reply.started": "2022-01-20T19:35:58.419885Z"
    }
   },
   "outputs": [],
   "source": [
    " # model\n",
    "rf = RandomForestRegressor(n_estimators=100, random_state=42).fit( x_train, y_train)\n",
    "\n",
    "# prediction\n",
    "yhat_rf = rf.predict(x_test)\n",
    "\n",
    "# performance\n",
    "rf_result = ml_error('Random Forest Regressor', np.expm1(y_test), np.expm1(yhat_rf))\n",
    "rf_result"
   ]
  },
  {
   "cell_type": "markdown",
   "metadata": {},
   "source": [
    "### 7.4.1 Random Forest Regressor - Cross Validation"
   ]
  },
  {
   "cell_type": "code",
   "execution_count": 83,
   "metadata": {
    "execution": {
     "iopub.execute_input": "2022-01-20T19:49:56.849092Z",
     "iopub.status.busy": "2022-01-20T19:49:56.848540Z",
     "iopub.status.idle": "2022-01-20T20:49:00.999326Z",
     "shell.execute_reply": "2022-01-20T20:49:00.998197Z",
     "shell.execute_reply.started": "2022-01-20T19:49:56.849039Z"
    }
   },
   "outputs": [],
   "source": [
    "rf_result_cv = ts_cross_validation(x_training, 5, \"Random Forest Regressor\", rf, verbose=True)\n",
    "rf_result_cv"
   ]
  },
  {
   "cell_type": "markdown",
   "metadata": {},
   "source": [
    "## 7.5  XGBoost Regressor"
   ]
  },
  {
   "cell_type": "code",
   "execution_count": 84,
   "metadata": {
    "execution": {
     "iopub.execute_input": "2022-01-20T20:49:01.001141Z",
     "iopub.status.busy": "2022-01-20T20:49:01.000887Z",
     "iopub.status.idle": "2022-01-20T20:54:09.442581Z",
     "shell.execute_reply": "2022-01-20T20:54:09.441417Z",
     "shell.execute_reply.started": "2022-01-20T20:49:01.001110Z"
    }
   },
   "outputs": [],
   "source": [
    " # model\n",
    "model_xgb = xgb.XGBRegressor(objective='reg:squarederror',\n",
    "                              n_estimators=100, \n",
    "                              eta=0.01, \n",
    "                              max_depth=10, \n",
    "                              subsample=0.7,\n",
    "                              colsample_bytee=0.9).fit(x_train, y_train)\n",
    "\n",
    "# prediction\n",
    "yhat_xgb = model_xgb.predict(x_test)\n",
    "\n",
    "# performance\n",
    "xgb_result = ml_error('XGBoost Regressor', np.expm1(y_test), np.expm1(yhat_xgb ))\n",
    "xgb_result"
   ]
  },
  {
   "cell_type": "markdown",
   "metadata": {},
   "source": [
    "### 7.5.1 XGBoost Regressor - Cross Validation"
   ]
  },
  {
   "cell_type": "code",
   "execution_count": 85,
   "metadata": {
    "execution": {
     "iopub.execute_input": "2022-01-20T20:54:09.444921Z",
     "iopub.status.busy": "2022-01-20T20:54:09.444587Z",
     "iopub.status.idle": "2022-01-20T21:15:25.111081Z",
     "shell.execute_reply": "2022-01-20T21:15:25.110203Z",
     "shell.execute_reply.started": "2022-01-20T20:54:09.444893Z"
    }
   },
   "outputs": [],
   "source": [
    "xgb_result_cv = ts_cross_validation(x_training, 5, 'XGBoost Regressor', model_xgb, verbose=True)\n",
    "xgb_result_cv"
   ]
  },
  {
   "cell_type": "markdown",
   "metadata": {},
   "source": [
    "## 7.6 Comparing Models Performance"
   ]
  },
  {
   "cell_type": "markdown",
   "metadata": {},
   "source": [
    "### 7.6.1 Single Performance"
   ]
  },
  {
   "cell_type": "code",
   "execution_count": 86,
   "metadata": {
    "execution": {
     "iopub.execute_input": "2022-01-20T21:15:25.112715Z",
     "iopub.status.busy": "2022-01-20T21:15:25.112389Z",
     "iopub.status.idle": "2022-01-20T21:15:25.132179Z",
     "shell.execute_reply": "2022-01-20T21:15:25.131144Z",
     "shell.execute_reply.started": "2022-01-20T21:15:25.112674Z"
    }
   },
   "outputs": [],
   "source": [
    "modelling_result = pd.concat([baseline_result, lr_result, lrr_result, rf_result, xgb_result])\n",
    "modelling_result.sort_values('RMSE')"
   ]
  },
  {
   "cell_type": "markdown",
   "metadata": {},
   "source": [
    "### 7.6.2 Real Performance - Cross Validation"
   ]
  },
  {
   "cell_type": "code",
   "execution_count": 87,
   "metadata": {
    "execution": {
     "iopub.execute_input": "2022-01-20T21:15:25.134845Z",
     "iopub.status.busy": "2022-01-20T21:15:25.134037Z",
     "iopub.status.idle": "2022-01-20T21:15:25.150177Z",
     "shell.execute_reply": "2022-01-20T21:15:25.149149Z",
     "shell.execute_reply.started": "2022-01-20T21:15:25.134798Z"
    }
   },
   "outputs": [],
   "source": [
    "modelling_result_cv = pd.concat([lr_result_cv, lrr_result_cv, rf_result_cv, xgb_result_cv])\n",
    "modelling_result_cv"
   ]
  },
  {
   "cell_type": "code",
   "execution_count": 94,
   "metadata": {
    "execution": {
     "iopub.execute_input": "2022-01-20T21:20:08.981234Z",
     "iopub.status.busy": "2022-01-20T21:20:08.980700Z",
     "iopub.status.idle": "2022-01-20T21:20:08.986028Z",
     "shell.execute_reply": "2022-01-20T21:20:08.985112Z",
     "shell.execute_reply.started": "2022-01-20T21:20:08.981201Z"
    }
   },
   "outputs": [],
   "source": [
    "with open(\"model_result_cv.pkl\", \"wb\") as f:\n",
    "    pickle.dump(modelling_result_cv, f)"
   ]
  },
  {
   "cell_type": "markdown",
   "metadata": {},
   "source": [
    "# 8.0 Hyperparameter fine tuning"
   ]
  },
  {
   "cell_type": "markdown",
   "metadata": {},
   "source": [
    "## 8.1 Random Search"
   ]
  },
  {
   "cell_type": "code",
   "execution_count": null,
   "metadata": {},
   "outputs": [],
   "source": [
    "# Random Search\n",
    "# Grid Search\n",
    "\n",
    "param = {'n_estimators': [int(x) for x in np.linspace(start = 1500, stop = 3500, num = 5)],\n",
    "        'eta': [0.01, 0.03],\n",
    "        'max_depth': [3, 5, 9],,\n",
    "         'subsample': [0.1, 0.5, 0.7],\n",
    "         'colsample_bytee': [0.3, 0.7, 0.9],\n",
    "         'min_child_weight': [3, 8, 15],\n",
    "        }\n",
    "\n",
    "MAX_EVAL = 5"
   ]
  },
  {
   "cell_type": "code",
   "execution_count": null,
   "metadata": {},
   "outputs": [],
   "source": [
    "#final result\n",
    "final_result = pd.DataFrame()\n",
    "\n",
    "for i in range ( MAX_EVAL ):\n",
    "    hp = {k: random.sample (v, 1)[0] for k, v in param.items()}\n",
    "    print(hp)\n",
    "    \n",
    "    model_xgb = xgb.XGBRegressor(objective='reg:squarederror',\n",
    "                                n_estimators = hp['n_estimators'],\n",
    "                                 eta = hp['eta'], \n",
    "                                 max_depth = hp['max_depth'],\n",
    "                                 subsample = hp['subsample'],\n",
    "                                 colsample_bytee = hp['colsample_bytee'],\n",
    "                                 min_child_weight = hp['min_child_weight'])\n",
    "    \n",
    "    #performance\n",
    "    \n",
    "    result = cross_validation(x_training, 5, 'XGBoost Regressor', model_xgb, verbose=True)\n",
    "    final_result = pd.concat([final_result, result])"
   ]
  },
  {
   "cell_type": "code",
   "execution_count": null,
   "metadata": {},
   "outputs": [],
   "source": [
    "final_result"
   ]
  },
  {
   "cell_type": "markdown",
   "metadata": {},
   "source": [
    "# 8.2 Final Model"
   ]
  },
  {
   "cell_type": "code",
   "execution_count": 103,
   "metadata": {
    "execution": {
     "iopub.execute_input": "2022-01-20T21:24:16.625878Z",
     "iopub.status.busy": "2022-01-20T21:24:16.625584Z",
     "iopub.status.idle": "2022-01-20T21:24:16.630843Z",
     "shell.execute_reply": "2022-01-20T21:24:16.629944Z",
     "shell.execute_reply.started": "2022-01-20T21:24:16.625848Z"
    }
   },
   "outputs": [],
   "source": [
    "param_tuned = {\n",
    "    'n_estimators': 3000,\n",
    "    'eta': 0.03,\n",
    "    'max_depth': 5,\n",
    "    'subsample': 0.7,\n",
    "    'colsample_bytee': 0.7,\n",
    "    'min_child_weight': 3\n",
    "}"
   ]
  },
  {
   "cell_type": "code",
   "execution_count": 105,
   "metadata": {
    "execution": {
     "iopub.execute_input": "2022-01-20T21:25:11.560718Z",
     "iopub.status.busy": "2022-01-20T21:25:11.560050Z",
     "iopub.status.idle": "2022-01-20T22:29:44.424133Z",
     "shell.execute_reply": "2022-01-20T22:29:44.423398Z",
     "shell.execute_reply.started": "2022-01-20T21:25:11.560665Z"
    }
   },
   "outputs": [],
   "source": [
    "model_xgb_tuned = xgb.XGBRegressor(objective='reg:squarederror',\n",
    "                                n_estimators = param_tuned['n_estimators'],\n",
    "                                 eta = param_tuned['eta'], \n",
    "                                 max_depth = param_tuned['max_depth'],\n",
    "                                 subsample = param_tuned['subsample'],\n",
    "                                 colsample_bytee = param_tuned['colsample_bytee'],\n",
    "                                 min_child_weight = param_tuned['min_child_weight']).fit(x_train, y_train)\n",
    "\n",
    "#prediction\n",
    "yhat_xgb_tuned = model_xgb_tuned.predict(x_test)\n",
    "\n",
    "\n",
    "#performance\n",
    "xgb_result_tuned = ml_error('XGBoost Regressor', np.expm1(y_test), np.expm1(yhat_xgb_tuned))\n",
    "xgb_result_tuned\n",
    "\n",
    "\n",
    "with open(\"model_rossmann.pkl\", \"wb\") as f:\n",
    "    pickle.dump(model_xgb_tuned, f)"
   ]
  },
  {
   "cell_type": "code",
   "execution_count": 106,
   "metadata": {
    "execution": {
     "iopub.execute_input": "2022-01-20T22:29:44.426670Z",
     "iopub.status.busy": "2022-01-20T22:29:44.425770Z",
     "iopub.status.idle": "2022-01-20T22:29:44.437771Z",
     "shell.execute_reply": "2022-01-20T22:29:44.436802Z",
     "shell.execute_reply.started": "2022-01-20T22:29:44.426624Z"
    }
   },
   "outputs": [],
   "source": [
    "mpe = mean_percentage_error(np.expm1(y_test), np.expm1(yhat_xgb_tuned))\n",
    "mpe"
   ]
  },
  {
   "cell_type": "markdown",
   "metadata": {},
   "source": [
    "# 9.0  Interpreting Results"
   ]
  },
  {
   "cell_type": "code",
   "execution_count": 112,
   "metadata": {
    "execution": {
     "iopub.execute_input": "2022-01-20T22:44:10.647383Z",
     "iopub.status.busy": "2022-01-20T22:44:10.647043Z",
     "iopub.status.idle": "2022-01-20T22:44:10.660179Z",
     "shell.execute_reply": "2022-01-20T22:44:10.659588Z",
     "shell.execute_reply.started": "2022-01-20T22:44:10.647347Z"
    }
   },
   "outputs": [],
   "source": [
    "df9 = X_test[cols_selected_boruta_full]\n",
    "\n",
    "#rescale\n",
    "df9[\"sales\"] = np.expm1(df9[\"sales\"])\n",
    "df9[\"predictions\"] = np.expm1(yhat_xgb_tuned)"
   ]
  },
  {
   "cell_type": "code",
   "execution_count": 113,
   "metadata": {
    "execution": {
     "iopub.execute_input": "2022-01-20T22:44:13.480404Z",
     "iopub.status.busy": "2022-01-20T22:44:13.479978Z",
     "iopub.status.idle": "2022-01-20T22:44:13.501947Z",
     "shell.execute_reply": "2022-01-20T22:44:13.501101Z",
     "shell.execute_reply.started": "2022-01-20T22:44:13.480372Z"
    }
   },
   "outputs": [],
   "source": [
    "df9.head()"
   ]
  },
  {
   "cell_type": "markdown",
   "metadata": {},
   "source": [
    "## 9.1 Business Performance"
   ]
  },
  {
   "cell_type": "code",
   "execution_count": 114,
   "metadata": {
    "execution": {
     "iopub.execute_input": "2022-01-20T22:44:38.087883Z",
     "iopub.status.busy": "2022-01-20T22:44:38.087577Z",
     "iopub.status.idle": "2022-01-20T22:44:39.068468Z",
     "shell.execute_reply": "2022-01-20T22:44:39.067392Z",
     "shell.execute_reply.started": "2022-01-20T22:44:38.087847Z"
    }
   },
   "outputs": [],
   "source": [
    "# sum of predictions\n",
    "df91 = df9[[\"store\", \"predictions\"]].groupby(\"store\").sum().reset_index()\n",
    "\n",
    "#MAE and MAPE\n",
    "df9_aux1 = df9[['store', 'sales', 'predictions']].groupby( 'store' ).apply( lambda x: mean_absolute_error( x['sales'], x['predictions'] ) ).reset_index().rename( columns={0:'MAE'})\n",
    "df9_aux2 = df9[['store', 'sales', 'predictions']].groupby( 'store' ).apply( lambda x: mean_absolute_percentage_error( x['sales'], x['predictions'] ) ).reset_index().rename( columns={0:'MAPE'})\n",
    "\n",
    "# Merge\n",
    "df9_aux3 = pd.merge( df9_aux1, df9_aux2, how='inner', on='store' )\n",
    "df92 = pd.merge( df91, df9_aux3, how='inner', on='store' )\n",
    "\n",
    "# Scenarios\n",
    "df92['worst_scenario'] = df92['predictions'] - df92['MAE']\n",
    "df92['best_scenario'] = df92['predictions'] + df92['MAE']\n",
    "\n",
    "# order columns\n",
    "df92 = df92[['store', 'predictions', 'worst_scenario', 'best_scenario', 'MAE', 'MAPE']]"
   ]
  },
  {
   "cell_type": "code",
   "execution_count": 115,
   "metadata": {
    "execution": {
     "iopub.execute_input": "2022-01-20T22:44:41.531055Z",
     "iopub.status.busy": "2022-01-20T22:44:41.530439Z",
     "iopub.status.idle": "2022-01-20T22:44:41.544899Z",
     "shell.execute_reply": "2022-01-20T22:44:41.543877Z",
     "shell.execute_reply.started": "2022-01-20T22:44:41.531017Z"
    }
   },
   "outputs": [],
   "source": [
    "df92.sort_values(\"MAPE\", ascending=False).head()"
   ]
  },
  {
   "cell_type": "code",
   "execution_count": 116,
   "metadata": {
    "execution": {
     "iopub.execute_input": "2022-01-20T22:44:41.777680Z",
     "iopub.status.busy": "2022-01-20T22:44:41.777190Z",
     "iopub.status.idle": "2022-01-20T22:44:42.162938Z",
     "shell.execute_reply": "2022-01-20T22:44:42.162129Z",
     "shell.execute_reply.started": "2022-01-20T22:44:41.777641Z"
    }
   },
   "outputs": [],
   "source": [
    "sns.scatterplot(x = \"store\", y = \"MAPE\", data = df92)"
   ]
  },
  {
   "cell_type": "markdown",
   "metadata": {},
   "source": [
    "## 9.2 Total Performance"
   ]
  },
  {
   "cell_type": "code",
   "execution_count": 118,
   "metadata": {
    "execution": {
     "iopub.execute_input": "2022-01-20T22:45:08.861571Z",
     "iopub.status.busy": "2022-01-20T22:45:08.860906Z",
     "iopub.status.idle": "2022-01-20T22:45:08.876791Z",
     "shell.execute_reply": "2022-01-20T22:45:08.876115Z",
     "shell.execute_reply.started": "2022-01-20T22:45:08.861513Z"
    }
   },
   "outputs": [],
   "source": [
    "df93 = df92[[\"predictions\", \"worst_scenario\", \"best_scenario\"]].apply(lambda x: np.sum(x), axis = 0).reset_index().rename(columns = {\"index\" : \"Scenario\", 0: \"Values\"})\n",
    "df93[\"Values\"] = df93[\"Values\"].map(\"R${:,.2f}\".format)\n",
    "df93"
   ]
  },
  {
   "cell_type": "markdown",
   "metadata": {},
   "source": [
    "## 9.3 Machine Learning Performance"
   ]
  },
  {
   "cell_type": "code",
   "execution_count": 119,
   "metadata": {
    "execution": {
     "iopub.execute_input": "2022-01-20T22:45:20.029388Z",
     "iopub.status.busy": "2022-01-20T22:45:20.028677Z",
     "iopub.status.idle": "2022-01-20T22:45:20.036252Z",
     "shell.execute_reply": "2022-01-20T22:45:20.035689Z",
     "shell.execute_reply.started": "2022-01-20T22:45:20.029350Z"
    }
   },
   "outputs": [],
   "source": [
    "df9['error'] = df9['sales'] - df9['predictions']\n",
    "df9['error_rate'] = df9['predictions'] / df9['sales']"
   ]
  },
  {
   "cell_type": "code",
   "execution_count": 120,
   "metadata": {
    "execution": {
     "iopub.execute_input": "2022-01-20T22:45:31.269876Z",
     "iopub.status.busy": "2022-01-20T22:45:31.269141Z",
     "iopub.status.idle": "2022-01-20T22:45:39.985122Z",
     "shell.execute_reply": "2022-01-20T22:45:39.984466Z",
     "shell.execute_reply.started": "2022-01-20T22:45:31.269827Z"
    }
   },
   "outputs": [],
   "source": [
    "plt.subplot( 2, 2, 1 )\n",
    "sns.lineplot( x='date', y='sales', data=df9, label='SALES' )\n",
    "sns.lineplot( x='date', y='predictions', data=df9, label='PREDICTIONS' )\n",
    "\n",
    "plt.subplot( 2, 2, 2 )\n",
    "sns.lineplot( x='date', y='error_rate', data=df9 )\n",
    "plt.axhline( 1, linestyle='--')\n",
    "\n",
    "plt.subplot( 2, 2, 3 )\n",
    "sns.distplot( df9['error'] )\n",
    "\n",
    "plt.subplot( 2, 2, 4 )\n",
    "sns.scatterplot( df9['predictions'], df9['error'] )"
   ]
  },
  {
   "cell_type": "code",
   "execution_count": null,
   "metadata": {},
   "outputs": [],
   "source": []
  }
 ],
 "metadata": {
  "kernelspec": {
   "display_name": "Python 3 (ipykernel)",
   "language": "python",
   "name": "python3"
  },
  "language_info": {
   "codemirror_mode": {
    "name": "ipython",
    "version": 3
   },
   "file_extension": ".py",
   "mimetype": "text/x-python",
   "name": "python",
   "nbconvert_exporter": "python",
   "pygments_lexer": "ipython3",
   "version": "3.9.7"
  }
 },
 "nbformat": 4,
 "nbformat_minor": 4
}
