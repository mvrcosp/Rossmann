{
 "cells": [
  {
   "cell_type": "markdown",
   "metadata": {},
   "source": [
    "# 0.0 Imports"
   ]
  },
  {
   "cell_type": "code",
   "execution_count": 2,
   "metadata": {
    "execution": {
     "iopub.execute_input": "2022-01-19T23:24:38.494758Z",
     "iopub.status.busy": "2022-01-19T23:24:38.494528Z",
     "iopub.status.idle": "2022-01-19T23:24:59.170447Z",
     "shell.execute_reply": "2022-01-19T23:24:59.169236Z",
     "shell.execute_reply.started": "2022-01-19T23:24:38.494730Z"
    }
   },
   "outputs": [],
   "source": [
    "!pip install xgboost==0.90"
   ]
  },
  {
   "cell_type": "code",
   "execution_count": 3,
   "metadata": {
    "ExecuteTime": {
     "end_time": "2021-12-03T21:37:03.005843Z",
     "start_time": "2021-12-03T21:36:51.77493Z"
    },
    "execution": {
     "iopub.execute_input": "2022-01-19T23:24:59.172541Z",
     "iopub.status.busy": "2022-01-19T23:24:59.172288Z",
     "iopub.status.idle": "2022-01-19T23:25:00.663455Z",
     "shell.execute_reply": "2022-01-19T23:25:00.662509Z",
     "shell.execute_reply.started": "2022-01-19T23:24:59.172515Z"
    },
    "scrolled": true
   },
   "outputs": [],
   "source": [
    "import math\n",
    "import pickle\n",
    "\n",
    "import pandas as pd\n",
    "import numpy as np\n",
    "import inflection\n",
    "\n",
    "import matplotlib.pyplot as plt\n",
    "import seaborn as sns\n",
    "import xgboost as xgb\n",
    "\n",
    "from scipy import stats as ss\n",
    "#from boruta import BorutaPy\n",
    "\n",
    "from sklearn.preprocessing import RobustScaler, MinMaxScaler, LabelEncoder\n",
    "from sklearn.ensemble      import RandomForestRegressor\n",
    "from sklearn.linear_model  import LinearRegression, Lasso\n",
    "from sklearn.metrics       import mean_absolute_error, mean_squared_error #mean_absolute_percentage_error\n",
    "\n",
    "from IPython.core.display import HTML\n",
    "from IPython.display      import Image"
   ]
  },
  {
   "cell_type": "markdown",
   "metadata": {},
   "source": [
    "## 0.1 Helper Functions"
   ]
  },
  {
   "cell_type": "code",
   "execution_count": 4,
   "metadata": {
    "ExecuteTime": {
     "end_time": "2021-12-03T21:26:07.905025Z",
     "start_time": "2021-12-03T21:26:07.892306Z"
    },
    "execution": {
     "iopub.execute_input": "2022-01-19T23:25:00.667223Z",
     "iopub.status.busy": "2022-01-19T23:25:00.666264Z",
     "iopub.status.idle": "2022-01-19T23:25:00.703806Z",
     "shell.execute_reply": "2022-01-19T23:25:00.702587Z",
     "shell.execute_reply.started": "2022-01-19T23:25:00.667176Z"
    }
   },
   "outputs": [],
   "source": [
    "def jupyter_settings():\n",
    "    %matplotlib inline\n",
    "    %pylab inline\n",
    "    \n",
    "    plt.style.use( 'bmh' )\n",
    "    plt.rcParams['figure.figsize'] = [25, 12]\n",
    "    plt.rcParams['font.size'] = 24\n",
    "    \n",
    "    display( HTML( '<style>.container { width:100% !important; }</style>') )\n",
    "    pd.options.display.max_columns = None\n",
    "    pd.options.display.max_rows = None\n",
    "    pd.set_option( 'display.expand_frame_repr', False )\n",
    "    \n",
    "    sns.set()\n",
    "    \n",
    "def cramer_v( x, y ):\n",
    "    cm = pd.crosstab( x, y ).values\n",
    "    n = cm.sum()\n",
    "    r, k = cm.shape\n",
    "\n",
    "    chi2 = ss.chi2_contingency( cm )[0]\n",
    "    chi2corr = max( 0, chi2 - (k-1)*(r-1)/(n-1) )\n",
    "\n",
    "    kcorr = k - (k-1)**2/(n-1)\n",
    "    rcorr = r - (r-1)**2/(n-1)\n",
    "    return np.sqrt( (chi2corr/n) / ( min( kcorr-1, rcorr-1 ) ) )\n",
    "\n",
    "def mean_percentage_error( y, yhat ):\n",
    "    return np.mean( ( y - yhat ) / y )\n",
    "     \n",
    "    \n",
    "def mean_absolute_percentage_error( y, yhat ):\n",
    "    return np.mean( np.abs( ( y - yhat ) / y ) )\n",
    "\n",
    "    \n",
    "def ml_error( model_name, y, yhat ):\n",
    "    mae = mean_absolute_error( y, yhat )\n",
    "    mape = mean_absolute_percentage_error( y, yhat )\n",
    "    rmse = np.sqrt( mean_squared_error( y, yhat ) )\n",
    "    \n",
    "    return pd.DataFrame( { 'Model Name': model_name, \n",
    "                           'MAE': mae, \n",
    "                           'MAPE': mape,\n",
    "                           'RMSE': rmse }, index=[0] )\n",
    "\n",
    "def ts_cross_validation( x_training, kfold, model_name, model, verbose=False ):\n",
    "    mae_list = []\n",
    "    mape_list = []\n",
    "    rmse_list = []\n",
    "    for k in reversed( range( 1, kfold+1 ) ):\n",
    "        if verbose:\n",
    "            print( '\\nKFold Number: {}'.format( k ) )\n",
    "        # start and end date for validation \n",
    "        validation_start_date = x_training['date'].max() - datetime.timedelta( days=k*6*7)\n",
    "        validation_end_date = x_training['date'].max() - datetime.timedelta( days=(k-1)*6*7)\n",
    "\n",
    "        # filtering dataset\n",
    "        training = x_training[x_training['date'] < validation_start_date]\n",
    "        validation = x_training[(x_training['date'] >= validation_start_date) & (x_training['date'] <= validation_end_date)]\n",
    "\n",
    "        # training and validation dataset\n",
    "        # training\n",
    "        xtraining = training.drop( ['date', 'sales'], axis=1 ) \n",
    "        ytraining = training['sales']\n",
    "\n",
    "        # validation\n",
    "        xvalidation = validation.drop( ['date', 'sales'], axis=1 )\n",
    "        yvalidation = validation['sales']\n",
    "\n",
    "        # model\n",
    "        m = model.fit( xtraining, ytraining )\n",
    "\n",
    "        # prediction\n",
    "        yhat = m.predict( xvalidation )\n",
    "\n",
    "        # performance\n",
    "        m_result = ml_error( model_name, np.expm1( yvalidation ), np.expm1( yhat ) )\n",
    "\n",
    "        # store performance of each kfold iteration\n",
    "        mae_list.append(  m_result['MAE'] )\n",
    "        mape_list.append( m_result['MAPE'] )\n",
    "        rmse_list.append( m_result['RMSE'] )\n",
    "\n",
    "    return pd.DataFrame( {'Model Name': model_name,\n",
    "                          'MAE CV': np.round( np.mean( mae_list ), 2 ).astype( str ) + ' +/- ' + np.round( np.std( mae_list ), 2 ).astype( str ),\n",
    "                          'MAPE CV': np.round( np.mean( mape_list ), 2 ).astype( str ) + ' +/- ' + np.round( np.std( mape_list ), 2 ).astype( str ),\n",
    "                          'RMSE CV': np.round( np.mean( rmse_list ), 2 ).astype( str ) + ' +/- ' + np.round( np.std( rmse_list ), 2 ).astype( str ) }, index=[0] )\n"
   ]
  },
  {
   "cell_type": "code",
   "execution_count": 5,
   "metadata": {
    "ExecuteTime": {
     "end_time": "2021-12-03T21:26:08.126695Z",
     "start_time": "2021-12-03T21:26:07.907349Z"
    },
    "execution": {
     "iopub.execute_input": "2022-01-19T23:25:00.706136Z",
     "iopub.status.busy": "2022-01-19T23:25:00.705534Z",
     "iopub.status.idle": "2022-01-19T23:25:00.725534Z",
     "shell.execute_reply": "2022-01-19T23:25:00.724840Z",
     "shell.execute_reply.started": "2022-01-19T23:25:00.706093Z"
    }
   },
   "outputs": [],
   "source": [
    "jupyter_settings()"
   ]
  },
  {
   "cell_type": "markdown",
   "metadata": {},
   "source": [
    "## 0.2 Loading Data"
   ]
  },
  {
   "cell_type": "code",
   "execution_count": 6,
   "metadata": {
    "ExecuteTime": {
     "end_time": "2021-12-03T21:26:08.810487Z",
     "start_time": "2021-12-03T21:26:08.130325Z"
    },
    "execution": {
     "iopub.execute_input": "2022-01-19T23:25:00.726899Z",
     "iopub.status.busy": "2022-01-19T23:25:00.726606Z",
     "iopub.status.idle": "2022-01-19T23:25:01.730948Z",
     "shell.execute_reply": "2022-01-19T23:25:01.730081Z",
     "shell.execute_reply.started": "2022-01-19T23:25:00.726869Z"
    },
    "scrolled": true
   },
   "outputs": [],
   "source": [
    "df_sales_raw = pd.read_csv(\"/kaggle/input/rossmann-store-sales/train.csv\", low_memory=False)\n",
    "df_store_raw = pd.read_csv(\"/kaggle/input/rossmann-store-sales/store.csv\", low_memory=False)"
   ]
  },
  {
   "cell_type": "code",
   "execution_count": 7,
   "metadata": {
    "ExecuteTime": {
     "end_time": "2021-12-03T21:26:08.825904Z",
     "start_time": "2021-12-03T21:26:08.81189Z"
    },
    "execution": {
     "iopub.execute_input": "2022-01-19T23:25:01.732475Z",
     "iopub.status.busy": "2022-01-19T23:25:01.732256Z",
     "iopub.status.idle": "2022-01-19T23:25:01.751691Z",
     "shell.execute_reply": "2022-01-19T23:25:01.750844Z",
     "shell.execute_reply.started": "2022-01-19T23:25:01.732450Z"
    }
   },
   "outputs": [],
   "source": [
    "df_sales_raw.head()"
   ]
  },
  {
   "cell_type": "code",
   "execution_count": 8,
   "metadata": {
    "ExecuteTime": {
     "end_time": "2021-12-03T21:26:09.032757Z",
     "start_time": "2021-12-03T21:26:08.830393Z"
    },
    "execution": {
     "iopub.execute_input": "2022-01-19T23:25:01.753215Z",
     "iopub.status.busy": "2022-01-19T23:25:01.753014Z",
     "iopub.status.idle": "2022-01-19T23:25:01.769125Z",
     "shell.execute_reply": "2022-01-19T23:25:01.768118Z",
     "shell.execute_reply.started": "2022-01-19T23:25:01.753191Z"
    }
   },
   "outputs": [],
   "source": [
    "df_store_raw.head()"
   ]
  },
  {
   "cell_type": "code",
   "execution_count": 9,
   "metadata": {
    "ExecuteTime": {
     "end_time": "2021-12-03T21:26:09.510497Z",
     "start_time": "2021-12-03T21:26:09.037836Z"
    },
    "execution": {
     "iopub.execute_input": "2022-01-19T23:25:01.771053Z",
     "iopub.status.busy": "2022-01-19T23:25:01.770724Z",
     "iopub.status.idle": "2022-01-19T23:25:02.228821Z",
     "shell.execute_reply": "2022-01-19T23:25:02.227938Z",
     "shell.execute_reply.started": "2022-01-19T23:25:01.771019Z"
    }
   },
   "outputs": [],
   "source": [
    "df_raw = pd.merge(df_sales_raw, df_store_raw, how='left', on='Store')"
   ]
  },
  {
   "cell_type": "markdown",
   "metadata": {},
   "source": [
    "## 0.3 Data Dictionary"
   ]
  },
  {
   "cell_type": "markdown",
   "metadata": {},
   "source": [
    "* **Id** - an Id that represents a (Store, Date) duple within the test set\n",
    "\n",
    "* **Store** - a unique Id for each store\n",
    "\n",
    "* **Sales** - the turnover for any given day (this is what you are predicting)\n",
    "\n",
    "* **Customers** - the number of customers on a given day\n",
    "\n",
    "* **Open** - an indicator for whether the store was open: 0 = closed, 1 = open\n",
    "\n",
    "* **StateHoliday** - indicates a state holiday. Normally all stores, with few exceptions, are closed on state holidays. Note that all schools are closed on public holidays and weekends. a = public holiday, b  Easter holiday, c = Christmas, 0 = None\n",
    "\n",
    "* **SchoolHoliday** - indicates if the (Store, Date) was affected by the closure of public schools\n",
    "\n",
    "* **StoreType** - differentiates between 4 different store models: a, b, c, d\n",
    "\n",
    "* **Assortment** - describes an assortment level: a = basic, b = extra, c = extended\n",
    "\n",
    "* **CompetitionDistance** - distance in meters to the nearest competitor store\n",
    "\n",
    "* **CompetitionOpenSince[Month/Year]** - gives the approximate year and month of the time the nearest competitor was opened\n",
    "\n",
    "* **Promo** - indicates whether a store is running a promo on that day\n",
    "\n",
    "* **Promo2** - Promo2 is a continuing and consecutive promotion for some stores: 0 = store is not participating, 1 = store is participating\n",
    "\n",
    "* **Promo2Since[Year/Week]** - describes the year and calendar week when the store started participating in Promo2\n",
    "\n",
    "* **PromoInterval** - describes the consecutive intervals Promo2 is started, naming the months the promotion is started anew. E.g. \"Feb,May,Aug,Nov\" means each round starts in February, May, August, November of any given year for that store"
   ]
  },
  {
   "cell_type": "markdown",
   "metadata": {},
   "source": [
    "# 1.0 Data Description"
   ]
  },
  {
   "cell_type": "markdown",
   "metadata": {},
   "source": [
    "## 1.1 Rename columns"
   ]
  },
  {
   "cell_type": "code",
   "execution_count": 10,
   "metadata": {
    "ExecuteTime": {
     "end_time": "2021-12-03T21:26:09.57601Z",
     "start_time": "2021-12-03T21:26:09.513221Z"
    },
    "execution": {
     "iopub.execute_input": "2022-01-19T23:25:02.230555Z",
     "iopub.status.busy": "2022-01-19T23:25:02.230256Z",
     "iopub.status.idle": "2022-01-19T23:25:02.533553Z",
     "shell.execute_reply": "2022-01-19T23:25:02.532596Z",
     "shell.execute_reply.started": "2022-01-19T23:25:02.230526Z"
    }
   },
   "outputs": [],
   "source": [
    "df1 = df_raw.copy()"
   ]
  },
  {
   "cell_type": "code",
   "execution_count": 11,
   "metadata": {
    "ExecuteTime": {
     "end_time": "2021-12-03T21:26:09.712771Z",
     "start_time": "2021-12-03T21:26:09.581Z"
    },
    "execution": {
     "iopub.execute_input": "2022-01-19T23:25:02.535004Z",
     "iopub.status.busy": "2022-01-19T23:25:02.534724Z",
     "iopub.status.idle": "2022-01-19T23:25:02.552947Z",
     "shell.execute_reply": "2022-01-19T23:25:02.551969Z",
     "shell.execute_reply.started": "2022-01-19T23:25:02.534974Z"
    }
   },
   "outputs": [],
   "source": [
    "df1.head()"
   ]
  },
  {
   "cell_type": "code",
   "execution_count": 12,
   "metadata": {
    "ExecuteTime": {
     "end_time": "2021-12-03T21:26:09.816325Z",
     "start_time": "2021-12-03T21:26:09.715169Z"
    },
    "execution": {
     "iopub.execute_input": "2022-01-19T23:25:02.554753Z",
     "iopub.status.busy": "2022-01-19T23:25:02.554497Z",
     "iopub.status.idle": "2022-01-19T23:25:02.567596Z",
     "shell.execute_reply": "2022-01-19T23:25:02.566725Z",
     "shell.execute_reply.started": "2022-01-19T23:25:02.554722Z"
    }
   },
   "outputs": [],
   "source": [
    "df1.columns"
   ]
  },
  {
   "cell_type": "code",
   "execution_count": 13,
   "metadata": {
    "ExecuteTime": {
     "end_time": "2021-12-03T21:26:09.926931Z",
     "start_time": "2021-12-03T21:26:09.818944Z"
    },
    "execution": {
     "iopub.execute_input": "2022-01-19T23:25:02.571609Z",
     "iopub.status.busy": "2022-01-19T23:25:02.571061Z",
     "iopub.status.idle": "2022-01-19T23:25:02.580152Z",
     "shell.execute_reply": "2022-01-19T23:25:02.579386Z",
     "shell.execute_reply.started": "2022-01-19T23:25:02.571569Z"
    }
   },
   "outputs": [],
   "source": [
    "oldcols = ['Store', 'DayOfWeek', 'Date', 'Sales', 'Customers', 'Open', 'Promo',\n",
    "       'StateHoliday', 'SchoolHoliday', 'StoreType', 'Assortment',\n",
    "       'CompetitionDistance', 'CompetitionOpenSinceMonth',\n",
    "       'CompetitionOpenSinceYear', 'Promo2', 'Promo2SinceWeek',\n",
    "       'Promo2SinceYear', 'PromoInterval']\n",
    "\n",
    "snakecase = lambda x: inflection.underscore(x)\n",
    "\n",
    "cols_news = list(map(snakecase, oldcols))\n",
    "\n",
    "df1.columns = cols_news"
   ]
  },
  {
   "cell_type": "markdown",
   "metadata": {},
   "source": [
    "## 1.2 Data Exploration"
   ]
  },
  {
   "cell_type": "code",
   "execution_count": 14,
   "metadata": {
    "ExecuteTime": {
     "end_time": "2021-12-03T21:26:10.035092Z",
     "start_time": "2021-12-03T21:26:09.93099Z"
    },
    "execution": {
     "iopub.execute_input": "2022-01-19T23:25:02.582069Z",
     "iopub.status.busy": "2022-01-19T23:25:02.581328Z",
     "iopub.status.idle": "2022-01-19T23:25:02.593363Z",
     "shell.execute_reply": "2022-01-19T23:25:02.592219Z",
     "shell.execute_reply.started": "2022-01-19T23:25:02.582021Z"
    }
   },
   "outputs": [],
   "source": [
    "#Data dimensions\n",
    "\n",
    "print(\"number of rows: {}\".format(len(df1)))\n",
    "print(\"number of columns: {}\".format(df1.shape[1]))"
   ]
  },
  {
   "cell_type": "code",
   "execution_count": 15,
   "metadata": {
    "ExecuteTime": {
     "end_time": "2021-12-03T21:26:10.378417Z",
     "start_time": "2021-12-03T21:26:10.039539Z"
    },
    "execution": {
     "iopub.execute_input": "2022-01-19T23:25:02.595799Z",
     "iopub.status.busy": "2022-01-19T23:25:02.594828Z",
     "iopub.status.idle": "2022-01-19T23:25:02.868327Z",
     "shell.execute_reply": "2022-01-19T23:25:02.867280Z",
     "shell.execute_reply.started": "2022-01-19T23:25:02.595727Z"
    }
   },
   "outputs": [],
   "source": [
    "#Data types\n",
    "\n",
    "df1.info()"
   ]
  },
  {
   "cell_type": "markdown",
   "metadata": {},
   "source": [
    "## 1.3 Dates to datetime"
   ]
  },
  {
   "cell_type": "code",
   "execution_count": 16,
   "metadata": {
    "ExecuteTime": {
     "end_time": "2021-12-03T21:26:10.49354Z",
     "start_time": "2021-12-03T21:26:10.380607Z"
    },
    "execution": {
     "iopub.execute_input": "2022-01-19T23:25:02.869602Z",
     "iopub.status.busy": "2022-01-19T23:25:02.869394Z",
     "iopub.status.idle": "2022-01-19T23:25:03.002683Z",
     "shell.execute_reply": "2022-01-19T23:25:03.001839Z",
     "shell.execute_reply.started": "2022-01-19T23:25:02.869577Z"
    }
   },
   "outputs": [],
   "source": [
    "df1['date'] = pd.to_datetime(df1['date'])"
   ]
  },
  {
   "cell_type": "code",
   "execution_count": 17,
   "metadata": {
    "ExecuteTime": {
     "end_time": "2021-12-03T21:26:10.708542Z",
     "start_time": "2021-12-03T21:26:10.495581Z"
    },
    "execution": {
     "iopub.execute_input": "2022-01-19T23:25:03.004178Z",
     "iopub.status.busy": "2022-01-19T23:25:03.003879Z",
     "iopub.status.idle": "2022-01-19T23:25:03.231686Z",
     "shell.execute_reply": "2022-01-19T23:25:03.230777Z",
     "shell.execute_reply.started": "2022-01-19T23:25:03.004148Z"
    }
   },
   "outputs": [],
   "source": [
    "df1.info()"
   ]
  },
  {
   "cell_type": "markdown",
   "metadata": {},
   "source": [
    "## 1.4 Check and fill NA"
   ]
  },
  {
   "cell_type": "code",
   "execution_count": 18,
   "metadata": {
    "ExecuteTime": {
     "end_time": "2021-12-03T21:26:10.889648Z",
     "start_time": "2021-12-03T21:26:10.712156Z"
    },
    "execution": {
     "iopub.execute_input": "2022-01-19T23:25:03.233389Z",
     "iopub.status.busy": "2022-01-19T23:25:03.233084Z",
     "iopub.status.idle": "2022-01-19T23:25:03.449571Z",
     "shell.execute_reply": "2022-01-19T23:25:03.448776Z",
     "shell.execute_reply.started": "2022-01-19T23:25:03.233346Z"
    },
    "scrolled": true
   },
   "outputs": [],
   "source": [
    "df1.isnull().sum()"
   ]
  },
  {
   "cell_type": "code",
   "execution_count": 19,
   "metadata": {
    "ExecuteTime": {
     "end_time": "2021-12-03T21:26:10.906311Z",
     "start_time": "2021-12-03T21:26:10.891059Z"
    },
    "execution": {
     "iopub.execute_input": "2022-01-19T23:25:03.450956Z",
     "iopub.status.busy": "2022-01-19T23:25:03.450705Z",
     "iopub.status.idle": "2022-01-19T23:25:03.459355Z",
     "shell.execute_reply": "2022-01-19T23:25:03.458241Z",
     "shell.execute_reply.started": "2022-01-19T23:25:03.450928Z"
    }
   },
   "outputs": [],
   "source": [
    "print(df1['competition_distance'].max())\n",
    "print(df1['competition_open_since_year'].max())"
   ]
  },
  {
   "cell_type": "code",
   "execution_count": 20,
   "metadata": {
    "ExecuteTime": {
     "end_time": "2021-12-03T21:27:38.136376Z",
     "start_time": "2021-12-03T21:26:10.910588Z"
    },
    "execution": {
     "iopub.execute_input": "2022-01-19T23:25:03.460695Z",
     "iopub.status.busy": "2022-01-19T23:25:03.460465Z",
     "iopub.status.idle": "2022-01-19T23:26:25.532506Z",
     "shell.execute_reply": "2022-01-19T23:26:25.531529Z",
     "shell.execute_reply.started": "2022-01-19T23:25:03.460667Z"
    },
    "scrolled": true
   },
   "outputs": [],
   "source": [
    "#competition_distance\n",
    "df1['competition_distance'] = df1['competition_distance'].apply(lambda x: 200000 if math.isnan(x) else x)\n",
    "\n",
    "#competition_open_since_month    \n",
    "df1['competition_open_since_month'] = df1.apply(lambda x: x['date'].month if math.isnan(x['competition_open_since_month']) else x['competition_open_since_month'], axis=1)\n",
    "\n",
    "#competition_open_since_year     \n",
    "df1['competition_open_since_year'] = df1.apply(lambda x: x['date'].year if math.isnan(x['competition_open_since_year']) else x['competition_open_since_year'], axis=1)\n",
    "\n",
    "#promo2_since_week         \n",
    "df1['promo2_since_week'] = df1.apply(lambda x: x['date'].week if math.isnan(x['promo2_since_week']) else x['promo2_since_week'], axis=1)\n",
    "\n",
    "#promo2_since_year\n",
    "df1['promo2_since_year'] = df1.apply(lambda x: x['date'].year if math.isnan(x['promo2_since_year']) else x['promo2_since_year'], axis=1)\n",
    "\n",
    "#promo_interval                  \n",
    "\n",
    "month_map = {1: 'Jan', 2: 'Fev', 3:'Mar', 4:'Apr', 5:'May', 6:'Jun', 7: 'Jul', 8:'Aug', 9:'Sep', 10:'Oct', 11:'Nov', 12:'Dec'}\n",
    "\n",
    "df1['promo_interval'].fillna(0, inplace=True)\n",
    "df1['month_map'] = df1['date'].dt.month.map(month_map)\n",
    "df1['is_promo'] = df1[['promo_interval', 'month_map']].apply(lambda x: 0 if x['promo_interval'] == 0 else 1 if x['month_map'] in x['promo_interval'].split(',') else 0, axis=1)"
   ]
  },
  {
   "cell_type": "code",
   "execution_count": 21,
   "metadata": {
    "ExecuteTime": {
     "end_time": "2021-12-03T21:27:38.372283Z",
     "start_time": "2021-12-03T21:27:38.138648Z"
    },
    "execution": {
     "iopub.execute_input": "2022-01-19T23:26:25.533984Z",
     "iopub.status.busy": "2022-01-19T23:26:25.533718Z",
     "iopub.status.idle": "2022-01-19T23:26:25.801425Z",
     "shell.execute_reply": "2022-01-19T23:26:25.800638Z",
     "shell.execute_reply.started": "2022-01-19T23:26:25.533952Z"
    }
   },
   "outputs": [],
   "source": [
    "df1.isnull().sum()"
   ]
  },
  {
   "cell_type": "markdown",
   "metadata": {},
   "source": [
    "## 1.5 Change dtypes"
   ]
  },
  {
   "cell_type": "code",
   "execution_count": 22,
   "metadata": {
    "ExecuteTime": {
     "end_time": "2021-12-03T21:27:38.631329Z",
     "start_time": "2021-12-03T21:27:38.375747Z"
    },
    "execution": {
     "iopub.execute_input": "2022-01-19T23:26:25.802867Z",
     "iopub.status.busy": "2022-01-19T23:26:25.802617Z",
     "iopub.status.idle": "2022-01-19T23:26:26.076557Z",
     "shell.execute_reply": "2022-01-19T23:26:26.075487Z",
     "shell.execute_reply.started": "2022-01-19T23:26:25.802840Z"
    }
   },
   "outputs": [],
   "source": [
    "df1.info()"
   ]
  },
  {
   "cell_type": "code",
   "execution_count": 23,
   "metadata": {
    "ExecuteTime": {
     "end_time": "2021-12-03T21:27:38.678015Z",
     "start_time": "2021-12-03T21:27:38.633308Z"
    },
    "execution": {
     "iopub.execute_input": "2022-01-19T23:26:26.078545Z",
     "iopub.status.busy": "2022-01-19T23:26:26.078165Z",
     "iopub.status.idle": "2022-01-19T23:26:26.129374Z",
     "shell.execute_reply": "2022-01-19T23:26:26.128548Z",
     "shell.execute_reply.started": "2022-01-19T23:26:26.078503Z"
    }
   },
   "outputs": [],
   "source": [
    "df1['competition_open_since_month'] = df1['competition_open_since_month'].astype(int)\n",
    "df1['competition_open_since_year'] = df1['competition_open_since_year'].astype(int)\n",
    "df1['promo2_since_week'] = df1['promo2_since_week'].astype(int)\n",
    "df1['promo2_since_year'] = df1['promo2_since_year'].astype(int)"
   ]
  },
  {
   "cell_type": "code",
   "execution_count": 24,
   "metadata": {
    "ExecuteTime": {
     "end_time": "2021-12-03T21:27:38.988712Z",
     "start_time": "2021-12-03T21:27:38.680502Z"
    },
    "execution": {
     "iopub.execute_input": "2022-01-19T23:26:26.131239Z",
     "iopub.status.busy": "2022-01-19T23:26:26.130725Z",
     "iopub.status.idle": "2022-01-19T23:26:26.396851Z",
     "shell.execute_reply": "2022-01-19T23:26:26.395938Z",
     "shell.execute_reply.started": "2022-01-19T23:26:26.131192Z"
    }
   },
   "outputs": [],
   "source": [
    "df1.info()"
   ]
  },
  {
   "cell_type": "markdown",
   "metadata": {},
   "source": [
    "## 1.6 Descriptive Statistics"
   ]
  },
  {
   "cell_type": "code",
   "execution_count": 25,
   "metadata": {
    "ExecuteTime": {
     "end_time": "2021-12-03T21:27:39.134464Z",
     "start_time": "2021-12-03T21:27:38.990515Z"
    },
    "execution": {
     "iopub.execute_input": "2022-01-19T23:26:26.398269Z",
     "iopub.status.busy": "2022-01-19T23:26:26.398068Z",
     "iopub.status.idle": "2022-01-19T23:26:26.561057Z",
     "shell.execute_reply": "2022-01-19T23:26:26.559973Z",
     "shell.execute_reply.started": "2022-01-19T23:26:26.398243Z"
    }
   },
   "outputs": [],
   "source": [
    "num_attributes = df1.select_dtypes(include=['int64', 'float64'])\n",
    "cat_attributes = df1.select_dtypes(exclude=['int64', 'float64', 'datetime64[ns]'])"
   ]
  },
  {
   "cell_type": "markdown",
   "metadata": {},
   "source": [
    "### 1.6.1 Numerical Attributes"
   ]
  },
  {
   "cell_type": "code",
   "execution_count": 26,
   "metadata": {
    "ExecuteTime": {
     "end_time": "2021-12-03T21:27:39.79229Z",
     "start_time": "2021-12-03T21:27:39.135842Z"
    },
    "execution": {
     "iopub.execute_input": "2022-01-19T23:26:26.562586Z",
     "iopub.status.busy": "2022-01-19T23:26:26.562357Z",
     "iopub.status.idle": "2022-01-19T23:26:27.070479Z",
     "shell.execute_reply": "2022-01-19T23:26:27.069570Z",
     "shell.execute_reply.started": "2022-01-19T23:26:26.562558Z"
    }
   },
   "outputs": [],
   "source": [
    "#Central tendency - mean, median\n",
    "ct1 = pd.DataFrame(num_attributes.apply(np.mean)).transpose()\n",
    "ct2 = pd.DataFrame(num_attributes.apply(np.median)).transpose()\n",
    "\n",
    "#Dispersion - std, min, max, range, skew, kurtosis\n",
    "d1 = pd.DataFrame(num_attributes.apply(np.std)).transpose()\n",
    "d2 = pd.DataFrame(num_attributes.apply(np.min)).transpose()\n",
    "d3 = pd.DataFrame(num_attributes.apply(np.max)).transpose()\n",
    "d4 = pd.DataFrame(num_attributes.apply(lambda x: x.max() - x.min())).transpose()\n",
    "d5 = pd.DataFrame(num_attributes.apply(lambda x: x.skew())).transpose()\n",
    "d6 = pd.DataFrame(num_attributes.apply(lambda x: x.kurtosis())).transpose()\n",
    "\n",
    "#concatenate\n",
    "m = pd.concat([ct1, ct2, d1, d2, d3, d4, d5, d6]).transpose().reset_index()\n",
    "m.columns = ['index', 'mean', 'median', 'std', 'min', 'max', 'range', 'skew', 'kurtosis']"
   ]
  },
  {
   "cell_type": "code",
   "execution_count": 27,
   "metadata": {
    "ExecuteTime": {
     "end_time": "2021-12-03T21:27:39.815685Z",
     "start_time": "2021-12-03T21:27:39.793962Z"
    },
    "execution": {
     "iopub.execute_input": "2022-01-19T23:26:27.072413Z",
     "iopub.status.busy": "2022-01-19T23:26:27.071833Z",
     "iopub.status.idle": "2022-01-19T23:26:27.097582Z",
     "shell.execute_reply": "2022-01-19T23:26:27.096481Z",
     "shell.execute_reply.started": "2022-01-19T23:26:27.072365Z"
    }
   },
   "outputs": [],
   "source": [
    "m"
   ]
  },
  {
   "cell_type": "code",
   "execution_count": 28,
   "metadata": {
    "ExecuteTime": {
     "end_time": "2021-12-03T21:27:45.208582Z",
     "start_time": "2021-12-03T21:27:39.817867Z"
    },
    "execution": {
     "iopub.execute_input": "2022-01-19T23:26:27.099072Z",
     "iopub.status.busy": "2022-01-19T23:26:27.098830Z",
     "iopub.status.idle": "2022-01-19T23:26:31.336800Z",
     "shell.execute_reply": "2022-01-19T23:26:31.334445Z",
     "shell.execute_reply.started": "2022-01-19T23:26:27.099036Z"
    }
   },
   "outputs": [],
   "source": [
    "sns.distplot(x=df1['sales'])"
   ]
  },
  {
   "cell_type": "markdown",
   "metadata": {},
   "source": [
    "### 1.6.2 Categorical attributes"
   ]
  },
  {
   "cell_type": "code",
   "execution_count": 29,
   "metadata": {
    "ExecuteTime": {
     "end_time": "2021-12-03T21:27:45.425522Z",
     "start_time": "2021-12-03T21:27:45.20998Z"
    },
    "execution": {
     "iopub.execute_input": "2022-01-19T23:26:31.338265Z",
     "iopub.status.busy": "2022-01-19T23:26:31.338014Z",
     "iopub.status.idle": "2022-01-19T23:26:31.588889Z",
     "shell.execute_reply": "2022-01-19T23:26:31.588057Z",
     "shell.execute_reply.started": "2022-01-19T23:26:31.338236Z"
    }
   },
   "outputs": [],
   "source": [
    "cat_attributes.apply(lambda x: x.unique().shape[0])"
   ]
  },
  {
   "cell_type": "code",
   "execution_count": 30,
   "metadata": {
    "ExecuteTime": {
     "end_time": "2021-12-03T21:27:46.136018Z",
     "start_time": "2021-12-03T21:27:45.427245Z"
    },
    "execution": {
     "iopub.execute_input": "2022-01-19T23:26:31.590267Z",
     "iopub.status.busy": "2022-01-19T23:26:31.590059Z",
     "iopub.status.idle": "2022-01-19T23:26:32.261575Z",
     "shell.execute_reply": "2022-01-19T23:26:32.260737Z",
     "shell.execute_reply.started": "2022-01-19T23:26:31.590241Z"
    }
   },
   "outputs": [],
   "source": [
    "aux1 = df1[(df1['state_holiday'] != '0') & (df1['sales'] > 0)]\n",
    "\n",
    "plt.subplot(1, 3, 1)\n",
    "sns.boxplot(x='state_holiday', y='sales', data=aux1)\n",
    "\n",
    "plt.subplot(1, 3, 2)\n",
    "sns.boxplot(x='store_type', y='sales', data=aux1)\n",
    "\n",
    "plt.subplot(1, 3, 3)\n",
    "sns.boxplot(x='assortment', y='sales', data=aux1)"
   ]
  },
  {
   "cell_type": "markdown",
   "metadata": {},
   "source": [
    "# 2.0 Feature Engineering"
   ]
  },
  {
   "cell_type": "code",
   "execution_count": 2,
   "metadata": {
    "ExecuteTime": {
     "end_time": "2021-12-03T21:27:46.200906Z",
     "start_time": "2021-12-03T21:27:46.137962Z"
    },
    "execution": {
     "iopub.execute_input": "2022-01-19T23:26:32.263395Z",
     "iopub.status.busy": "2022-01-19T23:26:32.263135Z",
     "iopub.status.idle": "2022-01-19T23:26:32.379634Z",
     "shell.execute_reply": "2022-01-19T23:26:32.378649Z",
     "shell.execute_reply.started": "2022-01-19T23:26:32.263365Z"
    }
   },
   "outputs": [
    {
     "ename": "NameError",
     "evalue": "name 'df1' is not defined",
     "output_type": "error",
     "traceback": [
      "\u001b[0;31m---------------------------------------------------------------------------\u001b[0m",
      "\u001b[0;31mNameError\u001b[0m                                 Traceback (most recent call last)",
      "\u001b[0;32m/tmp/ipykernel_219725/88049716.py\u001b[0m in \u001b[0;36m<module>\u001b[0;34m\u001b[0m\n\u001b[0;32m----> 1\u001b[0;31m \u001b[0mdf2\u001b[0m \u001b[0;34m=\u001b[0m \u001b[0mdf1\u001b[0m\u001b[0;34m.\u001b[0m\u001b[0mcopy\u001b[0m\u001b[0;34m(\u001b[0m\u001b[0;34m)\u001b[0m\u001b[0;34m\u001b[0m\u001b[0;34m\u001b[0m\u001b[0m\n\u001b[0m",
      "\u001b[0;31mNameError\u001b[0m: name 'df1' is not defined"
     ]
    }
   ],
   "source": [
    "df2 = df1.copy()"
   ]
  },
  {
   "cell_type": "code",
   "execution_count": 32,
   "metadata": {
    "ExecuteTime": {
     "end_time": "2021-12-03T21:27:46.519787Z",
     "start_time": "2021-12-03T21:27:46.202807Z"
    },
    "execution": {
     "iopub.execute_input": "2022-01-19T23:26:32.381124Z",
     "iopub.status.busy": "2022-01-19T23:26:32.380868Z",
     "iopub.status.idle": "2022-01-19T23:26:32.385800Z",
     "shell.execute_reply": "2022-01-19T23:26:32.384827Z",
     "shell.execute_reply.started": "2022-01-19T23:26:32.381094Z"
    }
   },
   "outputs": [],
   "source": [
    "#Image(\"/home/mvrcosp/repos/DSP/Rossmann/img/EngMindMapHypothesis.png\")"
   ]
  },
  {
   "cell_type": "markdown",
   "metadata": {},
   "source": [
    "## 2.1 Brainstorming Business Hypothesis to validate with data!"
   ]
  },
  {
   "cell_type": "markdown",
   "metadata": {},
   "source": [
    "### 2.1.1 Store Hypothesis"
   ]
  },
  {
   "cell_type": "markdown",
   "metadata": {},
   "source": [
    "**1.** Stores with a bigger number of employees should sell more.\n",
    "\n",
    "**2.** Stores with a bigger stock size should sell more.\n",
    "\n",
    "**3.** Stores with a bigger size should sell more.\n",
    "\n",
    "**4.** Stores with local competitors should sell less.\n",
    "\n",
    "**5.** Stores with longer-term competitors should sell more.\n",
    "\n",
    "**6.** Stores with bigger assortment should sell more."
   ]
  },
  {
   "cell_type": "markdown",
   "metadata": {},
   "source": [
    "### 2.1.2 Product Hypothesis"
   ]
  },
  {
   "cell_type": "markdown",
   "metadata": {},
   "source": [
    "**1.** Stores that invest in marketing strategies should sell more.\n",
    "\n",
    "**2.** Stores that showcase their product better should sell more.\n",
    "\n",
    "**3.** Stores with cheaper products should sell more.\n",
    "\n",
    "**4.** Stores that perform more agressive promos should sell more.\n",
    "\n",
    "**5.** Stores that keep their promos active for longer periods should sell more.\n",
    "\n",
    "**6** Stores with consecutive promos should sell more."
   ]
  },
  {
   "cell_type": "markdown",
   "metadata": {},
   "source": [
    "### 2.1.3 Sazonality Hypothesis"
   ]
  },
  {
   "cell_type": "markdown",
   "metadata": {},
   "source": [
    "**1.** Stores that open during christmas season should sell more.\n",
    "\n",
    "**2.** Stores should sell more over the years.\n",
    "\n",
    "**3.** Stores should sell more at the 2nd semester of the year.\n",
    "\n",
    "**4.** Stores should sell more at the beginning of each month.\n",
    "\n",
    "**5.** Stores should sell more on weekends.\n",
    "\n",
    "**6.** Stores should sell less on school holidays."
   ]
  },
  {
   "cell_type": "markdown",
   "metadata": {},
   "source": [
    "## 2.2 Final Business Hypothesis List"
   ]
  },
  {
   "cell_type": "markdown",
   "metadata": {
    "ExecuteTime": {
     "end_time": "2021-11-12T00:13:28.237475Z",
     "start_time": "2021-11-12T00:13:28.116349Z"
    }
   },
   "source": [
    "**H1.** Stores with bigger assortment should sell more.\n",
    "\n",
    "**H2.** Stores with local competitors should sell less.\n",
    "\n",
    "**H3.** Stores with longer-term competitors should sell more.\n",
    "\n",
    "**H4.** Stores that keep their promos active for longer periods should sell more.\n",
    "\n",
    "**H5.** Stores with consecutive promos should sell more.\n",
    "\n",
    "**H6.** Stores that open during christmas season should sell more.\n",
    "\n",
    "**H7.** Stores should sell more over the years.\n",
    "\n",
    "**H8.** Stores should sell more at the 2nd semester of the year.\n",
    "\n",
    "**H9.** Stores should sell more at the beginning of each month.\n",
    "\n",
    "**H10.** Stores should sell less on weekends.\n",
    "\n",
    "**H11.** Stores should sell less on school holidays."
   ]
  },
  {
   "cell_type": "markdown",
   "metadata": {},
   "source": [
    "## 2.3 Feature Engineering"
   ]
  },
  {
   "cell_type": "code",
   "execution_count": 33,
   "metadata": {
    "ExecuteTime": {
     "end_time": "2021-12-03T21:28:46.8059Z",
     "start_time": "2021-12-03T21:27:46.523171Z"
    },
    "execution": {
     "iopub.execute_input": "2022-01-19T23:26:32.387169Z",
     "iopub.status.busy": "2022-01-19T23:26:32.386974Z",
     "iopub.status.idle": "2022-01-19T23:27:24.828894Z",
     "shell.execute_reply": "2022-01-19T23:27:24.828051Z",
     "shell.execute_reply.started": "2022-01-19T23:26:32.387145Z"
    }
   },
   "outputs": [],
   "source": [
    "df2['date'] = pd.to_datetime(df2['date'])\n",
    "\n",
    "# year\n",
    "df2['year'] = df2['date'].dt.year\n",
    "\n",
    "# month\n",
    "df2['month'] = df2['date'].dt.month\n",
    "\n",
    "# day\n",
    "df2['day'] = df2['date'].dt.day\n",
    "\n",
    "# Week of year\n",
    "df2['week_of_year'] = df2['date'].dt.weekofyear\n",
    "\n",
    "#year week\n",
    "df2['year_week'] = df2['date'].dt.strftime('%Y-%W')\n",
    "\n",
    "#competition since\n",
    "df2['competition_since'] = df2.apply( lambda x: datetime.datetime( year=x['competition_open_since_year'], month=x['competition_open_since_month'],day=1 ), axis=1 )\n",
    "df2['competition_time_month'] = ( ( df2['date'] - df2['competition_since'] )/30 ).apply( lambda x: x.days ).astype( int )\n",
    "\n",
    "# promo since\n",
    "df2['promo_since'] = df2['promo2_since_year'].astype( str ) + '-' + df2['promo2_since_week'].astype( str )\n",
    "df2['promo_since'] = df2['promo_since'].apply( lambda x: datetime.datetime.strptime( x + '-1', '%Y-%W-%w' ) - datetime.timedelta( days=7 ) )\n",
    "df2['promo_time_week'] = ( ( df2['date'] - df2['promo_since'] )/7 ).apply( lambda x: x.days ).astype( int )\n",
    "\n",
    "# assortment\n",
    "df2['assortment'] = df2['assortment'].apply( lambda x: 'basic' if x == 'a' else 'extra' if x == 'b' else 'extended' )\n",
    "\n",
    "# state holiday\n",
    "df2['state_holiday'] = df2['state_holiday'].apply( lambda x: 'public_holiday' if x == 'a' else 'easter_holiday' if x == 'b' else 'christmas' if x == 'c' else 'regular_day' )"
   ]
  },
  {
   "cell_type": "markdown",
   "metadata": {},
   "source": [
    "# 3.0 Data Filtering"
   ]
  },
  {
   "cell_type": "code",
   "execution_count": 1,
   "metadata": {
    "ExecuteTime": {
     "end_time": "2021-12-03T21:28:46.915227Z",
     "start_time": "2021-12-03T21:28:46.807259Z"
    },
    "execution": {
     "iopub.execute_input": "2022-01-19T23:27:24.830607Z",
     "iopub.status.busy": "2022-01-19T23:27:24.830143Z",
     "iopub.status.idle": "2022-01-19T23:27:25.118917Z",
     "shell.execute_reply": "2022-01-19T23:27:25.118051Z",
     "shell.execute_reply.started": "2022-01-19T23:27:24.830563Z"
    }
   },
   "outputs": [
    {
     "ename": "NameError",
     "evalue": "name 'df2' is not defined",
     "output_type": "error",
     "traceback": [
      "\u001b[0;31m---------------------------------------------------------------------------\u001b[0m",
      "\u001b[0;31mNameError\u001b[0m                                 Traceback (most recent call last)",
      "\u001b[0;32m/tmp/ipykernel_219725/1107505982.py\u001b[0m in \u001b[0;36m<module>\u001b[0;34m\u001b[0m\n\u001b[0;32m----> 1\u001b[0;31m \u001b[0mdf3\u001b[0m \u001b[0;34m=\u001b[0m \u001b[0mdf2\u001b[0m\u001b[0;34m.\u001b[0m\u001b[0mcopy\u001b[0m\u001b[0;34m(\u001b[0m\u001b[0;34m)\u001b[0m\u001b[0;34m\u001b[0m\u001b[0;34m\u001b[0m\u001b[0m\n\u001b[0m",
      "\u001b[0;31mNameError\u001b[0m: name 'df2' is not defined"
     ]
    }
   ],
   "source": [
    "df3 = df2.copy()"
   ]
  },
  {
   "cell_type": "code",
   "execution_count": 35,
   "metadata": {
    "ExecuteTime": {
     "end_time": "2021-12-03T21:28:47.578627Z",
     "start_time": "2021-12-03T21:28:46.916832Z"
    },
    "execution": {
     "iopub.execute_input": "2022-01-19T23:27:25.120433Z",
     "iopub.status.busy": "2022-01-19T23:27:25.120135Z",
     "iopub.status.idle": "2022-01-19T23:27:25.267408Z",
     "shell.execute_reply": "2022-01-19T23:27:25.266579Z",
     "shell.execute_reply.started": "2022-01-19T23:27:25.120396Z"
    }
   },
   "outputs": [],
   "source": [
    "df3 = df3[(df3[\"open\"] != 0) & (df3['sales'] > 0)]"
   ]
  },
  {
   "cell_type": "code",
   "execution_count": 36,
   "metadata": {
    "ExecuteTime": {
     "end_time": "2021-12-03T21:28:47.681541Z",
     "start_time": "2021-12-03T21:28:47.580068Z"
    },
    "execution": {
     "iopub.execute_input": "2022-01-19T23:27:25.268595Z",
     "iopub.status.busy": "2022-01-19T23:27:25.268401Z",
     "iopub.status.idle": "2022-01-19T23:27:25.356498Z",
     "shell.execute_reply": "2022-01-19T23:27:25.355670Z",
     "shell.execute_reply.started": "2022-01-19T23:27:25.268572Z"
    }
   },
   "outputs": [],
   "source": [
    "cols_drop = ['customers', 'open', 'promo_interval', 'month_map']\n",
    "df3.drop(cols_drop, inplace=True, axis=1)"
   ]
  },
  {
   "cell_type": "code",
   "execution_count": 37,
   "metadata": {
    "ExecuteTime": {
     "end_time": "2021-12-03T21:28:47.895967Z",
     "start_time": "2021-12-03T21:28:47.683184Z"
    },
    "execution": {
     "iopub.execute_input": "2022-01-19T23:27:25.358289Z",
     "iopub.status.busy": "2022-01-19T23:27:25.357821Z",
     "iopub.status.idle": "2022-01-19T23:27:25.377518Z",
     "shell.execute_reply": "2022-01-19T23:27:25.376543Z",
     "shell.execute_reply.started": "2022-01-19T23:27:25.358245Z"
    }
   },
   "outputs": [],
   "source": [
    "df3.head()"
   ]
  },
  {
   "cell_type": "code",
   "execution_count": 38,
   "metadata": {
    "ExecuteTime": {
     "end_time": "2021-12-03T21:28:47.997042Z",
     "start_time": "2021-12-03T21:28:47.899306Z"
    },
    "execution": {
     "iopub.execute_input": "2022-01-19T23:27:25.379329Z",
     "iopub.status.busy": "2022-01-19T23:27:25.378976Z",
     "iopub.status.idle": "2022-01-19T23:27:25.391794Z",
     "shell.execute_reply": "2022-01-19T23:27:25.390976Z",
     "shell.execute_reply.started": "2022-01-19T23:27:25.379294Z"
    },
    "scrolled": true
   },
   "outputs": [],
   "source": [
    "df3.dtypes"
   ]
  },
  {
   "cell_type": "markdown",
   "metadata": {},
   "source": [
    "# 4.0 Exploratory Data Analysis"
   ]
  },
  {
   "cell_type": "code",
   "execution_count": 39,
   "metadata": {
    "ExecuteTime": {
     "end_time": "2021-12-03T21:28:48.199187Z",
     "start_time": "2021-12-03T21:28:48.000274Z"
    },
    "execution": {
     "iopub.execute_input": "2022-01-19T23:27:25.394442Z",
     "iopub.status.busy": "2022-01-19T23:27:25.393840Z",
     "iopub.status.idle": "2022-01-19T23:27:25.495819Z",
     "shell.execute_reply": "2022-01-19T23:27:25.494950Z",
     "shell.execute_reply.started": "2022-01-19T23:27:25.394313Z"
    }
   },
   "outputs": [],
   "source": [
    "df4 = df3.copy()"
   ]
  },
  {
   "cell_type": "markdown",
   "metadata": {},
   "source": [
    "## 4.1 Univariate analysis"
   ]
  },
  {
   "cell_type": "markdown",
   "metadata": {},
   "source": [
    "### 4.1.1 Target Variable"
   ]
  },
  {
   "cell_type": "code",
   "execution_count": 40,
   "metadata": {
    "ExecuteTime": {
     "end_time": "2021-12-03T21:28:48.588494Z",
     "start_time": "2021-12-03T21:28:48.200624Z"
    },
    "execution": {
     "iopub.execute_input": "2022-01-19T23:27:25.502404Z",
     "iopub.status.busy": "2022-01-19T23:27:25.502148Z",
     "iopub.status.idle": "2022-01-19T23:27:25.913566Z",
     "shell.execute_reply": "2022-01-19T23:27:25.912958Z",
     "shell.execute_reply.started": "2022-01-19T23:27:25.502374Z"
    }
   },
   "outputs": [],
   "source": [
    "sns.distplot(df4['sales'], kde=False)"
   ]
  },
  {
   "cell_type": "markdown",
   "metadata": {},
   "source": [
    "### 4.1.2 Numerical Variables"
   ]
  },
  {
   "cell_type": "code",
   "execution_count": 41,
   "metadata": {
    "ExecuteTime": {
     "end_time": "2021-12-03T21:28:52.924707Z",
     "start_time": "2021-12-03T21:28:48.590328Z"
    },
    "execution": {
     "iopub.execute_input": "2022-01-19T23:27:25.914948Z",
     "iopub.status.busy": "2022-01-19T23:27:25.914586Z",
     "iopub.status.idle": "2022-01-19T23:27:28.855511Z",
     "shell.execute_reply": "2022-01-19T23:27:28.854854Z",
     "shell.execute_reply.started": "2022-01-19T23:27:25.914919Z"
    }
   },
   "outputs": [],
   "source": [
    "num_attributes.hist(bins=25)\n",
    "plt.show()"
   ]
  },
  {
   "cell_type": "markdown",
   "metadata": {
    "heading_collapsed": true
   },
   "source": [
    "### 4.1.3 Categorical Variables"
   ]
  },
  {
   "cell_type": "code",
   "execution_count": 42,
   "metadata": {
    "ExecuteTime": {
     "end_time": "2021-12-03T21:29:21.507524Z",
     "start_time": "2021-12-03T21:28:52.926938Z"
    },
    "execution": {
     "iopub.execute_input": "2022-01-19T23:27:28.856976Z",
     "iopub.status.busy": "2022-01-19T23:27:28.856583Z",
     "iopub.status.idle": "2022-01-19T23:27:49.790318Z",
     "shell.execute_reply": "2022-01-19T23:27:49.789695Z",
     "shell.execute_reply.started": "2022-01-19T23:27:28.856946Z"
    },
    "hidden": true,
    "scrolled": true
   },
   "outputs": [],
   "source": [
    "# state_holiday\n",
    "plt.subplot( 3, 2, 1 )\n",
    "a = df4[df4['state_holiday'] != 'regular_day']\n",
    "sns.countplot( x = 'state_holiday', data = a )\n",
    "\n",
    "plt.subplot( 3, 2, 2 )\n",
    "sns.kdeplot( df4[df4['state_holiday'] == 'public_holiday']['sales'], label='public_holiday', shade=True )\n",
    "sns.kdeplot( df4[df4['state_holiday'] == 'easter_holiday']['sales'], label='easter_holiday', shade=True )\n",
    "sns.kdeplot( df4[df4['state_holiday'] == 'christmas']['sales'], label='christmas', shade=True )\n",
    "\n",
    "# store_type\n",
    "plt.subplot( 3, 2, 3 )\n",
    "sns.countplot(x = 'store_type', data = df4)\n",
    "\n",
    "plt.subplot( 3, 2, 4 )\n",
    "sns.kdeplot( df4[df4['store_type'] == 'a']['sales'], label='a', shade=True )\n",
    "sns.kdeplot( df4[df4['store_type'] == 'b']['sales'], label='b', shade=True )\n",
    "sns.kdeplot( df4[df4['store_type'] == 'c']['sales'], label='c', shade=True )\n",
    "sns.kdeplot( df4[df4['store_type'] == 'd']['sales'], label='d', shade=True )\n",
    "\n",
    "# assortment\n",
    "plt.subplot( 3, 2, 5 )\n",
    "sns.countplot( x = 'assortment', data = df4)\n",
    "\n",
    "plt.subplot( 3, 2, 6 )\n",
    "sns.kdeplot( df4[df4['assortment'] == 'extended']['sales'], label='extended', shade=True )\n",
    "sns.kdeplot( df4[df4['assortment'] == 'basic']['sales'], label='basic', shade=True )\n",
    "sns.kdeplot( df4[df4['assortment'] == 'extra']['sales'], label='extra', shade=True )\n",
    "\n",
    "plt.show()"
   ]
  },
  {
   "cell_type": "markdown",
   "metadata": {},
   "source": [
    "## 4.2 Bivariate Analysis - Validating Business Hypothesis"
   ]
  },
  {
   "cell_type": "markdown",
   "metadata": {
    "heading_collapsed": true
   },
   "source": [
    "### 4.2.1 - H1 - Stores with bigger assortment should sell more.\n",
    "\n",
    "**False:** Stores with extended assortment do sell more than stores with basic assortment, but, stores that sell the most are the ones with only \"extra\" assortment (mot extended)."
   ]
  },
  {
   "cell_type": "code",
   "execution_count": 43,
   "metadata": {
    "ExecuteTime": {
     "end_time": "2021-12-03T21:29:21.84983Z",
     "start_time": "2021-12-03T21:29:21.510332Z"
    },
    "execution": {
     "iopub.execute_input": "2022-01-19T23:27:49.791814Z",
     "iopub.status.busy": "2022-01-19T23:27:49.791404Z",
     "iopub.status.idle": "2022-01-19T23:27:50.073688Z",
     "shell.execute_reply": "2022-01-19T23:27:50.072839Z",
     "shell.execute_reply.started": "2022-01-19T23:27:49.791769Z"
    },
    "hidden": true
   },
   "outputs": [],
   "source": [
    "aux421_1 = df4[['assortment', 'sales']].groupby('assortment').mean().reset_index()\n",
    "sns.barplot(x = 'assortment', y ='sales', data = aux421_1)"
   ]
  },
  {
   "cell_type": "code",
   "execution_count": 44,
   "metadata": {
    "ExecuteTime": {
     "end_time": "2021-12-03T21:29:22.384762Z",
     "start_time": "2021-12-03T21:29:21.851702Z"
    },
    "execution": {
     "iopub.execute_input": "2022-01-19T23:27:50.075349Z",
     "iopub.status.busy": "2022-01-19T23:27:50.075041Z",
     "iopub.status.idle": "2022-01-19T23:27:50.614051Z",
     "shell.execute_reply": "2022-01-19T23:27:50.613014Z",
     "shell.execute_reply.started": "2022-01-19T23:27:50.075308Z"
    },
    "hidden": true
   },
   "outputs": [],
   "source": [
    "aux421_2 = df4[['year_week', 'assortment', 'sales']].groupby(['year_week', 'assortment']).mean().reset_index()\n",
    "aux421_2.pivot(index='year_week', columns='assortment', values='sales').plot()"
   ]
  },
  {
   "cell_type": "code",
   "execution_count": 45,
   "metadata": {
    "ExecuteTime": {
     "end_time": "2021-12-03T21:29:22.703567Z",
     "start_time": "2021-12-03T21:29:22.387835Z"
    },
    "execution": {
     "iopub.execute_input": "2022-01-19T23:27:50.615660Z",
     "iopub.status.busy": "2022-01-19T23:27:50.615399Z",
     "iopub.status.idle": "2022-01-19T23:27:50.934967Z",
     "shell.execute_reply": "2022-01-19T23:27:50.933914Z",
     "shell.execute_reply.started": "2022-01-19T23:27:50.615627Z"
    },
    "hidden": true
   },
   "outputs": [],
   "source": [
    "aux421_2[aux421_2['assortment'] =='extra'].plot()"
   ]
  },
  {
   "cell_type": "markdown",
   "metadata": {
    "heading_collapsed": true
   },
   "source": [
    "### 4.2.2 - H2 - Stores with local competitors should sell less.\n",
    "**False:** Stores with competitors close by, in reality, sell more."
   ]
  },
  {
   "cell_type": "code",
   "execution_count": 46,
   "metadata": {
    "ExecuteTime": {
     "end_time": "2021-12-03T21:29:24.470543Z",
     "start_time": "2021-12-03T21:29:22.705115Z"
    },
    "execution": {
     "iopub.execute_input": "2022-01-19T23:27:50.936239Z",
     "iopub.status.busy": "2022-01-19T23:27:50.936039Z",
     "iopub.status.idle": "2022-01-19T23:27:51.885614Z",
     "shell.execute_reply": "2022-01-19T23:27:51.885042Z",
     "shell.execute_reply.started": "2022-01-19T23:27:50.936215Z"
    },
    "hidden": true
   },
   "outputs": [],
   "source": [
    "aux422_1 = df4[['competition_distance', 'sales']].groupby('competition_distance').sum().reset_index()\n",
    "\n",
    "plt.subplot(1, 3, 1)\n",
    "sns.scatterplot(x='competition_distance', y='sales', data=aux422_1)\n",
    "\n",
    "\n",
    "plt.subplot(1, 3, 2)\n",
    "bins = list(np.arange(0, 20000, 1000))\n",
    "aux422_1['competition_distance_binned'] = pd.cut(aux422_1['competition_distance'], bins = bins)\n",
    "aux422_2 = aux422_1[['competition_distance_binned', 'sales']].groupby('competition_distance_binned').sum().reset_index()\n",
    "sns.barplot(x='competition_distance_binned', y='sales', data=aux422_2)\n",
    "plt.xticks(rotation=45)\n",
    "\n",
    "plt.subplot(1, 3, 3)\n",
    "heat = sns.heatmap(aux422_1.corr(method='pearson'), annot=True)\n",
    "\n",
    "plt.show()"
   ]
  },
  {
   "cell_type": "markdown",
   "metadata": {
    "heading_collapsed": true
   },
   "source": [
    "### 4.2.3 - H3 - Stores with longer-term competitors should sell more.\n",
    "**False:** In reality, stores with longer-term competitiors sell less."
   ]
  },
  {
   "cell_type": "code",
   "execution_count": 47,
   "metadata": {
    "ExecuteTime": {
     "end_time": "2021-12-03T21:29:30.179806Z",
     "start_time": "2021-12-03T21:29:24.473305Z"
    },
    "execution": {
     "iopub.execute_input": "2022-01-19T23:27:51.886776Z",
     "iopub.status.busy": "2022-01-19T23:27:51.886469Z",
     "iopub.status.idle": "2022-01-19T23:27:55.660720Z",
     "shell.execute_reply": "2022-01-19T23:27:55.659854Z",
     "shell.execute_reply.started": "2022-01-19T23:27:51.886748Z"
    },
    "hidden": true
   },
   "outputs": [],
   "source": [
    "aux423_1 = df4[['competition_time_month', 'sales']].groupby( 'competition_time_month' ).sum().reset_index()\n",
    "aux423_2 = aux423_1[( aux423_1['competition_time_month'] < 120 ) & ( aux423_1['competition_time_month'] != 0 )]\n",
    "sns.barplot( x='competition_time_month', y='sales', data=aux423_2 );\n",
    "plt.xticks( rotation=90 );"
   ]
  },
  {
   "cell_type": "code",
   "execution_count": 48,
   "metadata": {
    "ExecuteTime": {
     "end_time": "2021-12-03T21:29:30.686971Z",
     "start_time": "2021-12-03T21:29:30.181826Z"
    },
    "execution": {
     "iopub.execute_input": "2022-01-19T23:27:55.662222Z",
     "iopub.status.busy": "2022-01-19T23:27:55.661978Z",
     "iopub.status.idle": "2022-01-19T23:27:56.362227Z",
     "shell.execute_reply": "2022-01-19T23:27:56.361363Z",
     "shell.execute_reply.started": "2022-01-19T23:27:55.662192Z"
    },
    "hidden": true,
    "scrolled": true
   },
   "outputs": [],
   "source": [
    "plt.subplot( 1, 2, 1 )\n",
    "sns.scatterplot( x='competition_time_month', y='sales', data=aux423_2 );\n",
    "\n",
    "plt.subplot( 1, 2, 2 )\n",
    "x = sns.heatmap( aux423_1.corr( method='pearson'), annot=True );"
   ]
  },
  {
   "cell_type": "markdown",
   "metadata": {},
   "source": [
    "### 4.2.4 - H4 - Stores that keep their promos active for longer periods should sell more.\n",
    "\n",
    "**False:** Actually sales start to drop after a few weeks in promotion."
   ]
  },
  {
   "cell_type": "code",
   "execution_count": 49,
   "metadata": {
    "ExecuteTime": {
     "end_time": "2021-12-03T21:29:51.757098Z",
     "start_time": "2021-12-03T21:29:30.688885Z"
    },
    "execution": {
     "iopub.execute_input": "2022-01-19T23:27:56.363731Z",
     "iopub.status.busy": "2022-01-19T23:27:56.363505Z",
     "iopub.status.idle": "2022-01-19T23:28:10.647199Z",
     "shell.execute_reply": "2022-01-19T23:28:10.644149Z",
     "shell.execute_reply.started": "2022-01-19T23:27:56.363703Z"
    }
   },
   "outputs": [],
   "source": [
    "aux424_1 = df4[['promo_time_week', 'sales']].groupby( 'promo_time_week').sum().reset_index()\n",
    "\n",
    "grid = GridSpec( 2, 3 )\n",
    "\n",
    "plt.subplot( grid[0,0] )\n",
    "aux424_2 = aux424_1[aux424_1['promo_time_week'] > 0] # promo extendido\n",
    "sns.barplot( x='promo_time_week', y='sales', data=aux424_2 );\n",
    "plt.xticks( rotation=90 );\n",
    "\n",
    "plt.subplot( grid[0,1] )\n",
    "sns.regplot( x='promo_time_week', y='sales', data=aux424_2 );\n",
    "\n",
    "plt.subplot( grid[1,0] )\n",
    "aux424_3 = aux424_1[aux424_1['promo_time_week'] < 0] # promo regular\n",
    "sns.barplot( x='promo_time_week', y='sales', data=aux424_3 );\n",
    "plt.xticks( rotation=90 );\n",
    "\n",
    "plt.subplot( grid[1,1] )\n",
    "sns.regplot( x='promo_time_week', y='sales', data=aux424_3 );\n",
    "\n",
    "plt.subplot( grid[:,2] )\n",
    "sns.heatmap( aux424_1.corr( method='pearson' ), annot=True );"
   ]
  },
  {
   "cell_type": "markdown",
   "metadata": {
    "heading_collapsed": true
   },
   "source": [
    "### 4.2.5 - H5 - Stores with consecutive promos should sell more.\n",
    "\n",
    "**False:** Stores with consecutive promos actually sell less than stores with only promo 1."
   ]
  },
  {
   "cell_type": "code",
   "execution_count": 50,
   "metadata": {
    "ExecuteTime": {
     "end_time": "2021-12-03T21:29:51.812063Z",
     "start_time": "2021-12-03T21:29:51.758665Z"
    },
    "execution": {
     "iopub.execute_input": "2022-01-19T23:28:10.648984Z",
     "iopub.status.busy": "2022-01-19T23:28:10.648661Z",
     "iopub.status.idle": "2022-01-19T23:28:10.729948Z",
     "shell.execute_reply": "2022-01-19T23:28:10.729069Z",
     "shell.execute_reply.started": "2022-01-19T23:28:10.648942Z"
    },
    "hidden": true
   },
   "outputs": [],
   "source": [
    "df4[['promo', 'promo2', 'sales']].groupby( ['promo', 'promo2'] ).sum().sort_values(by='sales').reset_index()"
   ]
  },
  {
   "cell_type": "code",
   "execution_count": 51,
   "metadata": {
    "ExecuteTime": {
     "end_time": "2021-12-03T21:29:52.542486Z",
     "start_time": "2021-12-03T21:29:51.813674Z"
    },
    "execution": {
     "iopub.execute_input": "2022-01-19T23:28:10.731698Z",
     "iopub.status.busy": "2022-01-19T23:28:10.731261Z",
     "iopub.status.idle": "2022-01-19T23:28:11.222410Z",
     "shell.execute_reply": "2022-01-19T23:28:11.221068Z",
     "shell.execute_reply.started": "2022-01-19T23:28:10.731658Z"
    },
    "hidden": true
   },
   "outputs": [],
   "source": [
    " aux425_1 = df4[( df4['promo'] == 1 ) & ( df4['promo2'] == 1 )][['year_week', 'sales']].groupby( 'year_week' ).sum().reset_index()\n",
    "ax = aux425_1.plot()\n",
    "\n",
    "aux425_2 = df4[( df4['promo'] == 1 ) & ( df4['promo2'] == 0 )][['year_week', 'sales']].groupby( 'year_week' ).sum().reset_index()\n",
    "aux425_2.plot( ax=ax )\n",
    "\n",
    "ax.legend( labels=['Promo 1 & Promo 2', 'Promo 1']);"
   ]
  },
  {
   "cell_type": "markdown",
   "metadata": {
    "heading_collapsed": true
   },
   "source": [
    "### 4.2.6 - H6 - Stores that open during christmas season should sell more.\n",
    "\n",
    "**False:** Public holidays sell better than christmas. Sorry santa :("
   ]
  },
  {
   "cell_type": "code",
   "execution_count": 52,
   "metadata": {
    "ExecuteTime": {
     "end_time": "2021-12-03T21:29:52.995281Z",
     "start_time": "2021-12-03T21:29:52.544511Z"
    },
    "execution": {
     "iopub.execute_input": "2022-01-19T23:28:11.225817Z",
     "iopub.status.busy": "2022-01-19T23:28:11.224551Z",
     "iopub.status.idle": "2022-01-19T23:28:11.678911Z",
     "shell.execute_reply": "2022-01-19T23:28:11.678308Z",
     "shell.execute_reply.started": "2022-01-19T23:28:11.225751Z"
    },
    "hidden": true
   },
   "outputs": [],
   "source": [
    "aux426_1 = df4[df4['state_holiday'] != 'regular_day']\n",
    "\n",
    "plt.subplot( 1, 2, 1 )\n",
    "aux426_2 = aux426_1[['state_holiday', 'sales']].groupby( 'state_holiday' ).sum().reset_index()\n",
    "sns.barplot( x='state_holiday', y='sales', data=aux426_2 );\n",
    "\n",
    "plt.subplot( 1, 2, 2 )\n",
    "aux426_3 = aux426_1[['year', 'state_holiday', 'sales']].groupby( ['year', 'state_holiday'] ).sum().reset_index()\n",
    "sns.barplot( x='year', y='sales', hue='state_holiday', data=aux426_3 ); "
   ]
  },
  {
   "cell_type": "markdown",
   "metadata": {
    "ExecuteTime": {
     "end_time": "2021-11-21T21:55:22.159359Z",
     "start_time": "2021-11-21T21:55:22.150538Z"
    },
    "heading_collapsed": true
   },
   "source": [
    "### 4.2.7 - H7 - Stores should sell more over the years.\n",
    "\n",
    "**False:** Stores are selling less over the years."
   ]
  },
  {
   "cell_type": "code",
   "execution_count": 53,
   "metadata": {
    "ExecuteTime": {
     "end_time": "2021-12-03T21:29:53.916715Z",
     "start_time": "2021-12-03T21:29:52.996803Z"
    },
    "execution": {
     "iopub.execute_input": "2022-01-19T23:28:11.680533Z",
     "iopub.status.busy": "2022-01-19T23:28:11.679809Z",
     "iopub.status.idle": "2022-01-19T23:28:12.482214Z",
     "shell.execute_reply": "2022-01-19T23:28:12.481311Z",
     "shell.execute_reply.started": "2022-01-19T23:28:11.680499Z"
    },
    "hidden": true
   },
   "outputs": [],
   "source": [
    " aux427_1 = df4[['year', 'sales']].groupby( 'year' ).sum().reset_index()\n",
    "\n",
    "plt.subplot( 1, 3, 1 )\n",
    "sns.barplot( x='year', y='sales', data=aux427_1 );\n",
    "\n",
    "plt.subplot( 1, 3, 2 )\n",
    "sns.regplot( x='year', y='sales', data=aux427_1 );\n",
    "\n",
    "plt.subplot( 1, 3, 3 )\n",
    "sns.heatmap( aux427_1.corr( method='pearson' ), annot=True );"
   ]
  },
  {
   "cell_type": "markdown",
   "metadata": {
    "heading_collapsed": true
   },
   "source": [
    "### 4.2.8 - H8 - Stores should sell more at the 2nd semester of the year.\n",
    "\n",
    "**False:** Stores sell more at first semester of the year."
   ]
  },
  {
   "cell_type": "code",
   "execution_count": 54,
   "metadata": {
    "ExecuteTime": {
     "end_time": "2021-12-03T21:29:54.922654Z",
     "start_time": "2021-12-03T21:29:53.919123Z"
    },
    "execution": {
     "iopub.execute_input": "2022-01-19T23:28:12.483501Z",
     "iopub.status.busy": "2022-01-19T23:28:12.483294Z",
     "iopub.status.idle": "2022-01-19T23:28:13.328526Z",
     "shell.execute_reply": "2022-01-19T23:28:13.327720Z",
     "shell.execute_reply.started": "2022-01-19T23:28:12.483477Z"
    },
    "hidden": true
   },
   "outputs": [],
   "source": [
    "aux428_1 = df4[['month', 'sales']].groupby( 'month' ).sum().reset_index()\n",
    "\n",
    "plt.subplot( 1, 3, 1 )\n",
    "sns.barplot( x='month', y='sales', data=aux428_1 );\n",
    "\n",
    "plt.subplot( 1, 3, 2 )\n",
    "sns.regplot( x='month', y='sales', data=aux428_1 );\n",
    "\n",
    "plt.subplot( 1, 3, 3 )\n",
    "sns.heatmap( aux428_1.corr( method='pearson' ), annot=True );"
   ]
  },
  {
   "cell_type": "markdown",
   "metadata": {
    "heading_collapsed": true
   },
   "source": [
    "### 4.2.9 - H9 - Stores should sell more at the beginning of each month.\n",
    "\n",
    "**True:** Stores do sell a little bit more at the beginning of the month."
   ]
  },
  {
   "cell_type": "code",
   "execution_count": 55,
   "metadata": {
    "ExecuteTime": {
     "end_time": "2021-12-03T21:29:56.640862Z",
     "start_time": "2021-12-03T21:29:54.926444Z"
    },
    "execution": {
     "iopub.execute_input": "2022-01-19T23:28:13.329775Z",
     "iopub.status.busy": "2022-01-19T23:28:13.329572Z",
     "iopub.status.idle": "2022-01-19T23:28:14.835234Z",
     "shell.execute_reply": "2022-01-19T23:28:14.834585Z",
     "shell.execute_reply.started": "2022-01-19T23:28:13.329749Z"
    },
    "hidden": true
   },
   "outputs": [],
   "source": [
    "plt.subplot(1, 2, 1)\n",
    "aux429_1 = df4[['year', 'month', 'day', 'sales']].groupby(['year', 'month', 'day']).sum().reset_index()\n",
    "sns.barplot(x='day', y='sales', data=aux429_1)\n",
    "\n",
    "plt.subplot(1, 2, 2)\n",
    "bins = list(np.arange(0, 40, 10))\n",
    "aux429_1['days_binned'] = pd.cut(aux429_1['day'], bins = bins)\n",
    "sns.barplot(x='days_binned', y='sales', data=aux429_1)"
   ]
  },
  {
   "cell_type": "markdown",
   "metadata": {
    "heading_collapsed": true
   },
   "source": [
    "### 4.2.10 - H10 - Stores should sell less on weekends.\n",
    "\n",
    "**True:** Stores DO sell less on weekends compared to weekdays."
   ]
  },
  {
   "cell_type": "code",
   "execution_count": 56,
   "metadata": {
    "ExecuteTime": {
     "end_time": "2021-12-03T21:29:57.458086Z",
     "start_time": "2021-12-03T21:29:56.648243Z"
    },
    "execution": {
     "iopub.execute_input": "2022-01-19T23:28:14.837018Z",
     "iopub.status.busy": "2022-01-19T23:28:14.836212Z",
     "iopub.status.idle": "2022-01-19T23:28:15.659228Z",
     "shell.execute_reply": "2022-01-19T23:28:15.658654Z",
     "shell.execute_reply.started": "2022-01-19T23:28:14.836983Z"
    },
    "hidden": true,
    "scrolled": true
   },
   "outputs": [],
   "source": [
    "aux4210_1 = df4[['day_of_week', 'sales']].groupby( 'day_of_week' ).sum().reset_index()\n",
    "\n",
    "plt.subplot( 1, 3, 1 )\n",
    "sns.barplot( x='day_of_week', y='sales', data=aux4210_1 );\n",
    "\n",
    "plt.subplot( 1, 3, 2 )\n",
    "sns.regplot( x='day_of_week', y='sales', data=aux4210_1 );\n",
    "\n",
    "plt.subplot( 1, 3, 3 )\n",
    "sns.heatmap( aux4210_1.corr( method='pearson' ), annot=True );"
   ]
  },
  {
   "cell_type": "markdown",
   "metadata": {
    "heading_collapsed": true
   },
   "source": [
    "### 4.2.11 - H11 - Stores should sell less on school holidays.\n",
    "\n",
    "**True:** Stores do sell less on school holidays. August is the only month where school holidays actually sell more."
   ]
  },
  {
   "cell_type": "code",
   "execution_count": 57,
   "metadata": {
    "ExecuteTime": {
     "end_time": "2021-12-03T21:29:58.167711Z",
     "start_time": "2021-12-03T21:29:57.46137Z"
    },
    "execution": {
     "iopub.execute_input": "2022-01-19T23:28:15.660478Z",
     "iopub.status.busy": "2022-01-19T23:28:15.660114Z",
     "iopub.status.idle": "2022-01-19T23:28:16.239603Z",
     "shell.execute_reply": "2022-01-19T23:28:16.238835Z",
     "shell.execute_reply.started": "2022-01-19T23:28:15.660444Z"
    },
    "hidden": true
   },
   "outputs": [],
   "source": [
    "aux4211_1 = df4[['school_holiday', 'sales']].groupby( 'school_holiday' ).sum().reset_index()\n",
    "plt.subplot( 2, 1, 1 )\n",
    "sns.barplot( x='school_holiday', y='sales', data=aux4211_1 );\n",
    "\n",
    "aux4211_2 = df4[['month', 'school_holiday', 'sales']].groupby( ['month','school_holiday'] ).sum().reset_index()\n",
    "plt.subplot( 2, 1, 2 )\n",
    "sns.barplot( x='month', y='sales', hue='school_holiday', data=aux4211_2 );"
   ]
  },
  {
   "cell_type": "markdown",
   "metadata": {},
   "source": [
    "### 4.2.12 - Final Hypothesis table"
   ]
  },
  {
   "cell_type": "code",
   "execution_count": 58,
   "metadata": {
    "ExecuteTime": {
     "end_time": "2021-12-03T21:29:58.256818Z",
     "start_time": "2021-12-03T21:29:58.1694Z"
    },
    "execution": {
     "iopub.execute_input": "2022-01-19T23:28:16.241162Z",
     "iopub.status.busy": "2022-01-19T23:28:16.240891Z",
     "iopub.status.idle": "2022-01-19T23:28:16.251903Z",
     "shell.execute_reply": "2022-01-19T23:28:16.251112Z",
     "shell.execute_reply.started": "2022-01-19T23:28:16.241123Z"
    }
   },
   "outputs": [],
   "source": [
    "from tabulate import tabulate"
   ]
  },
  {
   "cell_type": "code",
   "execution_count": 59,
   "metadata": {
    "ExecuteTime": {
     "end_time": "2021-12-03T21:29:58.364083Z",
     "start_time": "2021-12-03T21:29:58.258339Z"
    },
    "execution": {
     "iopub.execute_input": "2022-01-19T23:28:16.253678Z",
     "iopub.status.busy": "2022-01-19T23:28:16.253103Z",
     "iopub.status.idle": "2022-01-19T23:28:16.261145Z",
     "shell.execute_reply": "2022-01-19T23:28:16.260166Z",
     "shell.execute_reply.started": "2022-01-19T23:28:16.253647Z"
    }
   },
   "outputs": [],
   "source": [
    "tab =[['Hypothesis', 'Conclusion', 'Relevance'],\n",
    "      ['H1', 'False', 'Low'],  \n",
    "      ['H2', 'False', 'Medium'],  \n",
    "      ['H3', 'False', 'Medium'],\n",
    "      ['H4', 'False', 'Low'],\n",
    "      ['H5', 'False', 'Low'],\n",
    "      ['H6', 'False', 'Medium'],\n",
    "      ['H7', 'False', 'High'],\n",
    "      ['H8', 'True', 'High'],\n",
    "      ['H9', 'True', 'High'],\n",
    "      ['H10', 'True', 'High'],\n",
    "      ['H11', 'True', 'Low']]  \n",
    "\n",
    "print(tabulate(tab, headers='firstrow'))"
   ]
  },
  {
   "cell_type": "markdown",
   "metadata": {},
   "source": [
    "## 4.3 Multivariate Analysis"
   ]
  },
  {
   "cell_type": "markdown",
   "metadata": {},
   "source": [
    "### 4.3.1 Numerical Attributes"
   ]
  },
  {
   "cell_type": "code",
   "execution_count": 60,
   "metadata": {
    "ExecuteTime": {
     "end_time": "2021-12-03T21:30:00.697754Z",
     "start_time": "2021-12-03T21:29:58.368275Z"
    },
    "execution": {
     "iopub.execute_input": "2022-01-19T23:28:16.264166Z",
     "iopub.status.busy": "2022-01-19T23:28:16.263540Z",
     "iopub.status.idle": "2022-01-19T23:28:18.559133Z",
     "shell.execute_reply": "2022-01-19T23:28:18.558320Z",
     "shell.execute_reply.started": "2022-01-19T23:28:16.264129Z"
    }
   },
   "outputs": [],
   "source": [
    "correlation = num_attributes.corr(method='pearson')\n",
    "sns.heatmap(correlation, annot=True)"
   ]
  },
  {
   "cell_type": "markdown",
   "metadata": {},
   "source": [
    "### 4.3.2 Categorial Attributes"
   ]
  },
  {
   "cell_type": "code",
   "execution_count": 61,
   "metadata": {
    "ExecuteTime": {
     "end_time": "2021-12-03T21:30:00.976574Z",
     "start_time": "2021-12-03T21:30:00.699827Z"
    },
    "execution": {
     "iopub.execute_input": "2022-01-19T23:28:18.561278Z",
     "iopub.status.busy": "2022-01-19T23:28:18.560749Z",
     "iopub.status.idle": "2022-01-19T23:28:18.624736Z",
     "shell.execute_reply": "2022-01-19T23:28:18.623873Z",
     "shell.execute_reply.started": "2022-01-19T23:28:18.561239Z"
    }
   },
   "outputs": [],
   "source": [
    "b = df4.select_dtypes('object')\n",
    "b.drop('year_week', axis=1, inplace=True)"
   ]
  },
  {
   "cell_type": "code",
   "execution_count": 62,
   "metadata": {
    "ExecuteTime": {
     "end_time": "2021-12-03T21:30:02.951768Z",
     "start_time": "2021-12-03T21:30:00.980603Z"
    },
    "execution": {
     "iopub.execute_input": "2022-01-19T23:28:18.626799Z",
     "iopub.status.busy": "2022-01-19T23:28:18.626293Z",
     "iopub.status.idle": "2022-01-19T23:28:20.360798Z",
     "shell.execute_reply": "2022-01-19T23:28:20.359933Z",
     "shell.execute_reply.started": "2022-01-19T23:28:18.626735Z"
    }
   },
   "outputs": [],
   "source": [
    "#Calculte Cramer V\n",
    "\n",
    "b1 = cramer_v( b['state_holiday'], b['state_holiday'] )\n",
    "b2 = cramer_v( b['state_holiday'], b['store_type'] )\n",
    "b3 = cramer_v( b['state_holiday'], b['assortment'] )\n",
    "\n",
    "b4 = cramer_v( b['store_type'], b['state_holiday'] )\n",
    "b5 = cramer_v( b['store_type'], b['store_type'] )\n",
    "b6 = cramer_v( b['store_type'], b['assortment'] )\n",
    "\n",
    "b7 = cramer_v( b['assortment'], b['state_holiday'] )\n",
    "b8 = cramer_v( b['assortment'], b['store_type'] )\n",
    "b9 = cramer_v( b['assortment'], b['assortment'] )\n",
    "\n",
    "# Final dataset\n",
    "d = pd.DataFrame( {'state_holiday': [b1, b2, b3], \n",
    "               'store_type': [b4, b5, b6],\n",
    "               'assortment': [b7, b8, b9]  })\n",
    "d = d.set_index( d.columns )\n",
    "\n",
    "sns.heatmap( d, annot=True )"
   ]
  },
  {
   "cell_type": "markdown",
   "metadata": {},
   "source": [
    "# 5.0 Data Preparation"
   ]
  },
  {
   "cell_type": "code",
   "execution_count": 63,
   "metadata": {
    "ExecuteTime": {
     "end_time": "2021-12-03T21:30:03.027933Z",
     "start_time": "2021-12-03T21:30:02.954111Z"
    },
    "execution": {
     "iopub.execute_input": "2022-01-19T23:28:20.362682Z",
     "iopub.status.busy": "2022-01-19T23:28:20.362089Z",
     "iopub.status.idle": "2022-01-19T23:28:20.433880Z",
     "shell.execute_reply": "2022-01-19T23:28:20.432970Z",
     "shell.execute_reply.started": "2022-01-19T23:28:20.362640Z"
    }
   },
   "outputs": [],
   "source": [
    "df5 = df4.copy()"
   ]
  },
  {
   "cell_type": "markdown",
   "metadata": {},
   "source": [
    "## 5.1 Rescaling (Numerical Attributes)"
   ]
  },
  {
   "cell_type": "code",
   "execution_count": 64,
   "metadata": {
    "ExecuteTime": {
     "end_time": "2021-12-03T21:30:03.213724Z",
     "start_time": "2021-12-03T21:30:03.032359Z"
    },
    "execution": {
     "iopub.execute_input": "2022-01-19T23:28:20.435330Z",
     "iopub.status.busy": "2022-01-19T23:28:20.435109Z",
     "iopub.status.idle": "2022-01-19T23:28:20.501082Z",
     "shell.execute_reply": "2022-01-19T23:28:20.500155Z",
     "shell.execute_reply.started": "2022-01-19T23:28:20.435303Z"
    }
   },
   "outputs": [],
   "source": [
    "a = df5.select_dtypes(include=['int64', 'float64'])\n",
    "a.head()"
   ]
  },
  {
   "cell_type": "code",
   "execution_count": 65,
   "metadata": {
    "ExecuteTime": {
     "end_time": "2021-12-03T21:30:03.749164Z",
     "start_time": "2021-12-03T21:30:03.216391Z"
    },
    "execution": {
     "iopub.execute_input": "2022-01-19T23:28:20.502586Z",
     "iopub.status.busy": "2022-01-19T23:28:20.502374Z",
     "iopub.status.idle": "2022-01-19T23:28:20.725719Z",
     "shell.execute_reply": "2022-01-19T23:28:20.724763Z",
     "shell.execute_reply.started": "2022-01-19T23:28:20.502560Z"
    }
   },
   "outputs": [],
   "source": [
    " rs = RobustScaler()\n",
    "mms = MinMaxScaler()\n",
    "\n",
    "# competition distance\n",
    "df5['competition_distance'] = rs.fit_transform( df5[['competition_distance']].values )\n",
    "#pickle.dump( rs, open( '/home/mvrcosp/repos/DSP/Rossmann/Pickles/competition_distance_scaler.pkl', 'wb') )\n",
    "\n",
    "# competition time month\n",
    "df5['competition_time_month'] = rs.fit_transform( df5[['competition_time_month']].values )\n",
    "#pickle.dump( rs, open( '/home/mvrcosp/repos/DSP/Rossmann/Pickles/competition_time_month_scaler.pkl', 'wb') )\n",
    "\n",
    "# promo time week\n",
    "df5['promo_time_week'] = mms.fit_transform( df5[['promo_time_week']].values )\n",
    "#pickle.dump( rs, open( '/home/mvrcosp/repos/DSP/Rossmann/Pickles/promo_time_week_scaler.pkl', 'wb') )\n",
    "\n",
    "# year\n",
    "df5['year'] = mms.fit_transform( df5[['year']].values )\n",
    "#pickle.dump( mms, open( '/home/mvrcosp/repos/DSP/Rossmann/Pickles/year_scaler.pkl', 'wb') )"
   ]
  },
  {
   "cell_type": "markdown",
   "metadata": {},
   "source": [
    "## 5.2 Encoding (Categorical Attributes)"
   ]
  },
  {
   "cell_type": "code",
   "execution_count": 66,
   "metadata": {
    "ExecuteTime": {
     "end_time": "2021-12-03T21:30:03.774846Z",
     "start_time": "2021-12-03T21:30:03.751137Z"
    },
    "execution": {
     "iopub.execute_input": "2022-01-19T23:28:20.727065Z",
     "iopub.status.busy": "2022-01-19T23:28:20.726812Z",
     "iopub.status.idle": "2022-01-19T23:28:20.748504Z",
     "shell.execute_reply": "2022-01-19T23:28:20.747853Z",
     "shell.execute_reply.started": "2022-01-19T23:28:20.727035Z"
    }
   },
   "outputs": [],
   "source": [
    "df5.head()"
   ]
  },
  {
   "cell_type": "code",
   "execution_count": 67,
   "metadata": {
    "ExecuteTime": {
     "end_time": "2021-12-03T21:30:04.63265Z",
     "start_time": "2021-12-03T21:30:03.776895Z"
    },
    "execution": {
     "iopub.execute_input": "2022-01-19T23:28:20.750063Z",
     "iopub.status.busy": "2022-01-19T23:28:20.749647Z",
     "iopub.status.idle": "2022-01-19T23:28:21.233904Z",
     "shell.execute_reply": "2022-01-19T23:28:21.233117Z",
     "shell.execute_reply.started": "2022-01-19T23:28:20.750027Z"
    }
   },
   "outputs": [],
   "source": [
    " # state_holiday - One Hot Encoding\n",
    "df5 = pd.get_dummies(df5, prefix=['state_holiday'], columns=['state_holiday'])\n",
    "\n",
    "# store_type - Label Encoding\n",
    "le = LabelEncoder()\n",
    "df5['store_type'] = le.fit_transform( df5['store_type'] )\n",
    "#pickle.dump( le, open( '/home/mvrcosp/repos/DSP/Rossmann/Pickles/store_type_scaler.pkl', 'wb') )\n",
    "\n",
    "# assortment - Ordinal Encoding\n",
    "assortment_dict = {'basic': 1,  'extra': 2, 'extended': 3}\n",
    "df5['assortment'] = df5['assortment'].map( assortment_dict )"
   ]
  },
  {
   "cell_type": "markdown",
   "metadata": {},
   "source": [
    "## 5.3 Target Variable Transformation (Logarithm Transformation)"
   ]
  },
  {
   "cell_type": "code",
   "execution_count": 68,
   "metadata": {
    "ExecuteTime": {
     "end_time": "2021-12-03T21:30:04.67394Z",
     "start_time": "2021-12-03T21:30:04.635507Z"
    },
    "execution": {
     "iopub.execute_input": "2022-01-19T23:28:21.235003Z",
     "iopub.status.busy": "2022-01-19T23:28:21.234747Z",
     "iopub.status.idle": "2022-01-19T23:28:21.261027Z",
     "shell.execute_reply": "2022-01-19T23:28:21.260140Z",
     "shell.execute_reply.started": "2022-01-19T23:28:21.234976Z"
    }
   },
   "outputs": [],
   "source": [
    "df5['sales'] = np.log1p( df5['sales'] )"
   ]
  },
  {
   "cell_type": "code",
   "execution_count": 69,
   "metadata": {
    "ExecuteTime": {
     "end_time": "2021-12-03T21:30:09.146258Z",
     "start_time": "2021-12-03T21:30:04.677348Z"
    },
    "execution": {
     "iopub.execute_input": "2022-01-19T23:28:21.262350Z",
     "iopub.status.busy": "2022-01-19T23:28:21.262125Z",
     "iopub.status.idle": "2022-01-19T23:28:24.782675Z",
     "shell.execute_reply": "2022-01-19T23:28:24.781805Z",
     "shell.execute_reply.started": "2022-01-19T23:28:21.262325Z"
    }
   },
   "outputs": [],
   "source": [
    "sns.distplot(df5.sales)"
   ]
  },
  {
   "cell_type": "markdown",
   "metadata": {},
   "source": [
    "## 5.4 Dealing With the Cyclic Nature of Time"
   ]
  },
  {
   "cell_type": "code",
   "execution_count": 70,
   "metadata": {
    "ExecuteTime": {
     "end_time": "2021-12-03T21:30:21.268844Z",
     "start_time": "2021-12-03T21:30:09.148539Z"
    },
    "execution": {
     "iopub.execute_input": "2022-01-19T23:28:24.784502Z",
     "iopub.status.busy": "2022-01-19T23:28:24.784180Z",
     "iopub.status.idle": "2022-01-19T23:28:33.781676Z",
     "shell.execute_reply": "2022-01-19T23:28:33.780749Z",
     "shell.execute_reply.started": "2022-01-19T23:28:24.784461Z"
    }
   },
   "outputs": [],
   "source": [
    "# day of week\n",
    "df5['day_of_week_sin'] = df5['day_of_week'].apply( lambda x: np.sin( x * ( 2. * np.pi/7 ) ) )\n",
    "df5['day_of_week_cos'] = df5['day_of_week'].apply( lambda x: np.cos( x * ( 2. * np.pi/7 ) ) )\n",
    "\n",
    "# month\n",
    "df5['month_sin'] = df5['month'].apply( lambda x: np.sin( x * ( 2. * np.pi/12 ) ) )\n",
    "df5['month_cos'] = df5['month'].apply( lambda x: np.cos( x * ( 2. * np.pi/12 ) ) )\n",
    "\n",
    "# day \n",
    "df5['day_sin'] = df5['day'].apply( lambda x: np.sin( x * ( 2. * np.pi/30 ) ) )\n",
    "df5['day_cos'] = df5['day'].apply( lambda x: np.cos( x * ( 2. * np.pi/30 ) ) )\n",
    "\n",
    "# week of year\n",
    "df5['week_of_year_sin'] = df5['week_of_year'].apply( lambda x: np.sin( x * ( 2. * np.pi/52 ) ) )\n",
    "df5['week_of_year_cos'] = df5['week_of_year'].apply( lambda x: np.cos( x * ( 2. * np.pi/52 ) ) )"
   ]
  },
  {
   "cell_type": "markdown",
   "metadata": {},
   "source": [
    "# 6.0 Feature Selection"
   ]
  },
  {
   "cell_type": "code",
   "execution_count": 71,
   "metadata": {
    "ExecuteTime": {
     "end_time": "2021-12-03T21:30:21.522225Z",
     "start_time": "2021-12-03T21:30:21.271885Z"
    },
    "execution": {
     "iopub.execute_input": "2022-01-19T23:28:33.783082Z",
     "iopub.status.busy": "2022-01-19T23:28:33.782852Z",
     "iopub.status.idle": "2022-01-19T23:28:34.037632Z",
     "shell.execute_reply": "2022-01-19T23:28:34.036922Z",
     "shell.execute_reply.started": "2022-01-19T23:28:33.783056Z"
    }
   },
   "outputs": [],
   "source": [
    "df6 = df5.copy()"
   ]
  },
  {
   "cell_type": "markdown",
   "metadata": {},
   "source": [
    "## 6.1 Split DataFrame into Traning and Test Dataset"
   ]
  },
  {
   "cell_type": "code",
   "execution_count": 72,
   "metadata": {
    "ExecuteTime": {
     "end_time": "2021-12-03T21:30:22.358472Z",
     "start_time": "2021-12-03T21:30:21.523835Z"
    },
    "execution": {
     "iopub.execute_input": "2022-01-19T23:28:34.039418Z",
     "iopub.status.busy": "2022-01-19T23:28:34.038879Z",
     "iopub.status.idle": "2022-01-19T23:28:34.102577Z",
     "shell.execute_reply": "2022-01-19T23:28:34.101847Z",
     "shell.execute_reply.started": "2022-01-19T23:28:34.039376Z"
    }
   },
   "outputs": [],
   "source": [
    "cols_to_drop = ['week_of_year', 'day', 'month', 'day_of_week', 'promo_since', 'competition_since', 'year_week']\n",
    "df6.drop(cols_to_drop, axis=1, inplace=True)"
   ]
  },
  {
   "cell_type": "code",
   "execution_count": 73,
   "metadata": {
    "ExecuteTime": {
     "end_time": "2021-12-03T21:30:22.609374Z",
     "start_time": "2021-12-03T21:30:22.361797Z"
    },
    "execution": {
     "iopub.execute_input": "2022-01-19T23:28:34.104022Z",
     "iopub.status.busy": "2022-01-19T23:28:34.103817Z",
     "iopub.status.idle": "2022-01-19T23:28:34.204442Z",
     "shell.execute_reply": "2022-01-19T23:28:34.203446Z",
     "shell.execute_reply.started": "2022-01-19T23:28:34.103999Z"
    }
   },
   "outputs": [],
   "source": [
    "# training dataset\n",
    "X_train = df6[df6['date'] < '2015-06-19']\n",
    "y_train = X_train['sales']\n",
    "\n",
    "# test dataset\n",
    "X_test = df6[df6['date'] >= '2015-06-19']\n",
    "y_test = X_test['sales']\n",
    "\n",
    "print( 'Training Min Date: {}'.format( X_train['date'].min() ) )\n",
    "print( 'Training Max Date: {}'.format( X_train['date'].max() ) )\n",
    "\n",
    "print( '\\nTest Min Date: {}'.format( X_test['date'].min() ) )\n",
    "print( 'Test Max Date: {}'.format( X_test['date'].max() ) )"
   ]
  },
  {
   "cell_type": "markdown",
   "metadata": {},
   "source": [
    "## 6.2 Boruta Algorithm to Select Features"
   ]
  },
  {
   "cell_type": "code",
   "execution_count": 74,
   "metadata": {
    "ExecuteTime": {
     "end_time": "2021-12-03T21:30:22.614473Z",
     "start_time": "2021-12-03T21:30:22.611586Z"
    },
    "execution": {
     "iopub.execute_input": "2022-01-19T23:28:34.205934Z",
     "iopub.status.busy": "2022-01-19T23:28:34.205639Z",
     "iopub.status.idle": "2022-01-19T23:28:34.209535Z",
     "shell.execute_reply": "2022-01-19T23:28:34.208816Z",
     "shell.execute_reply.started": "2022-01-19T23:28:34.205904Z"
    }
   },
   "outputs": [],
   "source": [
    "# training and test dataset for Boruta\n",
    "#X_train_n = X_train.drop( ['date', 'sales'], axis=1 ).values\n",
    "#y_train_n = y_train.values.ravel()\n",
    "\n",
    "# define RandomForestRegressor\n",
    "#rf = RandomForestRegressor( n_jobs=-1 )\n",
    "\n",
    "# define Boruta\n",
    "#boruta = BorutaPy( rf, n_estimators='auto', verbose=2, random_state=42 ).fit( X_train_n, y_train_n )"
   ]
  },
  {
   "cell_type": "markdown",
   "metadata": {},
   "source": [
    "### 6.2.1 Best Features from Boruta"
   ]
  },
  {
   "cell_type": "code",
   "execution_count": 75,
   "metadata": {
    "ExecuteTime": {
     "end_time": "2021-12-03T21:30:22.829082Z",
     "start_time": "2021-12-03T21:30:22.61658Z"
    },
    "execution": {
     "iopub.execute_input": "2022-01-19T23:28:34.211072Z",
     "iopub.status.busy": "2022-01-19T23:28:34.210772Z",
     "iopub.status.idle": "2022-01-19T23:28:34.225969Z",
     "shell.execute_reply": "2022-01-19T23:28:34.224975Z",
     "shell.execute_reply.started": "2022-01-19T23:28:34.211043Z"
    }
   },
   "outputs": [],
   "source": [
    "#cols_selected = boruta.support_.tolist()\n",
    "\n",
    "# best features\n",
    "#X_train_fs = X_train.drop( ['date', 'sales'], axis=1 )\n",
    "#cols_selected_boruta = X_train_fs.iloc[:, cols_selected].columns.to_list()\n",
    "\n",
    "# not selected boruta\n",
    "#cols_not_selected_boruta = list( np.setdiff1d( X_train_fs.columns, cols_selected_boruta ) )"
   ]
  },
  {
   "cell_type": "markdown",
   "metadata": {},
   "source": [
    "## 6.3 Manual Feature Selection"
   ]
  },
  {
   "cell_type": "code",
   "execution_count": 76,
   "metadata": {
    "ExecuteTime": {
     "end_time": "2021-12-03T21:30:23.029714Z",
     "start_time": "2021-12-03T21:30:22.831825Z"
    },
    "execution": {
     "iopub.execute_input": "2022-01-19T23:28:34.228838Z",
     "iopub.status.busy": "2022-01-19T23:28:34.228558Z",
     "iopub.status.idle": "2022-01-19T23:28:34.256274Z",
     "shell.execute_reply": "2022-01-19T23:28:34.255227Z",
     "shell.execute_reply.started": "2022-01-19T23:28:34.228792Z"
    }
   },
   "outputs": [],
   "source": [
    "df6.head()"
   ]
  },
  {
   "cell_type": "code",
   "execution_count": 77,
   "metadata": {
    "ExecuteTime": {
     "end_time": "2021-12-03T21:30:23.171947Z",
     "start_time": "2021-12-03T21:30:23.033068Z"
    },
    "execution": {
     "iopub.execute_input": "2022-01-19T23:28:34.258374Z",
     "iopub.status.busy": "2022-01-19T23:28:34.258100Z",
     "iopub.status.idle": "2022-01-19T23:28:34.264608Z",
     "shell.execute_reply": "2022-01-19T23:28:34.263975Z",
     "shell.execute_reply.started": "2022-01-19T23:28:34.258342Z"
    }
   },
   "outputs": [],
   "source": [
    "cols_selected_boruta = [\n",
    "    'store',\n",
    "    'promo',\n",
    "    'store_type',\n",
    "    'assortment',\n",
    "    'competition_distance',\n",
    "    'competition_open_since_month',\n",
    "    'competition_open_since_year',\n",
    "    'promo2',\n",
    "    'promo2_since_week',\n",
    "    'promo2_since_year',\n",
    "    'competition_time_month',\n",
    "    'promo_time_week',\n",
    "    'day_of_week_sin',\n",
    "    'day_of_week_cos',\n",
    "    'month_sin',\n",
    "    'month_cos',\n",
    "    'day_sin',\n",
    "    'day_cos',\n",
    "    'week_of_year_sin',\n",
    "    'week_of_year_cos']\n",
    "\n",
    "# columns to add\n",
    "feat_to_add = ['date', 'sales']\n",
    "\n",
    "cols_selected_boruta_full = cols_selected_boruta.copy()\n",
    "cols_selected_boruta_full.extend( feat_to_add )"
   ]
  },
  {
   "cell_type": "markdown",
   "metadata": {},
   "source": [
    "# 7.0 Model Data"
   ]
  },
  {
   "cell_type": "code",
   "execution_count": 78,
   "metadata": {
    "ExecuteTime": {
     "end_time": "2021-12-03T21:30:23.60297Z",
     "start_time": "2021-12-03T21:30:23.174612Z"
    },
    "execution": {
     "iopub.execute_input": "2022-01-19T23:28:34.266144Z",
     "iopub.status.busy": "2022-01-19T23:28:34.265926Z",
     "iopub.status.idle": "2022-01-19T23:28:34.385762Z",
     "shell.execute_reply": "2022-01-19T23:28:34.384945Z",
     "shell.execute_reply.started": "2022-01-19T23:28:34.266118Z"
    }
   },
   "outputs": [],
   "source": [
    "x_train = X_train[cols_selected_boruta]\n",
    "x_test = X_test[cols_selected_boruta]\n",
    "\n",
    "# Time Series Data Preparation\n",
    "x_training = X_train[cols_selected_boruta_full]"
   ]
  },
  {
   "cell_type": "markdown",
   "metadata": {},
   "source": [
    "## 7.1 Average Model - Baseline"
   ]
  },
  {
   "cell_type": "code",
   "execution_count": 79,
   "metadata": {
    "ExecuteTime": {
     "end_time": "2021-12-03T21:41:28.720497Z",
     "start_time": "2021-12-03T21:41:28.698564Z"
    },
    "execution": {
     "iopub.execute_input": "2022-01-19T23:28:34.387420Z",
     "iopub.status.busy": "2022-01-19T23:28:34.387195Z",
     "iopub.status.idle": "2022-01-19T23:28:34.432737Z",
     "shell.execute_reply": "2022-01-19T23:28:34.432151Z",
     "shell.execute_reply.started": "2022-01-19T23:28:34.387394Z"
    }
   },
   "outputs": [],
   "source": [
    "aux1 = x_test.copy()\n",
    "aux1['sales'] = y_test.copy()\n",
    "\n",
    "# prediction\n",
    "aux2 = aux1[['store', 'sales']].groupby('store').mean().reset_index().rename( columns={'sales': 'predictions'} )\n",
    "aux1 = pd.merge(aux1, aux2, how='left', on='store')\n",
    "yhat_baseline = aux1['predictions']\n",
    "\n",
    "# performance\n",
    "baseline_result = ml_error('Average Model', np.expm1( y_test ), np.expm1( yhat_baseline ))\n",
    "baseline_result"
   ]
  },
  {
   "cell_type": "markdown",
   "metadata": {},
   "source": [
    "## 7.2 Linear Regression Model"
   ]
  },
  {
   "cell_type": "code",
   "execution_count": 80,
   "metadata": {
    "execution": {
     "iopub.execute_input": "2022-01-19T23:28:34.434409Z",
     "iopub.status.busy": "2022-01-19T23:28:34.433823Z",
     "iopub.status.idle": "2022-01-19T23:28:35.014643Z",
     "shell.execute_reply": "2022-01-19T23:28:35.013749Z",
     "shell.execute_reply.started": "2022-01-19T23:28:34.434376Z"
    }
   },
   "outputs": [],
   "source": [
    " # model\n",
    "lr = LinearRegression().fit(x_train, y_train)\n",
    "\n",
    "# prediction\n",
    "yhat_lr = lr.predict(x_test)\n",
    "\n",
    "# performance\n",
    "lr_result = ml_error('Linear Regression', np.expm1( y_test ), np.expm1( yhat_lr ))\n",
    "lr_result"
   ]
  },
  {
   "cell_type": "markdown",
   "metadata": {},
   "source": [
    "### 7.2.1 Linear Regression Model - Cross Validation"
   ]
  },
  {
   "cell_type": "code",
   "execution_count": 81,
   "metadata": {
    "execution": {
     "iopub.execute_input": "2022-01-19T23:28:35.017230Z",
     "iopub.status.busy": "2022-01-19T23:28:35.016570Z",
     "iopub.status.idle": "2022-01-19T23:28:38.202534Z",
     "shell.execute_reply": "2022-01-19T23:28:38.201591Z",
     "shell.execute_reply.started": "2022-01-19T23:28:35.017178Z"
    }
   },
   "outputs": [],
   "source": [
    "lr_result_cv = ts_cross_validation (x_training, 5, \"Linear Regression\", lr, verbose= False)\n",
    "lr_result_cv"
   ]
  },
  {
   "cell_type": "markdown",
   "metadata": {},
   "source": [
    "## 7.3 Linear Regression Regularized Model - Lasso"
   ]
  },
  {
   "cell_type": "code",
   "execution_count": 82,
   "metadata": {
    "execution": {
     "iopub.execute_input": "2022-01-19T23:28:38.205332Z",
     "iopub.status.busy": "2022-01-19T23:28:38.204644Z",
     "iopub.status.idle": "2022-01-19T23:28:38.627888Z",
     "shell.execute_reply": "2022-01-19T23:28:38.627014Z",
     "shell.execute_reply.started": "2022-01-19T23:28:38.205282Z"
    }
   },
   "outputs": [],
   "source": [
    " # model\n",
    "lrr = Lasso(alpha=0.01).fit(x_train, y_train)\n",
    "\n",
    "# prediction\n",
    "yhat_lrr = lrr.predict( x_test )\n",
    "\n",
    "# performance\n",
    "lrr_result = ml_error( 'Linear Regression - Lasso', np.expm1( y_test ), np.expm1( yhat_lrr ) )\n",
    "lrr_result"
   ]
  },
  {
   "cell_type": "markdown",
   "metadata": {},
   "source": [
    "### 7.3.1 Lasso - Cross Validation"
   ]
  },
  {
   "cell_type": "code",
   "execution_count": 83,
   "metadata": {
    "execution": {
     "iopub.execute_input": "2022-01-19T23:28:38.630341Z",
     "iopub.status.busy": "2022-01-19T23:28:38.629709Z",
     "iopub.status.idle": "2022-01-19T23:28:40.873776Z",
     "shell.execute_reply": "2022-01-19T23:28:40.872906Z",
     "shell.execute_reply.started": "2022-01-19T23:28:38.630292Z"
    }
   },
   "outputs": [],
   "source": [
    "lrr_result_cv = ts_cross_validation(x_training, 5, \"Lasso\", lrr, verbose=False)\n",
    "lrr_result_cv"
   ]
  },
  {
   "cell_type": "markdown",
   "metadata": {},
   "source": [
    "## 7.4  Random Forest Regressor"
   ]
  },
  {
   "cell_type": "code",
   "execution_count": 84,
   "metadata": {
    "execution": {
     "iopub.execute_input": "2022-01-19T23:28:40.876050Z",
     "iopub.status.busy": "2022-01-19T23:28:40.875451Z",
     "iopub.status.idle": "2022-01-19T23:42:02.397536Z",
     "shell.execute_reply": "2022-01-19T23:42:02.395894Z",
     "shell.execute_reply.started": "2022-01-19T23:28:40.876006Z"
    }
   },
   "outputs": [],
   "source": [
    " # model\n",
    "rf = RandomForestRegressor(n_estimators=100, random_state=42).fit( x_train, y_train)\n",
    "\n",
    "# prediction\n",
    "yhat_rf = rf.predict(x_test)\n",
    "\n",
    "# performance\n",
    "rf_result = ml_error('Random Forest Regressor', np.expm1(y_test), np.expm1(yhat_rf))\n",
    "rf_result"
   ]
  },
  {
   "cell_type": "markdown",
   "metadata": {},
   "source": [
    "### 7.4.1 Random Forest Regressor - Cross Validation"
   ]
  },
  {
   "cell_type": "code",
   "execution_count": 85,
   "metadata": {
    "execution": {
     "iopub.execute_input": "2022-01-19T23:42:02.401456Z",
     "iopub.status.busy": "2022-01-19T23:42:02.400817Z",
     "iopub.status.idle": "2022-01-20T00:39:29.788534Z",
     "shell.execute_reply": "2022-01-20T00:39:29.787637Z",
     "shell.execute_reply.started": "2022-01-19T23:42:02.401402Z"
    }
   },
   "outputs": [],
   "source": [
    "rf_result_cv = ts_cross_validation(x_training, 5, \"Random Forest Regressor\", rf, verbose=True)\n",
    "rf_result_cv"
   ]
  },
  {
   "cell_type": "markdown",
   "metadata": {},
   "source": [
    "## 7.5  XGBoost Regressor"
   ]
  },
  {
   "cell_type": "code",
   "execution_count": 86,
   "metadata": {
    "execution": {
     "iopub.execute_input": "2022-01-20T00:39:29.790631Z",
     "iopub.status.busy": "2022-01-20T00:39:29.790385Z",
     "iopub.status.idle": "2022-01-20T00:44:32.502736Z",
     "shell.execute_reply": "2022-01-20T00:44:32.501839Z",
     "shell.execute_reply.started": "2022-01-20T00:39:29.790603Z"
    }
   },
   "outputs": [],
   "source": [
    " # model\n",
    "model_xgb = xgb.XGBRegressor(objective='reg:squarederror',\n",
    "                              n_estimators=100, \n",
    "                              eta=0.01, \n",
    "                              max_depth=10, \n",
    "                              subsample=0.7,\n",
    "                              colsample_bytee=0.9).fit(x_train, y_train)\n",
    "\n",
    "# prediction\n",
    "yhat_xgb = model_xgb.predict(x_test)\n",
    "\n",
    "# performance\n",
    "xgb_result = ml_error('XGBoost Regressor', np.expm1(y_test), np.expm1(yhat_xgb ))\n",
    "xgb_result"
   ]
  },
  {
   "cell_type": "markdown",
   "metadata": {},
   "source": [
    "### 7.5.1 XGBoost Regressor - Cross Validation"
   ]
  },
  {
   "cell_type": "code",
   "execution_count": 86,
   "metadata": {
    "execution": {
     "iopub.execute_input": "2022-01-20T00:44:32.504298Z",
     "iopub.status.busy": "2022-01-20T00:44:32.504079Z",
     "iopub.status.idle": "2022-01-20T00:49:44.481987Z",
     "shell.execute_reply": "2022-01-20T00:49:44.480532Z",
     "shell.execute_reply.started": "2022-01-20T00:44:32.504273Z"
    }
   },
   "outputs": [],
   "source": [
    "xgb_result_cv = ts_cross_validation(x_training, 5, 'XGBoost Regressor', model_xgb, verbose=True)\n",
    "xgb_result_cv"
   ]
  },
  {
   "cell_type": "markdown",
   "metadata": {},
   "source": [
    "## 7.6 Comparing Models Performance"
   ]
  },
  {
   "cell_type": "markdown",
   "metadata": {},
   "source": [
    "### 7.6.1 Single Performance"
   ]
  },
  {
   "cell_type": "code",
   "execution_count": null,
   "metadata": {
    "execution": {
     "iopub.status.busy": "2022-01-20T00:49:44.482873Z",
     "iopub.status.idle": "2022-01-20T00:49:44.483211Z",
     "shell.execute_reply": "2022-01-20T00:49:44.483073Z",
     "shell.execute_reply.started": "2022-01-20T00:49:44.483056Z"
    }
   },
   "outputs": [],
   "source": [
    "modelling_result = pd.concat([baseline_result, lr_result, lrr_result, rf_result, xgb_result])\n",
    "modelling_result.sort_values('RMSE')"
   ]
  },
  {
   "cell_type": "markdown",
   "metadata": {},
   "source": [
    "### 7.6.2 Real Performance - Cross Validation"
   ]
  },
  {
   "cell_type": "code",
   "execution_count": null,
   "metadata": {
    "execution": {
     "iopub.status.busy": "2022-01-20T00:49:44.484671Z",
     "iopub.status.idle": "2022-01-20T00:49:44.484983Z",
     "shell.execute_reply": "2022-01-20T00:49:44.484845Z",
     "shell.execute_reply.started": "2022-01-20T00:49:44.484828Z"
    }
   },
   "outputs": [],
   "source": [
    "modelling_result_cv = pd.concat([lr_result_cv, lrr_result_cv, rf_result_cv, xgb_result_cv])\n",
    "modelling_result_cv"
   ]
  },
  {
   "cell_type": "markdown",
   "metadata": {},
   "source": [
    "# 8.0 Hyperparameter fine tuning"
   ]
  },
  {
   "cell_type": "markdown",
   "metadata": {},
   "source": [
    "## 8.1 Random Search"
   ]
  },
  {
   "cell_type": "code",
   "execution_count": null,
   "metadata": {},
   "outputs": [],
   "source": [
    "# Random Search\n",
    "# Grid Search\n",
    "\n",
    "param = {'n_estimators': [int(x) for x in np.linspace(start = 1500, stop = 3500, num = 5)],\n",
    "        'eta': [0.01, 0.03],\n",
    "        'max_depth': [3, 5, 9],,\n",
    "         'subsample': [0.1, 0.5, 0.7],\n",
    "         'colsample_bytree': [0.3, 0.7, 0.9],\n",
    "         'min_child_weight': [3, 8, 15],\n",
    "        }\n",
    "\n",
    "MAX_EVAL = 5"
   ]
  },
  {
   "cell_type": "code",
   "execution_count": null,
   "metadata": {
    "execution": {
     "iopub.status.busy": "2022-01-20T00:49:44.486064Z",
     "iopub.status.idle": "2022-01-20T00:49:44.486382Z",
     "shell.execute_reply": "2022-01-20T00:49:44.486232Z",
     "shell.execute_reply.started": "2022-01-20T00:49:44.486210Z"
    }
   },
   "outputs": [],
   "source": [
    "#final result\n",
    "final_result = pd.DataFrame()\n",
    "\n",
    "for i in range ( MAX_EVAL ):\n",
    "    hp = {k: random.sample (v, 1)[0] for k, v in param.items()}\n",
    "    print(hp)\n",
    "    \n",
    "    model_xgb = xgb.XGBRegressor(objective='reg:squared error',\n",
    "                                n_estimators = hp['n_estimators'],\n",
    "                                 eta = hp['eta'], \n",
    "                                 max_depth = hp['max_depth'],\n",
    "                                 subsample = hp['subsample'],\n",
    "                                 colsample_bytee = hp['colsample_bytee'],\n",
    "                                 min_child_weight = hp['min_child_weight'])\n",
    "    \n",
    "    #performance\n",
    "    \n",
    "    result = cross_validation(x_training, 5, 'XGBoost Regressor', model_xgb, verbose=True)\n",
    "    final_result = pd.concat([final_result, result])"
   ]
  },
  {
   "cell_type": "code",
   "execution_count": null,
   "metadata": {},
   "outputs": [],
   "source": [
    "final_result"
   ]
  },
  {
   "cell_type": "markdown",
   "metadata": {},
   "source": [
    "# 8.2 Final Model"
   ]
  },
  {
   "cell_type": "code",
   "execution_count": null,
   "metadata": {},
   "outputs": [],
   "source": [
    "param_tuned = {\n",
    "    'n_estimators': 3000,\n",
    "    'eta': 0.03,\n",
    "    'max_depth': 5,\n",
    "    'subsample': 0.7,\n",
    "    'colsample_bytree': 0.7,\n",
    "    'min_child_weight': 3\n",
    "}"
   ]
  },
  {
   "cell_type": "code",
   "execution_count": null,
   "metadata": {},
   "outputs": [],
   "source": [
    "model_xgb_tuned = xgb.XGBRegressor(objective='reg:squared error',\n",
    "                                n_estimators = hp['n_estimators'],\n",
    "                                 eta = hp['eta'], \n",
    "                                 max_depth = hp['max_depth'],\n",
    "                                 subsample = hp['subsample'],\n",
    "                                 colsample_bytee = hp['colsample_bytee'],\n",
    "                                 min_child_weight = hp['min_child_weight'])\n",
    "\n",
    "#prediction\n",
    "yhat_xgb_tuned = model_xgb_tuned.predict(x_test)\n",
    "\n",
    "\n",
    "#performance\n",
    "xgb_result_tuned = ml_error('XGBoost Regressor', np.expm1(y_test), np.expm1(yhat_xgb_tuned))\n",
    "xgb _result_tuned\n"
   ]
  },
  {
   "cell_type": "code",
   "execution_count": 87,
   "metadata": {
    "execution": {
     "iopub.execute_input": "2022-01-20T01:29:29.883734Z",
     "iopub.status.busy": "2022-01-20T01:29:29.883391Z",
     "iopub.status.idle": "2022-01-20T01:29:29.904464Z",
     "shell.execute_reply": "2022-01-20T01:29:29.903602Z",
     "shell.execute_reply.started": "2022-01-20T01:29:29.883700Z"
    }
   },
   "outputs": [],
   "source": [
    "mpe = mean_percentage_error ( np.expm1(y_test), np.expm1(yhat_xgb_tuned))\n",
    "mpe"
   ]
  }
 ],
 "metadata": {
  "kernelspec": {
   "display_name": "Python 3 (ipykernel)",
   "language": "python",
   "name": "python3"
  },
  "language_info": {
   "codemirror_mode": {
    "name": "ipython",
    "version": 3
   },
   "file_extension": ".py",
   "mimetype": "text/x-python",
   "name": "python",
   "nbconvert_exporter": "python",
   "pygments_lexer": "ipython3",
   "version": "3.9.7"
  }
 },
 "nbformat": 4,
 "nbformat_minor": 4
}
